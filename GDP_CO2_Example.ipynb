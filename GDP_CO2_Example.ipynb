{
 "metadata": {
  "name": "GDP_CO2_Example"
 },
 "nbformat": 3,
 "worksheets": [
  {
   "cells": [
    {
     "cell_type": "markdown",
     "source": [
      "## IPython + d3.js",
      "",
      "- What is IPython?",
      "",
      "- IPython has mutiple frontend including a web-based frontend",
      "",
      "- The web-based frontend is cool, but it is indeed nothing more than a html document",
      "",
      "- Poeple do all sort of tricks with web/html... Great visulization tool avaiable too, e.g. protovis, d3.js, etc.",
      "",
      "- What if we can combine both, IPython Notebook + d3.js?",
      "",
      "- Yes, one can display some new html element + javascript on the ipython notebook frontend",
      "",
      "- Yes, we can acutally call IPython kernel through Javascript...",
      "",
      "- Yes, it is possible to build some cool \"interactive\" Ipython Notebook",
      "",
      "- More work to be done, the fun is just starting."
     ]
    },
    {
     "cell_type": "markdown",
     "source": [
      "**This note book currently works with the ipython fork on github ",
      "https://github.com/cschin/ipython",
      "commit: 3a34d3b0c4d42bb1ef7b42660b12d429936cb287**"
     ]
    },
    {
     "cell_type": "markdown",
     "source": [
      "## What is IPython?",
      "",
      "IPython has mutiple frontend including a web-based frontend (with cool latex support too, e.g. $S = k \\log \\Omega$.)"
     ]
    },
    {
     "cell_type": "code",
     "collapsed": false,
     "input": [
      "print \"Hello World\"",
      "print 1+1"
     ],
     "language": "python",
     "outputs": [],
     "prompt_number": 1
    },
    {
     "cell_type": "markdown",
     "source": [
      "One can display simple static plot throught `matplotlib/pylab`. (There is a html5 canvans frontend for `matplotlib` (http://code.google.com/p/mplh5canvas/) but I am not aware of any integration work with ipython notebook at this moment."
     ]
    },
    {
     "cell_type": "code",
     "collapsed": false,
     "input": [
      "import numpy as np",
      "x = np.array(range(100))*0.1",
      "plot(x, sin(x))"
     ],
     "language": "python",
     "outputs": [],
     "prompt_number": 2
    },
    {
     "cell_type": "markdown",
     "source": [
      "## Poeple do all sort of tricks with web/html... Great visulization tool avaiable too, e.g. protovis, d3.js, etc.",
      "",
      "http://mbostock.github.com/d3/ #d3.js",
      "",
      "https://github.com/mrdoob/three.js/ #webGL",
      "",
      "http://www.meetup.com/VisualizeMyData/events/47408532/ #a number cool poeple show their visulization work in this meet-up."
     ]
    },
    {
     "cell_type": "markdown",
     "source": [
      "## What if we can combine both, IPython Notebook + d3.js?",
      "",
      "http://mail.scipy.org/pipermail/ipython-dev/2012-January/008683.html"
     ]
    },
    {
     "cell_type": "markdown",
     "source": [
      "Get some data first. (The original data is download from http://www.gapminder.org/)"
     ]
    },
    {
     "cell_type": "code",
     "collapsed": false,
     "input": [
      "import time",
      "",
      "kdata = {}",
      "",
      "def get_data(kd, fn, n):",
      "    with open(fn) as f:",
      "        head = f.readline()",
      "        years = head.strip().split(\",\")[1:]",
      "        for l in f:",
      "            l = l.strip().split(\",\")",
      "            country_name, rdata = l[0],l[1:]",
      "            for i in range(len(rdata)):",
      "                try:",
      "                    year = years[i]",
      "                    d = float(rdata[i])",
      "                    key = country_name, year",
      "                    kd.setdefault(key,[None]*3)",
      "                    kd[key][n] = d",
      "                except:",
      "                    pass",
      "                ",
      "get_data(kdata, \"gm_data/GDPpercapitaconstant2000US.csv\", 0)",
      "get_data(kdata, \"gm_data/indicatorCDIACcarbon_dioxide_emissions_per_capita.csv\", 1)",
      "get_data(kdata, \"gm_data/indicatorgapminderpopulation.csv\", 2)"
     ],
     "language": "python",
     "outputs": [],
     "prompt_number": 3
    },
    {
     "cell_type": "markdown",
     "source": [
      "The data directionary is a simple map from (country, year) to three numbers, GDP per capita, CO2 emissions per capita and population."
     ]
    },
    {
     "cell_type": "code",
     "collapsed": false,
     "input": [
      "kdata.items()[200:210]"
     ],
     "language": "python",
     "outputs": [],
     "prompt_number": 4
    },
    {
     "cell_type": "markdown",
     "source": [
      "## Yes, one can display some new html element + javascript on the ipython notebook frontend"
     ]
    },
    {
     "cell_type": "code",
     "collapsed": true,
     "input": [
      "from IPython.core.display import display_javascript, display_html"
     ],
     "language": "python",
     "outputs": [],
     "prompt_number": 5
    },
    {
     "cell_type": "markdown",
     "source": [
      "Load d3.js (You need to have a d3.js in your ipython installation.) Wait two second to make sure the brower loads it."
     ]
    },
    {
     "cell_type": "code",
     "collapsed": false,
     "input": [
      "display_javascript(\"$.getScript('/static/d3/d3.js')\", raw=True)",
      "time.sleep(2)"
     ],
     "language": "python",
     "outputs": [],
     "prompt_number": 6
    },
    {
     "cell_type": "markdown",
     "source": [
      "Get some place in the ipython notebook to display the plot. Some better design for get some space for a plotting widget should be considered."
     ]
    },
    {
     "cell_type": "code",
     "collapsed": false,
     "input": [
      "display_javascript(\"\"\"$(\"#notebook\").width(750);\"\"\", raw=True)",
      "display_html(\"\"\"<div id=\"chart\" style=\"position:absolute;top:0px;width:500px;left:750px;height:450px;border:2px solid;\"></div>\"\"\", raw=True)",
      "",
      "js=\"\"\"",
      "var svg = d3.select(\"#chart\")",
      "    .append(\"svg\")",
      "    .attr(\"width\", 500)",
      "    .attr(\"height\", 450);",
      "\"\"\"",
      "display_javascript(js, raw=True)"
     ],
     "language": "python",
     "outputs": [],
     "prompt_number": 7
    },
    {
     "cell_type": "markdown",
     "source": [
      "set up the scales for d3.js ( example from http://www.12devsofxmas.co.uk/2012/01/data-visualisation/ )"
     ]
    },
    {
     "cell_type": "code",
     "collapsed": false,
     "input": [
      "maxx = max( d[0] for d in kdata.values() )",
      "maxy = max( d[1] for d in kdata.values() )",
      "",
      "js = \"\"\"",
      "maxx = %f;",
      "maxy = %f; \"\"\" % (maxx, maxy)",
      "display_javascript(js, raw=True)",
      "",
      "js=\"\"\"",
      "vis = d3.select(\"#chart svg\"),",
      "",
      "WIDTH = 500,",
      "HEIGHT = 400,",
      "MARGINS = {top: 20, right: 20, bottom: 20, left: 100},",
      "",
      "xRange = d3.scale",
      "           .log()",
      "           .range ([MARGINS.left, WIDTH - MARGINS.right])",
      "           .domain([10, maxx]),",
      "",
      "yRange = d3.scale",
      "           .log()",
      "           .range ([HEIGHT - MARGINS.top, MARGINS.bottom])",
      "           .domain([0.001, maxy*5]),",
      "",
      "xAxis = d3.svg.axis() // generate an axis",
      ".scale(xRange) // set the range of the axis",
      ".tickSize(5) // height of the ticks",
      ".tickSubdivide(false), // display ticks between text labels",
      "",
      "yAxis = d3.svg.axis() // generate an axis",
      ".scale(yRange) // set the range of the axis",
      ".tickSize(5) // width of the ticks",
      ".orient(\"left\") // have the text labels on the left hand side",
      ".tickSubdivide(false); // display ticks between text labels",
      "",
      "vis.append(\"svg:g\") // add a container for the axis",
      ".attr(\"class\", \"x axis\") // add some classes so we can style it",
      ".attr(\"transform\", \"translate(0,\" + (HEIGHT - MARGINS.bottom) + \")\") // move it into position",
      ".call(xAxis); // finally, add the axis to the visualisation",
      "",
      "vis.append(\"svg:g\")",
      ".attr(\"class\", \"y axis\")",
      ".attr(\"transform\", \"translate(\" + (MARGINS.left) + \",0)\")",
      ".call(yAxis);",
      "",
      "vis = d3.select(\"#chart svg\");",
      "vis.append(\"g\").attr(\"id\", \"datapoints\");",
      "",
      "vis.append(\"text\")",
      "   .attr(\"id\",\"countryname\")",
      "   .attr(\"x\", \"200\")",
      "   .attr(\"y\", \"50\")",
      "   .text(function(d){return \"country\"});",
      "vis.append(\"text\")",
      "   .attr(\"id\",\"year\")",
      "   .attr(\"x\", \"200\")",
      "   .attr(\"y\", \"70\")",
      "   .text(function(d){return \"year\"});",
      "\"\"\"",
      "",
      "display_javascript(js, raw=True)"
     ],
     "language": "python",
     "outputs": [],
     "prompt_number": 8
    },
    {
     "cell_type": "markdown",
     "source": [
      "Set up two text elements to show country name and the year."
     ]
    },
    {
     "cell_type": "code",
     "collapsed": false,
     "input": [
      "js = \"\"\"",
      "update_countryname = function(name) {",
      "    var vis = d3.select(\"#chart svg\");",
      "    vis.selectAll(\"#countryname\")",
      "       .data([name])",
      "       .transition()",
      "       .text(function(d){return d});",
      "}",
      "\"\"\"",
      "display_javascript(js, raw=True)  "
     ],
     "language": "python",
     "outputs": [],
     "prompt_number": 9
    },
    {
     "cell_type": "markdown",
     "source": [
      "The `show_data_for_year()` is a python function that runs on the ipython kernel but ouputs to the ipython notebook fronend. "
     ]
    },
    {
     "cell_type": "code",
     "collapsed": true,
     "input": [
      "import json",
      "",
      "def show_data_for_year(y):",
      "    data_to_show = []",
      "    for k in kdata:",
      "        if k[1] != y:",
      "            continue",
      "        d = kdata[k]",
      "        if d[0] == None: continue",
      "        if d[1] == None: continue",
      "        data_to_show.append([k[0], d[0], d[1]])",
      "",
      "    js=\"\"\"",
      "    vis = d3.select(\"#chart svg\");",
      "    circles = vis.selectAll(\"g#datapoints\")",
      "                 .selectAll(\"circle\")",
      "                 .data(%s, function(d) {return d[0];});",
      "    ",
      "    circles.enter()",
      "           .insert(\"circle\")",
      "           .attr(\"cx\", function(d){return xRange(d[1]);})",
      "           .attr(\"cy\", function(d){return yRange(d[2]);})",
      "           .attr(\"r\", function(d){return 6;})",
      "           .attr(\"fill-opacity\", function(d){return 0.5;})",
      "           .style(\"fill\", \"red\")",
      "           .on(\"mouseover\", function(d) { return update_countryname(d[0]) ;})",
      "           .on(\"mouseout\", function(d) { return update_countryname(\"\") ;}) ;",
      "",
      "    circles.transition()",
      "           .duration(1000)",
      "           .attr(\"cx\", function (d) { return xRange(d[1]); })",
      "           .attr(\"cy\", function (d) { return yRange(d[2]); })",
      "           .attr(\"r\", function (d) { return 6; })",
      "           .style(\"fill\", \"blue\");",
      "    ",
      "    circles.exit ()",
      "           .transition().duration(1000)",
      "           .attr(\"r\", 0)",
      "           .remove();",
      "",
      "    vis.selectAll(\"#year\")",
      "       .data([%s])",
      "       .transition()",
      "       .text(function(d){return d});",
      "",
      "    \"\"\" % (json.dumps(data_to_show), y)",
      "    ",
      "    display_javascript(js, raw=True)"
     ],
     "language": "python",
     "outputs": [],
     "prompt_number": 10
    },
    {
     "cell_type": "markdown",
     "source": [
      "Loop through the years and call the python function `show_data_for_year()` to generate an animation.  This demostrates how to control the frontend html presentation from the python code."
     ]
    },
    {
     "cell_type": "code",
     "collapsed": false,
     "input": [
      "years = set()",
      "for k in kdata:",
      "    if k[1] not in years:",
      "        years.add(k[1])",
      "years = list(years)",
      "years.sort()",
      "",
      "for y in years[-50:-5:2]:",
      "    show_data_for_year(y)",
      "    time.sleep(1)"
     ],
     "language": "python",
     "outputs": [],
     "prompt_number": 11
    },
    {
     "cell_type": "markdown",
     "source": [
      "We can call the python function from the javascript from the browser too.",
      "",
      "The cell below create a number of buttons so one can update the graph by clicking the buttons using the javascript function `IPython.notebook.kernel.execute()`. The function allows one to execute a python function from the javascript. This is acutally how ipython notebook works. When you excute a cell in the ipython notebook, a `IPython.notebook.kernel.execute` is called and the python code is passed to the ipython kernel through websocker + zeromq. ",
      "",
      "The current 0.13-dev branch dose not process any `IPython.notebook.kernel.execute()` call that is not initiated from a \"code cell\". Thus, I have to modify `the notebook.js` and `codecell.js` (https://github.com/cschin/ipython/commit/3a34d3b0c4d42bb1ef7b42660b12d429936cb287) to let the notebook frontend to excute the call directly without using a \"code cell\"."
     ]
    },
    {
     "cell_type": "code",
     "collapsed": false,
     "input": [
      "for y in range(1965,2006,5):",
      "    y = str(y)",
      "    display_javascript(\"\"\"$(\"div#chart\").append(\"<button id='%s'>%s</button>\") \"\"\" % (y, y), raw=True)",
      "    display_javascript(\"\"\"$(\"button#%s\")[0].onclick= ",
      "function () {IPython.notebook.kernel.execute('show_data_for_year(\"%s\")');};\"\"\" % (y,y), raw=True)"
     ],
     "language": "python",
     "outputs": [],
     "prompt_number": 12
    },
    {
     "cell_type": "markdown",
     "source": [
      "## More work to be done, the fun is just starting",
      "",
      "Andy Wilson has a nice more tightly intergration of d3.js and ipython notebook. See https://github.com/wilsaj/ipython/tree/d3plots ",
      "",
      "",
      "## some other examples (mostly experimental, need various different setups.)",
      "https://github.com/cschin/IPython-Notebook---d3.js-mashup",
      "",
      "",
      "# Why? ",
      "",
      "The whole exercise here is mostly on exploring the possibility to have really dynamic frontend for developing visulizations or demostrations.  The ipython notebook provides a really nice way to integrate web technologies with the powerful backend python processes.  This will make dynamic data exploratory work with python easier in the furture using mostly open-source software.  We can eventually integrate a lots of other cool web technologies (e.g. webGL, html5 video, canvas) together. ",
      "",
      "# What's next",
      "",
      "In this example, I use bare-bone python functions / javascript functions for the work. I think the reasonable next step is to see what is the right kind of framework for mapping the javascript objects and python objects (e.g. something like https://github.com/mikedewar/d3py for ipython notebook or Andy Wilson's d3plots approach.)  Eventually, we may develope a standard set of widgets or integrate some concept of the \"Grammar of Graphics\" (http://www.amazon.com/Grammar-Graphics-Leland-Wilkinson/dp/0387987746) and ggplot2-like features (http://had.co.nz/ggplot2/) as python notebook libraries. ",
      "",
      "--Jason Chin, Feb 26, 2012"
     ]
    },
    {
     "cell_type": "code",
     "collapsed": true,
     "input": [
      "# Here we show we can re-define the function and have the javascript calls the",
      "# the re-defined function immediately ",
      "# The code below plots the circles using the sizes propotional to the log of the",
      "# population of each country",
      "# One you execute this cell, you can see the changes by click the buttons",
      "# in the display area",
      "",
      "import json",
      "",
      "def show_data_for_year(y):",
      "    data_to_show = []",
      "    for k in kdata:",
      "        if k[1] != y:",
      "            continue",
      "        d = kdata[k]",
      "        if d[0] == None: continue",
      "        if d[1] == None: continue",
      "        if d[2] == None:",
      "            pop = 1000",
      "        else:",
      "            pop = d[2]",
      "        data_to_show.append([k[0], d[0], d[1], pop])",
      "",
      "    js=\"\"\"",
      "    vis = d3.select(\"#chart svg\");",
      "    circles = vis.selectAll(\"g#datapoints\")",
      "                 .selectAll(\"circle\")",
      "                 .data(%s, function(d) {return d[0];});",
      "    ",
      "    circles.enter()",
      "           .insert(\"circle\")",
      "           .attr(\"cx\", function(d){return xRange(d[1]);})",
      "           .attr(\"cy\", function(d){return yRange(d[2]);})",
      "           .attr(\"r\", function(d){return 0.7*Math.log(d[3])/Math.log(10);})",
      "           .attr(\"fill-opacity\", function(d){return 0.5;})",
      "           .style(\"fill\", \"red\")",
      "           .on(\"mouseover\", function(d) { return update_countryname(d[0]) ;}) ",
      "           .on(\"mouseout\", function(d) { return update_countryname(\"\") ;});",
      "",
      "    circles.transition()",
      "           .duration(1000)",
      "           .attr(\"cx\", function (d) { return xRange(d[1]); })",
      "           .attr(\"cy\", function (d) { return yRange(d[2]); })",
      "           .attr(\"r\", function(d){return 0.7*Math.log(d[3])/Math.log(10);})",
      "           .style(\"fill\", \"blue\");",
      "    ",
      "    circles.exit ()",
      "           .transition().duration(1000)",
      "           .attr(\"r\", 0)",
      "           .remove();",
      "",
      "    vis.selectAll(\"#year\")",
      "       .data([%s])",
      "       .transition()",
      "       .text(function(d){return d});",
      "",
      "    \"\"\" % (json.dumps(data_to_show), y)",
      "    ",
      "    display_javascript(js, raw=True)"
     ],
     "language": "python",
     "outputs": [],
     "prompt_number": 13
    },
    {
     "cell_type": "code",
     "collapsed": true,
     "input": [],
     "language": "python",
     "outputs": [],
     "prompt_number": 13
    }
   ]
  }
 ]
}