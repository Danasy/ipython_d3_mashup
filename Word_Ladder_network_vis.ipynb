{
 "metadata": {
  "name": "Word_Ladder_network_vis"
 },
 "nbformat": 3,
 "worksheets": [
  {
   "cells": [
    {
     "cell_type": "markdown",
     "source": [
      "Some backgrounf about Word_ladder",
      "http://en.wikipedia.org/w/index.php?title=Word_ladder",
      "",
      "Take the standard UNIX dictionary ``/usr/share/dict/words`` and create a function to find all neighering words with Hamming distance one from the argument."
     ]
    },
    {
     "cell_type": "code",
     "collapsed": false,
     "input": [
      "all_words = [ w.strip().upper() for w in open(\"/usr/share/dict/words\") ]",
      "",
      "n_dict = {}",
      "",
      "for w in all_words:",
      "    lw = len(w)",
      "    n_dict.setdefault(lw,set())",
      "    n_dict[lw].add(w)",
      "    ",
      "alphabets = [chr(x) for x in range(ord('A'),ord('Z')+1)]",
      "",
      "def find_neighbors(w):",
      "    ",
      "    lw = len(w)",
      "    ",
      "    if w not in n_dict[lw]:",
      "        raise StopIteration",
      "        ",
      "    for p in range(lw):",
      "        for a in alphabets:",
      "            nw = list(w)",
      "            if a == nw[p]: ",
      "                continue",
      "            nw[p] = a",
      "            nw = \"\".join(nw)",
      "            if nw in n_dict[lw]:",
      "                yield nw"
     ],
     "language": "python",
     "outputs": [],
     "prompt_number": 1
    },
    {
     "cell_type": "markdown",
     "source": [
      "The ``find_path`` implements the BFS to find a path between two word of the same length."
     ]
    },
    {
     "cell_type": "code",
     "collapsed": false,
     "input": [
      "def find_path(word1, word2, show_path=False):",
      "",
      "    assert len(word1) == len(word2)",
      "",
      "    visited_words = set()",
      "    queue = []",
      "    track_back = {}",
      "    track_back[word1] = None",
      "    w1 = word1",
      "    found = False",
      "    while 1:",
      "        for w in find_neighbors(w1):",
      "            if w in track_back:",
      "                continue",
      "            track_back[w] = w1",
      "            if w == word2:",
      "                found = True",
      "                break",
      "            else:",
      "                queue.append(w)",
      "        if found:",
      "            break",
      "        elif len(queue) == 0:",
      "            found = False",
      "            break",
      "        else:",
      "            w1 = queue.pop(0)",
      "    if found:",
      "        trace = []",
      "        w2 = word2",
      "        while 1:",
      "            trace.append(w2)",
      "            w = track_back[w2]",
      "            if w == None:",
      "                break",
      "            w2 = w",
      "        #print word1, word2, len( trace ) - 1 , list(reversed(trace))",
      "        print word1, word2, len( trace ) - 1",
      "        if show_path == True:",
      "            trace.reverse()",
      "            print \":\".join(trace)",
      "    else:",
      "        #raise BaseException, \"not possible\"",
      "        print \"not possible\"    "
     ],
     "language": "python",
     "outputs": [],
     "prompt_number": 2
    },
    {
     "cell_type": "markdown",
     "source": [
      "``COLD`` and ``CORD`` are within distance 1."
     ]
    },
    {
     "cell_type": "code",
     "collapsed": false,
     "input": [
      "find_path(\"COLD\",\"CORD\")"
     ],
     "language": "python",
     "outputs": [
      {
       "output_type": "stream",
       "stream": "stdout",
       "text": [
        "COLD CORD 1"
       ]
      }
     ],
     "prompt_number": 3
    },
    {
     "cell_type": "markdown",
     "source": [
      "``COLD`` and ``WARM`` are within distance 4. They are connected by ``COLD`` -> ``WOLD`` -> ``WORD`` -> ``WARD`` -> ``WARM``"
     ]
    },
    {
     "cell_type": "code",
     "collapsed": false,
     "input": [
      "find_path(\"COLD\",\"WARM\")",
      "find_path(\"COLD\",\"WARM\", show_path=True)"
     ],
     "language": "python",
     "outputs": [
      {
       "output_type": "stream",
       "stream": "stdout",
       "text": [
        "COLD WARM 4",
        "COLD"
       ]
      },
      {
       "output_type": "stream",
       "stream": "stdout",
       "text": [
        " WARM 4",
        "COLD:WOLD:WORD:WARD:WARM"
       ]
      }
     ],
     "prompt_number": 4
    },
    {
     "cell_type": "markdown",
     "source": [
      "Test the code to go through a number of word pairs."
     ]
    },
    {
     "cell_type": "code",
     "collapsed": false,
     "input": [
      "word_pairs = [(\"PIG\", \"STY\"),",
      "(\"OAT\", \"RYE\"),",
      "(\"CHIN\", \"NOSE\"),",
      "(\"PITY\", \"GOOD\"),",
      "(\"PITCH\", \"TENTS\"),",
      "(\"FLOUR\", \"BREAD\"),",
      "(\"BRAVE\", \"BRIEF\")]",
      "for wp in word_pairs:",
      "    find_path(*wp)"
     ],
     "language": "python",
     "outputs": [
      {
       "output_type": "stream",
       "stream": "stdout",
       "text": [
        "PIG STY 4",
        "OAT"
       ]
      },
      {
       "output_type": "stream",
       "stream": "stdout",
       "text": [
        " RYE 4",
        "CHIN"
       ]
      },
      {
       "output_type": "stream",
       "stream": "stdout",
       "text": [
        " NOSE 5",
        "PITY"
       ]
      },
      {
       "output_type": "stream",
       "stream": "stdout",
       "text": [
        " GOOD 5",
        "not possible"
       ]
      },
      {
       "output_type": "stream",
       "stream": "stdout",
       "text": [
        "",
        "FLOUR"
       ]
      },
      {
       "output_type": "stream",
       "stream": "stdout",
       "text": [
        " BREAD 6",
        "BRAVE"
       ]
      },
      {
       "output_type": "stream",
       "stream": "stdout",
       "text": [
        " BRIEF 8"
       ]
      }
     ],
     "prompt_number": 5
    },
    {
     "cell_type": "markdown",
     "source": [
      "Set-up ``networkx`` for visualizing the local structure of such network."
     ]
    },
    {
     "cell_type": "code",
     "collapsed": false,
     "input": [
      "import networkx as nx",
      "from IPython.core.display import display_javascript",
      "from IPython.frontend.html.notebook import visutils as vis",
      "import json",
      "import time",
      "reload(vis)"
     ],
     "language": "python",
     "outputs": [
      {
       "output_type": "pyout",
       "prompt_number": 6,
       "text": [
        "<module 'IPython.frontend.html.notebook.visutils' from '/Users/cschin/Sandbox/ipy_dev/ipython/IPython/frontend/html/notebook/visutils.pyc'>"
       ]
      }
     ],
     "prompt_number": 6
    },
    {
     "cell_type": "markdown",
     "source": [
      "Load D3.js"
     ]
    },
    {
     "cell_type": "code",
     "collapsed": false,
     "input": [
      "vis.run_js(\"$.getScript('/static/d3/d3.js')\")",
      "vis.run_js(\"$.getScript('/static/d3/d3.layout.js')\")",
      "vis.run_js(\"$.getScript('/static/d3/d3.geom.js')\")",
      "time.sleep(2)"
     ],
     "language": "python",
     "outputs": [
      {
       "javascript": [
        "$.getScript('/static/d3/d3.js')"
       ],
       "output_type": "display_data"
      },
      {
       "javascript": [
        "$.getScript('/static/d3/d3.layout.js')"
       ],
       "output_type": "display_data"
      },
      {
       "javascript": [
        "$.getScript('/static/d3/d3.geom.js')"
       ],
       "output_type": "display_data"
      }
     ],
     "prompt_number": 7
    },
    {
     "cell_type": "markdown",
     "source": [
      "Generate the json for d3.js for the force layout."
     ]
    },
    {
     "cell_type": "code",
     "collapsed": false,
     "input": [
      "def get_group(w, w1):",
      "    c = 0",
      "    for c1, c2 in zip(w,w1):",
      "        if c1 == c2:",
      "            c += 1",
      "            continue",
      "        break",
      "    return c",
      "",
      "def set_g_json(word):",
      "    G=nx.Graph()",
      "    w = word",
      "    for w2 in find_neighbors(w):",
      "        G.add_edge(w, w2, attr_dict={\"l\":1})",
      "        for w3 in find_neighbors(w2):",
      "            if w3 != w:",
      "                G.add_edge(w2, w3, attr_dict={\"l\":2})",
      "    ",
      "    def generateD3JSONForG(G):",
      "        s = {\"nodes\":[], \"links\":[]}",
      "        name2Idx = {}",
      "        c = 0",
      "        for n in G.nodes():",
      "            s[\"nodes\"].append({\"name\":n, \"group\":get_group(w,n)})",
      "            name2Idx[n] = c",
      "            c += 1",
      "        for e in G.edges():",
      "            l = G.adj[e[0]][e[1]][\"l\"]",
      "            if l == 1:",
      "                col = \"rgb(0,0,255)\"",
      "                width = 3",
      "            else:",
      "                col = \"rgb(255,0,0)\"",
      "                width = 1",
      "            s[\"links\"].append({\"source\":name2Idx[e[1]], \"target\":name2Idx[e[0]], \"color\":col, \"width\":width})",
      "        return json.dumps(s)     ",
      "    n_json = generateD3JSONForG(G)",
      "    vis.set_js_var(\"n_json\", n_json)",
      "    vis.run_js(\"n_json=$.parseJSON(n_json)\")"
     ],
     "language": "python",
     "outputs": [],
     "prompt_number": 8
    },
    {
     "cell_type": "markdown",
     "source": [
      "Set up the visulization \"cell\"/widget."
     ]
    },
    {
     "cell_type": "code",
     "collapsed": false,
     "input": [
      "try:",
      "    vis_display.remove()",
      "except:",
      "    pass",
      "plot_area_style = {\"position\":\"absolute\",",
      "                   \"top\":\"0px\",",
      "                   \"width\":\"500px\",",
      "                   \"left\":\"850px\",",
      "                   \"height\":\"520px\",",
      "                   \"border\":\"9px groove\",",
      "                   \"background-color\":\"rgba(200,200,200,0.5)\"}",
      "",
      "vis_cell = vis.VISCellWidget(name=\"plot_area\", style = plot_area_style)",
      "",
      "## attache the container to a \"visual display\"",
      "vis_display = vis.NotebookVisualDisplay(container = vis_cell)",
      "",
      "",
      "## create the SVG element for D3",
      "svg_style = {\"width\":\"500px\", ",
      "             \"height\":\"445px\",",
      "             \"border\":\"2px solid\"}",
      "",
      "svg = vis.SVGWidget(name = \"svg_display\", ",
      "                   parent = \"plot_area\", ",
      "                   style = svg_style,",
      "                   vis = vis_display)"
     ],
     "language": "python",
     "outputs": [],
     "prompt_number": 9
    },
    {
     "cell_type": "markdown",
     "source": [
      "Set up d3.js code for showing up the network around the word ``START``."
     ]
    },
    {
     "cell_type": "code",
     "collapsed": false,
     "input": [
      "set_g_json(\"START\")",
      "",
      "vis_display.js_code=[]",
      "",
      "js = \"\"\"",
      "var plot_neighbor=function(json) {",
      "  var w = 500,",
      "      h = 400,",
      "      fill = d3.scale.category10();",
      "  var vis = d3.select(\"#plot_area #svg_display\")",
      "  var force = d3.layout.force()",
      "      .charge(-150)",
      "      .linkDistance(10)",
      "      .nodes(json.nodes)",
      "      .links(json.links)",
      "      .size([w, h])",
      "      .start();",
      "",
      "  var link = vis.selectAll(\"line.link\")",
      "      .data(json.links)",
      "      .enter().append(\"svg:line\")",
      "      .attr(\"class\", \"link\")",
      "      .style(\"stroke-width\", function(d) { return d.width; })",
      "      .style(\"stroke\", function(d) { return d.color; })",
      "      .attr(\"x1\", function(d) { return d.source.x; })",
      "      .attr(\"y1\", function(d) { return d.source.y; })",
      "      .attr(\"x2\", function(d) { return d.target.x; })",
      "      .attr(\"y2\", function(d) { return d.target.y; });",
      "",
      "  var node = vis.selectAll(\"circle.node\")",
      "      .data(json.nodes)",
      "      .enter().append(\"svg:circle\")",
      "      .attr(\"class\", \"node\")",
      "      .attr(\"cx\", function(d) { return d.x; })",
      "      .attr(\"cy\", function(d) { return d.y; })",
      "      .attr(\"r\", 8)",
      "      .style(\"fill\", function(d) { return fill(d.group); })",
      "      .call(force.drag);",
      "",
      "  node.append(\"svg:title\")",
      "      .text(function(d) { return d.name; });",
      "",
      "  vis.style(\"opacity\", 1e-6)",
      "    .transition()",
      "      .duration(1000)",
      "      .style(\"opacity\", 1);",
      "",
      "  force.on(\"tick\", function() {",
      "    link.attr(\"x1\", function(d) { return d.source.x; })",
      "        .attr(\"y1\", function(d) { return d.source.y; })",
      "        .attr(\"x2\", function(d) { return d.target.x; })",
      "        .attr(\"y2\", function(d) { return d.target.y; });",
      "",
      "    node.attr(\"cx\", function(d) { return d.x; })",
      "        .attr(\"cy\", function(d) { return d.y; });",
      "  });};plot_neighbor(n_json)",
      "\"\"\"",
      "vis_display.attach_js_code(js)",
      "vis_display.refresh()"
     ],
     "language": "python",
     "outputs": [
      {
       "javascript": [
        "n_json=\"{\\\"nodes\\\": [{\\\"group\\\": 1, \\\"name\\\": \\\"SMALT\\\"}, {\\\"group\\\": 3, \\\"name\\\": \\\"STADE\\\"}, {\\\"group\\\": 3, \\\"name\\\": \\\"STAWN\\\"}, {\\\"group\\\": 3, \\\"name\\\": \\\"STANK\\\"}, {\\\"group\\\": 1, \\\"name\\\": \\\"SWART\\\"}, {\\\"group\\\": 1, \\\"name\\\": \\\"SLART\\\"}, {\\\"group\\\": 3, \\\"name\\\": \\\"STATE\\\"}, {\\\"group\\\": 1, \\\"name\\\": \\\"SOARY\\\"}, {\\\"group\\\": 1, \\\"name\\\": \\\"SCANT\\\"}, {\\\"group\\\": 1, \\\"name\\\": \\\"SCALT\\\"}, {\\\"group\\\": 2, \\\"name\\\": \\\"STEPT\\\"}, {\\\"group\\\": 1, \\\"name\\\": \\\"SKART\\\"}, {\\\"group\\\": 1, \\\"name\\\": \\\"SWARE\\\"}, {\\\"group\\\": 1, \\\"name\\\": \\\"SLARE\\\"}, {\\\"group\\\": 1, \\\"name\\\": \\\"SCAUT\\\"}, {\\\"group\\\": 1, \\\"name\\\": \\\"SWARF\\\"}, {\\\"group\\\": 3, \\\"name\\\": \\\"STAUK\\\"}, {\\\"group\\\": 1, \\\"name\\\": \\\"SNARE\\\"}, {\\\"group\\\": 1, \\\"name\\\": \\\"SPIRT\\\"}, {\\\"group\\\": 1, \\\"name\\\": \\\"SHARK\\\"}, {\\\"group\\\": 1, \\\"name\\\": \\\"SLIRT\\\"}, {\\\"group\\\": 2, \\\"name\\\": \\\"STERE\\\"}, {\\\"group\\\": 3, \\\"name\\\": \\\"STAGY\\\"}, {\\\"group\\\": 1, \\\"name\\\": \\\"SPART\\\"}, {\\\"group\\\": 1, \\\"name\\\": \\\"SNARY\\\"}, {\\\"group\\\": 1, \\\"name\\\": \\\"SHARN\\\"}, {\\\"group\\\": 1, \\\"name\\\": \\\"SPARY\\\"}, {\\\"group\\\": 3, \\\"name\\\": \\\"STALE\\\"}, {\\\"group\\\": 1, \\\"name\\\": \\\"SHARE\\\"}, {\\\"group\\\": 1, \\\"name\\\": \\\"SLANT\\\"}, {\\\"group\\\": 2, \\\"name\\\": \\\"STUNT\\\"}, {\\\"group\\\": 3, \\\"name\\\": \\\"STACY\\\"}, {\\\"group\\\": 1, \\\"name\\\": \\\"SPARE\\\"}, {\\\"group\\\": 1, \\\"name\\\": \\\"SMART\\\"}, {\\\"group\\\": 1, \\\"name\\\": \\\"SNARK\\\"}, {\\\"group\\\": 1, \\\"name\\\": \\\"SPARK\\\"}, {\\\"group\\\": 1, \\\"name\\\": \\\"SPORT\\\"}, {\\\"group\\\": 0, \\\"name\\\": \\\"BLART\\\"}, {\\\"group\\\": 2, \\\"name\\\": \\\"STURT\\\"}, {\\\"group\\\": 3, \\\"name\\\": \\\"STAGE\\\"}, {\\\"group\\\": 4, \\\"name\\\": \\\"STARE\\\"}, {\\\"group\\\": 1, \\\"name\\\": \\\"SCARY\\\"}, {\\\"group\\\": 2, \\\"name\\\": \\\"STORY\\\"}, {\\\"group\\\": 3, \\\"name\\\": \\\"STAKE\\\"}, {\\\"group\\\": 3, \\\"name\\\": \\\"STAUN\\\"}, {\\\"group\\\": 2, \\\"name\\\": \\\"STERO\\\"}, {\\\"group\\\": 1, \\\"name\\\": \\\"SMARM\\\"}, {\\\"group\\\": 1, \\\"name\\\": \\\"SCARP\\\"}, {\\\"group\\\": 2, \\\"name\\\": \\\"STENT\\\"}, {\\\"group\\\": 2, \\\"name\\\": \\\"STERN\\\"}, {\\\"group\\\": 1, \\\"name\\\": \\\"SCART\\\"}, {\\\"group\\\": 2, \\\"name\\\": \\\"STURK\\\"}, {\\\"group\\\": 4, \\\"name\\\": \\\"STARK\\\"}, {\\\"group\\\": 4, \\\"name\\\": \\\"STARN\\\"}, {\\\"group\\\": 2, \\\"name\\\": \\\"STORK\\\"}, {\\\"group\\\": 5, \\\"name\\\": \\\"START\\\"}, {\\\"group\\\": 3, \\\"name\\\": \\\"STANE\\\"}, {\\\"group\\\": 1, \\\"name\\\": \\\"SCARN\\\"}, {\\\"group\\\": 1, \\\"name\\\": \\\"SNURT\\\"}, {\\\"group\\\": 1, \\\"name\\\": \\\"SPURT\\\"}, {\\\"group\\\": 3, \\\"name\\\": \\\"STAIN\\\"}, {\\\"group\\\": 3, \\\"name\\\": \\\"STALK\\\"}, {\\\"group\\\": 4, \\\"name\\\": \\\"STARY\\\"}, {\\\"group\\\": 1, \\\"name\\\": \\\"SCARE\\\"}, {\\\"group\\\": 1, \\\"name\\\": \\\"SCARF\\\"}, {\\\"group\\\": 1, \\\"name\\\": \\\"SEARY\\\"}, {\\\"group\\\": 0, \\\"name\\\": \\\"OTARY\\\"}, {\\\"group\\\": 3, \\\"name\\\": \\\"STAVE\\\"}, {\\\"group\\\": 2, \\\"name\\\": \\\"STIRK\\\"}, {\\\"group\\\": 1, \\\"name\\\": \\\"SWARM\\\"}, {\\\"group\\\": 1, \\\"name\\\": \\\"SLAIT\\\"}, {\\\"group\\\": 1, \\\"name\\\": \\\"SPARM\\\"}, {\\\"group\\\": 2, \\\"name\\\": \\\"STERT\\\"}, {\\\"group\\\": 3, \\\"name\\\": \\\"STACK\\\"}, {\\\"group\\\": 2, \\\"name\\\": \\\"STERI\\\"}, {\\\"group\\\": 2, \\\"name\\\": \\\"STERK\\\"}, {\\\"group\\\": 2, \\\"name\\\": \\\"STORE\\\"}, {\\\"group\\\": 1, \\\"name\\\": \\\"SWARD\\\"}, {\\\"group\\\": 1, \\\"name\\\": \\\"SPALT\\\"}, {\\\"group\\\": 0, \\\"name\\\": \\\"CLART\\\"}, {\\\"group\\\": 1, \\\"name\\\": \\\"SKIRT\\\"}, {\\\"group\\\": 0, \\\"name\\\": \\\"APART\\\"}], \\\"links\\\": [{\\\"color\\\": \\\"rgb(255,0,0)\\\", \\\"source\\\": 33, \\\"target\\\": 0, \\\"width\\\": 1}, {\\\"color\\\": \\\"rgb(255,0,0)\\\", \\\"source\\\": 40, \\\"target\\\": 1, \\\"width\\\": 1}, {\\\"color\\\": \\\"rgb(255,0,0)\\\", \\\"source\\\": 53, \\\"target\\\": 2, \\\"width\\\": 1}, {\\\"color\\\": \\\"rgb(255,0,0)\\\", \\\"source\\\": 52, \\\"target\\\": 3, \\\"width\\\": 1}, {\\\"color\\\": \\\"rgb(255,0,0)\\\", \\\"source\\\": 23, \\\"target\\\": 4, \\\"width\\\": 1}, {\\\"color\\\": \\\"rgb(255,0,0)\\\", \\\"source\\\": 69, \\\"target\\\": 4, \\\"width\\\": 1}, {\\\"color\\\": \\\"rgb(255,0,0)\\\", \\\"source\\\": 5, \\\"target\\\": 4, \\\"width\\\": 1}, {\\\"color\\\": \\\"rgb(255,0,0)\\\", \\\"source\\\": 50, \\\"target\\\": 4, \\\"width\\\": 1}, {\\\"color\\\": \\\"rgb(0,0,255)\\\", \\\"source\\\": 55, \\\"target\\\": 4, \\\"width\\\": 3}, {\\\"color\\\": \\\"rgb(255,0,0)\\\", \\\"source\\\": 11, \\\"target\\\": 4, \\\"width\\\": 1}, {\\\"color\\\": \\\"rgb(255,0,0)\\\", \\\"source\\\": 77, \\\"target\\\": 4, \\\"width\\\": 1}, {\\\"color\\\": \\\"rgb(255,0,0)\\\", \\\"source\\\": 12, \\\"target\\\": 4, \\\"width\\\": 1}, {\\\"color\\\": \\\"rgb(255,0,0)\\\", \\\"source\\\": 15, \\\"target\\\": 4, \\\"width\\\": 1}, {\\\"color\\\": \\\"rgb(255,0,0)\\\", \\\"source\\\": 33, \\\"target\\\": 4, \\\"width\\\": 1}, {\\\"color\\\": \\\"rgb(255,0,0)\\\", \\\"source\\\": 20, \\\"target\\\": 5, \\\"width\\\": 1}, {\\\"color\\\": \\\"rgb(255,0,0)\\\", \\\"source\\\": 23, \\\"target\\\": 5, \\\"width\\\": 1}, {\\\"color\\\": \\\"rgb(255,0,0)\\\", \\\"source\\\": 50, \\\"target\\\": 5, \\\"width\\\": 1}, {\\\"color\\\": \\\"rgb(255,0,0)\\\", \\\"source\\\": 29, \\\"target\\\": 5, \\\"width\\\": 1}, {\\\"color\\\": \\\"rgb(0,0,255)\\\", \\\"source\\\": 55, \\\"target\\\": 5, \\\"width\\\": 3}, {\\\"color\\\": \\\"rgb(255,0,0)\\\", \\\"source\\\": 11, \\\"target\\\": 5, \\\"width\\\": 1}, {\\\"color\\\": \\\"rgb(255,0,0)\\\", \\\"source\\\": 13, \\\"target\\\": 5, \\\"width\\\": 1}, {\\\"color\\\": \\\"rgb(255,0,0)\\\", \\\"source\\\": 79, \\\"target\\\": 5, \\\"width\\\": 1}, {\\\"color\\\": \\\"rgb(255,0,0)\\\", \\\"source\\\": 37, \\\"target\\\": 5, \\\"width\\\": 1}, {\\\"color\\\": \\\"rgb(255,0,0)\\\", \\\"source\\\": 70, \\\"target\\\": 5, \\\"width\\\": 1}, {\\\"color\\\": \\\"rgb(255,0,0)\\\", \\\"source\\\": 33, \\\"target\\\": 5, \\\"width\\\": 1}, {\\\"color\\\": \\\"rgb(255,0,0)\\\", \\\"source\\\": 40, \\\"target\\\": 6, \\\"width\\\": 1}, {\\\"color\\\": \\\"rgb(255,0,0)\\\", \\\"source\\\": 62, \\\"target\\\": 7, \\\"width\\\": 1}, {\\\"color\\\": \\\"rgb(255,0,0)\\\", \\\"source\\\": 50, \\\"target\\\": 8, \\\"width\\\": 1}, {\\\"color\\\": \\\"rgb(255,0,0)\\\", \\\"source\\\": 50, \\\"target\\\": 9, \\\"width\\\": 1}, {\\\"color\\\": \\\"rgb(255,0,0)\\\", \\\"source\\\": 72, \\\"target\\\": 10, \\\"width\\\": 1}, {\\\"color\\\": \\\"rgb(255,0,0)\\\", \\\"source\\\": 23, \\\"target\\\": 11, \\\"width\\\": 1}, {\\\"color\\\": \\\"rgb(255,0,0)\\\", \\\"source\\\": 50, \\\"target\\\": 11, \\\"width\\\": 1}, {\\\"color\\\": \\\"rgb(0,0,255)\\\", \\\"source\\\": 55, \\\"target\\\": 11, \\\"width\\\": 3}, {\\\"color\\\": \\\"rgb(255,0,0)\\\", \\\"source\\\": 80, \\\"target\\\": 11, \\\"width\\\": 1}, {\\\"color\\\": \\\"rgb(255,0,0)\\\", \\\"source\\\": 33, \\\"target\\\": 11, \\\"width\\\": 1}, {\\\"color\\\": \\\"rgb(255,0,0)\\\", \\\"source\\\": 40, \\\"target\\\": 12, \\\"width\\\": 1}, {\\\"color\\\": \\\"rgb(255,0,0)\\\", \\\"source\\\": 40, \\\"target\\\": 13, \\\"width\\\": 1}, {\\\"color\\\": \\\"rgb(255,0,0)\\\", \\\"source\\\": 50, \\\"target\\\": 14, \\\"width\\\": 1}, {\\\"color\\\": \\\"rgb(255,0,0)\\\", \\\"source\\\": 52, \\\"target\\\": 16, \\\"width\\\": 1}, {\\\"color\\\": \\\"rgb(255,0,0)\\\", \\\"source\\\": 40, \\\"target\\\": 17, \\\"width\\\": 1}, {\\\"color\\\": \\\"rgb(255,0,0)\\\", \\\"source\\\": 23, \\\"target\\\": 18, \\\"width\\\": 1}, {\\\"color\\\": \\\"rgb(255,0,0)\\\", \\\"source\\\": 52, \\\"target\\\": 19, \\\"width\\\": 1}, {\\\"color\\\": \\\"rgb(255,0,0)\\\", \\\"source\\\": 40, \\\"target\\\": 21, \\\"width\\\": 1}, {\\\"color\\\": \\\"rgb(255,0,0)\\\", \\\"source\\\": 72, \\\"target\\\": 21, \\\"width\\\": 1}, {\\\"color\\\": \\\"rgb(255,0,0)\\\", \\\"source\\\": 62, \\\"target\\\": 22, \\\"width\\\": 1}, {\\\"color\\\": \\\"rgb(255,0,0)\\\", \\\"source\\\": 32, \\\"target\\\": 23, \\\"width\\\": 1}, {\\\"color\\\": \\\"rgb(255,0,0)\\\", \\\"source\\\": 50, \\\"target\\\": 23, \\\"width\\\": 1}, {\\\"color\\\": \\\"rgb(0,0,255)\\\", \\\"source\\\": 55, \\\"target\\\": 23, \\\"width\\\": 3}, {\\\"color\\\": \\\"rgb(255,0,0)\\\", \\\"source\\\": 26, \\\"target\\\": 23, \\\"width\\\": 1}, {\\\"color\\\": \\\"rgb(255,0,0)\\\", \\\"source\\\": 78, \\\"target\\\": 23, \\\"width\\\": 1}, {\\\"color\\\": \\\"rgb(255,0,0)\\\", \\\"source\\\": 59, \\\"target\\\": 23, \\\"width\\\": 1}, {\\\"color\\\": \\\"rgb(255,0,0)\\\", \\\"source\\\": 35, \\\"target\\\": 23, \\\"width\\\": 1}, {\\\"color\\\": \\\"rgb(255,0,0)\\\", \\\"source\\\": 36, \\\"target\\\": 23, \\\"width\\\": 1}, {\\\"color\\\": \\\"rgb(255,0,0)\\\", \\\"source\\\": 71, \\\"target\\\": 23, \\\"width\\\": 1}, {\\\"color\\\": \\\"rgb(255,0,0)\\\", \\\"source\\\": 33, \\\"target\\\": 23, \\\"width\\\": 1}, {\\\"color\\\": \\\"rgb(255,0,0)\\\", \\\"source\\\": 81, \\\"target\\\": 23, \\\"width\\\": 1}, {\\\"color\\\": \\\"rgb(255,0,0)\\\", \\\"source\\\": 62, \\\"target\\\": 24, \\\"width\\\": 1}, {\\\"color\\\": \\\"rgb(255,0,0)\\\", \\\"source\\\": 53, \\\"target\\\": 25, \\\"width\\\": 1}, {\\\"color\\\": \\\"rgb(255,0,0)\\\", \\\"source\\\": 62, \\\"target\\\": 26, \\\"width\\\": 1}, {\\\"color\\\": \\\"rgb(255,0,0)\\\", \\\"source\\\": 40, \\\"target\\\": 27, \\\"width\\\": 1}, {\\\"color\\\": \\\"rgb(255,0,0)\\\", \\\"source\\\": 40, \\\"target\\\": 28, \\\"width\\\": 1}, {\\\"color\\\": \\\"rgb(255,0,0)\\\", \\\"source\\\": 38, \\\"target\\\": 30, \\\"width\\\": 1}, {\\\"color\\\": \\\"rgb(255,0,0)\\\", \\\"source\\\": 62, \\\"target\\\": 31, \\\"width\\\": 1}, {\\\"color\\\": \\\"rgb(255,0,0)\\\", \\\"source\\\": 40, \\\"target\\\": 32, \\\"width\\\": 1}, {\\\"color\\\": \\\"rgb(255,0,0)\\\", \\\"source\\\": 46, \\\"target\\\": 33, \\\"width\\\": 1}, {\\\"color\\\": \\\"rgb(255,0,0)\\\", \\\"source\\\": 50, \\\"target\\\": 33, \\\"width\\\": 1}, {\\\"color\\\": \\\"rgb(0,0,255)\\\", \\\"source\\\": 55, \\\"target\\\": 33, \\\"width\\\": 3}, {\\\"color\\\": \\\"rgb(255,0,0)\\\", \\\"source\\\": 52, \\\"target\\\": 34, \\\"width\\\": 1}, {\\\"color\\\": \\\"rgb(255,0,0)\\\", \\\"source\\\": 52, \\\"target\\\": 35, \\\"width\\\": 1}, {\\\"color\\\": \\\"rgb(255,0,0)\\\", \\\"source\\\": 51, \\\"target\\\": 38, \\\"width\\\": 1}, {\\\"color\\\": \\\"rgb(255,0,0)\\\", \\\"source\\\": 58, \\\"target\\\": 38, \\\"width\\\": 1}, {\\\"color\\\": \\\"rgb(255,0,0)\\\", \\\"source\\\": 72, \\\"target\\\": 38, \\\"width\\\": 1}, {\\\"color\\\": \\\"rgb(0,0,255)\\\", \\\"source\\\": 55, \\\"target\\\": 38, \\\"width\\\": 3}, {\\\"color\\\": \\\"rgb(255,0,0)\\\", \\\"source\\\": 59, \\\"target\\\": 38, \\\"width\\\": 1}, {\\\"color\\\": \\\"rgb(255,0,0)\\\", \\\"source\\\": 40, \\\"target\\\": 39, \\\"width\\\": 1}, {\\\"color\\\": \\\"rgb(255,0,0)\\\", \\\"source\\\": 53, \\\"target\\\": 40, \\\"width\\\": 1}, {\\\"color\\\": \\\"rgb(255,0,0)\\\", \\\"source\\\": 67, \\\"target\\\": 40, \\\"width\\\": 1}, {\\\"color\\\": \\\"rgb(255,0,0)\\\", \\\"source\\\": 43, \\\"target\\\": 40, \\\"width\\\": 1}, {\\\"color\\\": \\\"rgb(255,0,0)\\\", \\\"source\\\": 52, \\\"target\\\": 40, \\\"width\\\": 1}, {\\\"color\\\": \\\"rgb(255,0,0)\\\", \\\"source\\\": 62, \\\"target\\\": 40, \\\"width\\\": 1}, {\\\"color\\\": \\\"rgb(0,0,255)\\\", \\\"source\\\": 55, \\\"target\\\": 40, \\\"width\\\": 3}, {\\\"color\\\": \\\"rgb(255,0,0)\\\", \\\"source\\\": 56, \\\"target\\\": 40, \\\"width\\\": 1}, {\\\"color\\\": \\\"rgb(255,0,0)\\\", \\\"source\\\": 63, \\\"target\\\": 40, \\\"width\\\": 1}, {\\\"color\\\": \\\"rgb(255,0,0)\\\", \\\"source\\\": 76, \\\"target\\\": 40, \\\"width\\\": 1}, {\\\"color\\\": \\\"rgb(255,0,0)\\\", \\\"source\\\": 62, \\\"target\\\": 41, \\\"width\\\": 1}, {\\\"color\\\": \\\"rgb(255,0,0)\\\", \\\"source\\\": 50, \\\"target\\\": 41, \\\"width\\\": 1}, {\\\"color\\\": \\\"rgb(255,0,0)\\\", \\\"source\\\": 62, \\\"target\\\": 42, \\\"width\\\": 1}, {\\\"color\\\": \\\"rgb(255,0,0)\\\", \\\"source\\\": 53, \\\"target\\\": 44, \\\"width\\\": 1}, {\\\"color\\\": \\\"rgb(255,0,0)\\\", \\\"source\\\": 72, \\\"target\\\": 45, \\\"width\\\": 1}, {\\\"color\\\": \\\"rgb(255,0,0)\\\", \\\"source\\\": 50, \\\"target\\\": 47, \\\"width\\\": 1}, {\\\"color\\\": \\\"rgb(255,0,0)\\\", \\\"source\\\": 72, \\\"target\\\": 48, \\\"width\\\": 1}, {\\\"color\\\": \\\"rgb(255,0,0)\\\", \\\"source\\\": 53, \\\"target\\\": 49, \\\"width\\\": 1}, {\\\"color\\\": \\\"rgb(255,0,0)\\\", \\\"source\\\": 72, \\\"target\\\": 49, \\\"width\\\": 1}, {\\\"color\\\": \\\"rgb(0,0,255)\\\", \\\"source\\\": 55, \\\"target\\\": 50, \\\"width\\\": 3}, {\\\"color\\\": \\\"rgb(255,0,0)\\\", \\\"source\\\": 64, \\\"target\\\": 50, \\\"width\\\": 1}, {\\\"color\\\": \\\"rgb(255,0,0)\\\", \\\"source\\\": 57, \\\"target\\\": 50, \\\"width\\\": 1}, {\\\"color\\\": \\\"rgb(255,0,0)\\\", \\\"source\\\": 63, \\\"target\\\": 50, \\\"width\\\": 1}, {\\\"color\\\": \\\"rgb(255,0,0)\\\", \\\"source\\\": 52, \\\"target\\\": 51, \\\"width\\\": 1}, {\\\"color\\\": \\\"rgb(255,0,0)\\\", \\\"source\\\": 68, \\\"target\\\": 52, \\\"width\\\": 1}, {\\\"color\\\": \\\"rgb(255,0,0)\\\", \\\"source\\\": 53, \\\"target\\\": 52, \\\"width\\\": 1}, {\\\"color\\\": \\\"rgb(255,0,0)\\\", \\\"source\\\": 54, \\\"target\\\": 52, \\\"width\\\": 1}, {\\\"color\\\": \\\"rgb(0,0,255)\\\", \\\"source\\\": 55, \\\"target\\\": 52, \\\"width\\\": 3}, {\\\"color\\\": \\\"rgb(255,0,0)\\\", \\\"source\\\": 75, \\\"target\\\": 52, \\\"width\\\": 1}, {\\\"color\\\": \\\"rgb(255,0,0)\\\", \\\"source\\\": 61, \\\"target\\\": 52, \\\"width\\\": 1}, {\\\"color\\\": \\\"rgb(255,0,0)\\\", \\\"source\\\": 62, \\\"target\\\": 52, \\\"width\\\": 1}, {\\\"color\\\": \\\"rgb(255,0,0)\\\", \\\"source\\\": 73, \\\"target\\\": 52, \\\"width\\\": 1}, {\\\"color\\\": \\\"rgb(0,0,255)\\\", \\\"source\\\": 55, \\\"target\\\": 53, \\\"width\\\": 3}, {\\\"color\\\": \\\"rgb(255,0,0)\\\", \\\"source\\\": 57, \\\"target\\\": 53, \\\"width\\\": 1}, {\\\"color\\\": \\\"rgb(255,0,0)\\\", \\\"source\\\": 60, \\\"target\\\": 53, \\\"width\\\": 1}, {\\\"color\\\": \\\"rgb(255,0,0)\\\", \\\"source\\\": 62, \\\"target\\\": 53, \\\"width\\\": 1}, {\\\"color\\\": \\\"rgb(0,0,255)\\\", \\\"source\\\": 72, \\\"target\\\": 55, \\\"width\\\": 3}, {\\\"color\\\": \\\"rgb(0,0,255)\\\", \\\"source\\\": 62, \\\"target\\\": 55, \\\"width\\\": 3}, {\\\"color\\\": \\\"rgb(255,0,0)\\\", \\\"source\\\": 66, \\\"target\\\": 62, \\\"width\\\": 1}, {\\\"color\\\": \\\"rgb(255,0,0)\\\", \\\"source\\\": 65, \\\"target\\\": 62, \\\"width\\\": 1}, {\\\"color\\\": \\\"rgb(255,0,0)\\\", \\\"source\\\": 74, \\\"target\\\": 72, \\\"width\\\": 1}, {\\\"color\\\": \\\"rgb(255,0,0)\\\", \\\"source\\\": 75, \\\"target\\\": 72, \\\"width\\\": 1}]}\";"
       ],
       "output_type": "display_data"
      },
      {
       "javascript": [
        "n_json=$.parseJSON(n_json)"
       ],
       "output_type": "display_data"
      },
      {
       "javascript": [
        "$('#plot_area').remove()"
       ],
       "output_type": "display_data"
      },
      {
       "javascript": [
        "IPython.notebook.insert_vis_cell(\"plot_area\") ",
        " $(\"#plot_area\").css(\"top\", \"0px\");",
        " $(\"#plot_area\").css(\"height\", \"520px\");",
        " $(\"#plot_area\").css(\"width\", \"500px\");",
        " $(\"#plot_area\").css(\"position\", \"absolute\");",
        " $(\"#plot_area\").css(\"border\", \"9px groove\");",
        " $(\"#plot_area\").css(\"background-color\", \"rgba(200,200,200,0.5)\");",
        " $(\"#plot_area\").css(\"left\", \"850px\");",
        "",
        "$(\"#plot_area\").append(\"<svg id='svg_display'></svg>\"); ",
        " $(\"#svg_display\").css(\"width\", \"500px\");",
        " $(\"#svg_display\").css(\"border\", \"2px solid\");",
        " $(\"#svg_display\").css(\"height\", \"445px\");",
        "",
        "",
        "var plot_neighbor=function(json) {",
        "  var w = 500,",
        "      h = 400,",
        "      fill = d3.scale.category10();",
        "  var vis = d3.select(\"#plot_area #svg_display\")",
        "  var force = d3.layout.force()",
        "      .charge(-150)",
        "      .linkDistance(10)",
        "      .nodes(json.nodes)",
        "      .links(json.links)",
        "      .size([w, h])",
        "      .start();",
        "",
        "  var link = vis.selectAll(\"line.link\")",
        "      .data(json.links)",
        "      .enter().append(\"svg:line\")",
        "      .attr(\"class\", \"link\")",
        "      .style(\"stroke-width\", function(d) { return d.width; })",
        "      .style(\"stroke\", function(d) { return d.color; })",
        "      .attr(\"x1\", function(d) { return d.source.x; })",
        "      .attr(\"y1\", function(d) { return d.source.y; })",
        "      .attr(\"x2\", function(d) { return d.target.x; })",
        "      .attr(\"y2\", function(d) { return d.target.y; });",
        "",
        "  var node = vis.selectAll(\"circle.node\")",
        "      .data(json.nodes)",
        "      .enter().append(\"svg:circle\")",
        "      .attr(\"class\", \"node\")",
        "      .attr(\"cx\", function(d) { return d.x; })",
        "      .attr(\"cy\", function(d) { return d.y; })",
        "      .attr(\"r\", 8)",
        "      .style(\"fill\", function(d) { return fill(d.group); })",
        "      .call(force.drag);",
        "",
        "  node.append(\"svg:title\")",
        "      .text(function(d) { return d.name; });",
        "",
        "  vis.style(\"opacity\", 1e-6)",
        "    .transition()",
        "      .duration(1000)",
        "      .style(\"opacity\", 1);",
        "",
        "  force.on(\"tick\", function() {",
        "    link.attr(\"x1\", function(d) { return d.source.x; })",
        "        .attr(\"y1\", function(d) { return d.source.y; })",
        "        .attr(\"x2\", function(d) { return d.target.x; })",
        "        .attr(\"y2\", function(d) { return d.target.y; });",
        "",
        "    node.attr(\"cx\", function(d) { return d.x; })",
        "        .attr(\"cy\", function(d) { return d.y; });",
        "  });};plot_neighbor(n_json)"
       ],
       "output_type": "display_data"
      }
     ],
     "prompt_number": 10
    },
    {
     "cell_type": "code",
     "collapsed": false,
     "input": [
      "vis_display.hide()"
     ],
     "language": "python",
     "outputs": [
      {
       "javascript": [
        "$(\"#plot_area\").css(\"visibility\",\"hidden\")"
       ],
       "output_type": "display_data"
      }
     ],
     "prompt_number": 11
    },
    {
     "cell_type": "code",
     "collapsed": false,
     "input": [
      "vis_display.show()"
     ],
     "language": "python",
     "outputs": [
      {
       "javascript": [
        "$(\"#plot_area\").css(\"visibility\",\"visible\")"
       ],
       "output_type": "display_data"
      }
     ],
     "prompt_number": 12
    },
    {
     "cell_type": "code",
     "collapsed": false,
     "input": [
      "def show_neighbors(w):",
      "    set_g_json(w)",
      "    vis.run_js('$(\"#svg_display *\").remove();')",
      "    for jc in vis_display.js_code:",
      "        vis.run_js(jc)",
      "    ",
      "    ",
      "## create a test input text box",
      "input_style = {\"width\":\"240px\"}",
      "tb = vis.InputWidget(name = \"input_1\",",
      "                     parent = \"plot_area\",",
      "                     style = input_style,",
      "                     value = \"START\",",
      "                     vis = vis_display)",
      "",
      "def onchange(self, *argv, **kwargv):",
      "    self.update_value()",
      "    ",
      "vis.set_action(tb, \"onchange\", onchange)",
      "",
      "button_style = {\"width\":\"120px\"}",
      "b = vis.ButtonWidget(name=\"button\", ",
      "                     parent=\"plot_area\", ",
      "                     style=button_style, ",
      "                     text=\"show neighbors\",",
      "                     vis = vis_display)",
      "b.argv = [tb]",
      "def onclick(self, *argv, **kwargv):",
      "    self.text = argv[0].value",
      "    show_neighbors(self.text)",
      "    ",
      "vis.set_action(b, \"onclick\", onclick, \"argv\")",
      "",
      "",
      "button_style = {\"width\":\"120px\"}",
      "b2 = vis.ButtonWidget(name=\"button2\", ",
      "                     parent=\"plot_area\", ",
      "                     style=button_style, ",
      "                     text=\"close\",",
      "                     vis = vis_display)",
      "def onclick(self, *argv, **kwargv):",
      "    vis_display.remove()",
      "    ",
      "vis.set_action(b2, \"onclick\", onclick)",
      "",
      "vis_display.refresh()"
     ],
     "language": "python",
     "outputs": [
      {
       "javascript": [
        "$('#plot_area').remove()"
       ],
       "output_type": "display_data"
      },
      {
       "javascript": [
        "IPython.notebook.insert_vis_cell(\"plot_area\") ",
        " $(\"#plot_area\").css(\"top\", \"0px\");",
        " $(\"#plot_area\").css(\"height\", \"520px\");",
        " $(\"#plot_area\").css(\"width\", \"500px\");",
        " $(\"#plot_area\").css(\"position\", \"absolute\");",
        " $(\"#plot_area\").css(\"border\", \"9px groove\");",
        " $(\"#plot_area\").css(\"background-color\", \"rgba(200,200,200,0.5)\");",
        " $(\"#plot_area\").css(\"left\", \"850px\");",
        "",
        "$(\"#plot_area\").append(\"<svg id='svg_display'></svg>\"); ",
        " $(\"#svg_display\").css(\"width\", \"500px\");",
        " $(\"#svg_display\").css(\"border\", \"2px solid\");",
        " $(\"#svg_display\").css(\"height\", \"445px\");",
        "",
        "$(\"#plot_area\").append(\"<input id='input_1' value='START'></input>\"); ",
        " $(\"#input_1\").css(\"width\", \"240px\");input_1_onchange = function () {",
        "var vis_code = \"try:\\n    _w = _vis.get_widget_by_name('input_1')\\nexcept NameError:\\n    import IPython.frontend.html.notebook.visutils as _vis\\n    _w = _vis.get_widget_by_name('input_1')\\n_w.onchange()\";",
        "$(\"#input_1\")[0].onchange= function() {IPython.notebook.execute_from_viscell(\"plot_area\", vis_code)};",
        " }; input_1_onchange();",
        "",
        "$(\"#plot_area\").append(\"<button id='button'>show neighbors</button>\"); ",
        " $(\"#button\").css(\"width\", \"120px\");button_onclick = function () {",
        "var vis_code = \"try:\\n    _w = _vis.get_widget_by_name('button')\\nexcept NameError:\\n    import IPython.frontend.html.notebook.visutils as _vis\\n    _w = _vis.get_widget_by_name('button')\\n_w.onclick(*_w.argv)\";",
        "$(\"#button\")[0].onclick= function() {IPython.notebook.execute_from_viscell(\"plot_area\", vis_code)};",
        " }; button_onclick();",
        "",
        "$(\"#plot_area\").append(\"<button id='button2'>close</button>\"); ",
        " $(\"#button2\").css(\"width\", \"120px\");button2_onclick = function () {",
        "var vis_code = \"try:\\n    _w = _vis.get_widget_by_name('button2')\\nexcept NameError:\\n    import IPython.frontend.html.notebook.visutils as _vis\\n    _w = _vis.get_widget_by_name('button2')\\n_w.onclick()\";",
        "$(\"#button2\")[0].onclick= function() {IPython.notebook.execute_from_viscell(\"plot_area\", vis_code)};",
        " }; button2_onclick();",
        "",
        "",
        "var plot_neighbor=function(json) {",
        "  var w = 500,",
        "      h = 400,",
        "      fill = d3.scale.category10();",
        "  var vis = d3.select(\"#plot_area #svg_display\")",
        "  var force = d3.layout.force()",
        "      .charge(-150)",
        "      .linkDistance(10)",
        "      .nodes(json.nodes)",
        "      .links(json.links)",
        "      .size([w, h])",
        "      .start();",
        "",
        "  var link = vis.selectAll(\"line.link\")",
        "      .data(json.links)",
        "      .enter().append(\"svg:line\")",
        "      .attr(\"class\", \"link\")",
        "      .style(\"stroke-width\", function(d) { return d.width; })",
        "      .style(\"stroke\", function(d) { return d.color; })",
        "      .attr(\"x1\", function(d) { return d.source.x; })",
        "      .attr(\"y1\", function(d) { return d.source.y; })",
        "      .attr(\"x2\", function(d) { return d.target.x; })",
        "      .attr(\"y2\", function(d) { return d.target.y; });",
        "",
        "  var node = vis.selectAll(\"circle.node\")",
        "      .data(json.nodes)",
        "      .enter().append(\"svg:circle\")",
        "      .attr(\"class\", \"node\")",
        "      .attr(\"cx\", function(d) { return d.x; })",
        "      .attr(\"cy\", function(d) { return d.y; })",
        "      .attr(\"r\", 8)",
        "      .style(\"fill\", function(d) { return fill(d.group); })",
        "      .call(force.drag);",
        "",
        "  node.append(\"svg:title\")",
        "      .text(function(d) { return d.name; });",
        "",
        "  vis.style(\"opacity\", 1e-6)",
        "    .transition()",
        "      .duration(1000)",
        "      .style(\"opacity\", 1);",
        "",
        "  force.on(\"tick\", function() {",
        "    link.attr(\"x1\", function(d) { return d.source.x; })",
        "        .attr(\"y1\", function(d) { return d.source.y; })",
        "        .attr(\"x2\", function(d) { return d.target.x; })",
        "        .attr(\"y2\", function(d) { return d.target.y; });",
        "",
        "    node.attr(\"cx\", function(d) { return d.x; })",
        "        .attr(\"cy\", function(d) { return d.y; });",
        "  });};plot_neighbor(n_json)"
       ],
       "output_type": "display_data"
      }
     ],
     "prompt_number": 13
    },
    {
     "cell_type": "code",
     "collapsed": false,
     "input": [
      "#vis_display.remove()"
     ],
     "language": "python",
     "outputs": [],
     "prompt_number": 14
    },
    {
     "cell_type": "code",
     "collapsed": true,
     "input": [],
     "language": "python",
     "outputs": [],
     "prompt_number": 14
    }
   ]
  }
 ]
}