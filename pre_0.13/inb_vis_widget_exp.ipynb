{
 "metadata": {
  "name": "inb_vis_widget_exp"
 },
 "nbformat": 3,
 "worksheets": [
  {
   "cells": [
    {
     "cell_type": "heading",
     "level": 1,
     "source": [
      "An example for building a simple interactive visulization with IPython (Some monkey patches are needed for the this notebook to work on ipython 0.13-dev. )"
     ]
    },
    {
     "cell_type": "markdown",
     "source": [
      "tested with my ipython branch, commit https://github.com/cschin/ipython/commit/99878a9d0e8c1981622f23905a867c5b3c532435",
      "",
      "It should work with the official 0.13-dev branch by ",
      "",
      "(1) adding",
      "",
      "    <script src=\"{{ static_url(\"js/viscell.js\") }}\" type=\"text/javascript\" charset=\"utf-8\"></script> ",
      "    <script src=\"{{ static_url(\"js/vismonkeypatch.js\") }}\" type=\"text/javascript\" charset=\"utf-8\"></script> ",
      "",
      "to ``IPython/frontend/html/notebook/templates/notebook.html``.",
      "",
      "(2) put ``viscell.js`` and ``vismonkeypatch.js`` in ``IPython/frontend/html/notebook/static/js/``",
      "",
      "(3) put ``visutils.py`` and ``IPython/frontend/html/notebook/``"
     ]
    },
    {
     "cell_type": "code",
     "collapsed": false,
     "input": [
      "from IPython.core.display import display_javascript",
      "from IPython.frontend.html.notebook import visutils as vis",
      "import json",
      "import types",
      "",
      "reload(vis)",
      "",
      "try:",
      "    vis_display.remove()",
      "except:",
      "    pass",
      "",
      "",
      "## Set up a \"visulization cell\" as the base container",
      "plot_area_style = {\"position\":\"absolute\",",
      "                   \"top\":\"0px\",",
      "                   \"width\":\"500px\",",
      "                   \"left\":\"850px\",",
      "                   \"height\":\"520px\",",
      "                   \"border\":\"9px groove\",",
      "                   \"background-color\":\"rgba(200,200,200,0.5)\"}",
      "",
      "vis_cell = vis.VISCellWidget(name=\"plot_area\", style = plot_area_style)",
      "",
      "## attache the container to a \"visual display\"",
      "vis_display = vis.NotebookVisualDisplay(container = vis_cell)",
      "",
      "",
      "## create the SVG element for D3",
      "svg_style = {\"width\":\"500px\", ",
      "             \"height\":\"445px\",",
      "             \"border\":\"2px solid\"}",
      "",
      "w1 = vis.SVGWidget(name = \"svg_display\", ",
      "                   parent = \"plot_area\", ",
      "                   style = svg_style,",
      "                   vis = vis_display)",
      "",
      "",
      "## create a test button",
      "button_style = {\"width\":\"240px\"}",
      "",
      "b1 = vis.ButtonWidget(name = \"button_1\", ",
      "                      parent = \"plot_area\", ",
      "                      style = button_style, ",
      "                      text = \"MyButton\",",
      "                      vis = vis_display)",
      "",
      "b1.clicked = False",
      "def onclick(self, *argv, **kwargv):",
      "    self.clicked = True",
      "    self.text = argv[0].value",
      "    self.set_text(argv[0].value)",
      "    ",
      "",
      "b1.kwargv = {\"me\":\"me2123\"}",
      "b1.text = \"1234\"",
      "vis.set_action(b1, \"onclick\", onclick, \"argv\")",
      "",
      "",
      "",
      "## create a test input text box",
      "input_style = {\"width\":\"240px\"}",
      "i1 = vis.InputWidget(name = \"input_1\",",
      "                     parent = \"plot_area\",",
      "                     style = input_style,",
      "                     value = \"try this out\",",
      "                     vis = vis_display)",
      "",
      "b1.argv = [i1]",
      "",
      "def onchange(self, *argv, **kwargv):",
      "    self.update_value()",
      "    ",
      "vis.set_action(i1, \"onchange\", onchange)"
     ],
     "language": "python",
     "outputs": [
      {
       "javascript": [
        "$('#plot_area').remove()"
       ],
       "output_type": "display_data"
      }
     ],
     "prompt_number": 19
    },
    {
     "cell_type": "code",
     "collapsed": false,
     "input": [
      "#show the javascript code associated with the display",
      "print vis_display.js"
     ],
     "language": "python",
     "outputs": [
      {
       "output_type": "stream",
       "stream": "stdout",
       "text": [
        "IPython.notebook.insert_vis_cell(\"plot_area\") ",
        " $(\"#plot_area\").css(\"top\", \"0px\");",
        " $(\"#plot_area\").css(\"height\", \"520px\");",
        " $(\"#plot_area\").css(\"width\", \"500px\");",
        " $(\"#plot_area\").css(\"position\", \"absolute\");",
        " $(\"#plot_area\").css(\"border\", \"9px groove\");",
        " $(\"#plot_area\").css(\"background-color\", \"rgba(200,200,200,0.5)\");",
        " $(\"#plot_area\").css(\"left\", \"850px\");",
        "",
        "$(\"#plot_area\").append(\"<svg id='svg_display'></svg>\"); ",
        " $(\"#svg_display\").css(\"width\", \"500px\");",
        " $(\"#svg_display\").css(\"border\", \"2px solid\");",
        " $(\"#svg_display\").css(\"height\", \"445px\");",
        "",
        "$(\"#plot_area\").append(\"<button id='button_1'>MyButton</button>\"); ",
        " $(\"#button_1\").css(\"width\", \"240px\");button_1_onclick = function () {",
        "var vis_code = \"try:\\n    _w = _vis.get_widget_by_name('button_1')\\nexcept NameError:\\n    import IPython.frontend.html.notebook.visutils as _vis\\n    _w = _vis.get_widget_by_name('button_1')\\n_w.onclick(*_w.argv)\";",
        "$(\"#button_1\")[0].onclick= function() {IPython.notebook.execute_from_viscell(\"plot_area\", vis_code)};",
        " }; button_1_onclick();",
        "",
        "$(\"#plot_area\").append(\"<input id='input_1' value='try this out'></input>\"); ",
        " $(\"#input_1\").css(\"width\", \"240px\");input_1_onchange = function () {",
        "var vis_code = \"try:\\n    _w = _vis.get_widget_by_name('input_1')\\nexcept NameError:\\n    import IPython.frontend.html.notebook.visutils as _vis\\n    _w = _vis.get_widget_by_name('input_1')\\n_w.onchange()\";",
        "$(\"#input_1\")[0].onchange= function() {IPython.notebook.execute_from_viscell(\"plot_area\", vis_code)};",
        " }; input_1_onchange();"
       ]
      }
     ],
     "prompt_number": 20
    },
    {
     "cell_type": "code",
     "collapsed": false,
     "input": [
      "#show the display on ipython notebook",
      "vis_display.display()",
      "#v.hide()"
     ],
     "language": "python",
     "outputs": [],
     "prompt_number": 22
    },
    {
     "cell_type": "code",
     "collapsed": false,
     "input": [
      "#check the UI events do modify the python objects",
      "b1.clicked",
      "json.dumps(i1.value)"
     ],
     "language": "python",
     "outputs": [
      {
       "output_type": "pyout",
       "prompt_number": 23,
       "text": [
        "'\"try this out\"'"
       ]
      }
     ],
     "prompt_number": 23
    },
    {
     "cell_type": "code",
     "collapsed": false,
     "input": [
      "#set javascript object with python object",
      "vis.set_js_var(\"\"\"$(\"#input_1\")[0].value\"\"\", \"123\")"
     ],
     "language": "python",
     "outputs": [
      {
       "javascript": [
        "$(\"#input_1\")[0].value=\"123\";"
       ],
       "output_type": "display_data"
      }
     ],
     "prompt_number": 24
    },
    {
     "cell_type": "code",
     "collapsed": false,
     "input": [
      "#set python object with javascript object",
      "vis_cell.set_py_var(\"xyz\",\"\"\"$(\"#input_1\")[0].value\"\"\")"
     ],
     "language": "python",
     "outputs": [
      {
       "javascript": [
        "function vis_exec_code() {var vis_code = \"xyz=\"+JSON.stringify($(\"#input_1\")[0].value) ;IPython.notebook.execute_from_viscell(\"plot_area\", vis_code); };vis_exec_code()"
       ],
       "output_type": "display_data"
      }
     ],
     "prompt_number": 25
    },
    {
     "cell_type": "code",
     "collapsed": false,
     "input": [
      "#check the value of xyz",
      "xyz"
     ],
     "language": "python",
     "outputs": [
      {
       "output_type": "pyout",
       "prompt_number": 26,
       "text": [
        "'123'"
       ]
      }
     ],
     "prompt_number": 26
    },
    {
     "cell_type": "code",
     "collapsed": false,
     "input": [
      "#hide the display",
      "vis_display.hide()"
     ],
     "language": "python",
     "outputs": [
      {
       "javascript": [
        "$(\"#plot_area\").css(\"visibility\",\"hidden\")"
       ],
       "output_type": "display_data"
      }
     ],
     "prompt_number": 27
    },
    {
     "cell_type": "code",
     "collapsed": false,
     "input": [
      "#show the display",
      "vis_display.show()"
     ],
     "language": "python",
     "outputs": [
      {
       "javascript": [
        "$(\"#plot_area\").css(\"visibility\",\"visible\")"
       ],
       "output_type": "display_data"
      }
     ],
     "prompt_number": 28
    },
    {
     "cell_type": "code",
     "collapsed": false,
     "input": [
      "#get data for the movable chart example",
      "import time",
      "",
      "kdata = {}",
      "",
      "def get_data(kd, fn, n):",
      "    with open(fn) as f:",
      "        head = f.readline()",
      "        years = head.strip().split(\",\")[1:]",
      "        for l in f:",
      "            l = l.strip().split(\",\")",
      "            country_name, rdata = l[0],l[1:]",
      "            for i in range(len(rdata)):",
      "                try:",
      "                    year = years[i]",
      "                    d = float(rdata[i])",
      "                    key = country_name, year",
      "                    kd.setdefault(key,[None]*3)",
      "                    kd[key][n] = d",
      "                except:",
      "                    pass",
      "                ",
      "get_data(kdata, \"gm_data/GDPpercapitaconstant2000US.csv\", 0)",
      "get_data(kdata, \"gm_data/indicatorCDIACcarbon_dioxide_emissions_per_capita.csv\", 1)",
      "get_data(kdata, \"gm_data/indicatorgapminderpopulation.csv\", 2)",
      "display_javascript(\"$.getScript('/static/d3/d3.js')\", raw=True)",
      "time.sleep(2)"
     ],
     "language": "python",
     "outputs": [
      {
       "javascript": [
        "$.getScript('/static/d3/d3.js')"
       ],
       "output_type": "display_data"
      }
     ],
     "prompt_number": 29
    },
    {
     "cell_type": "code",
     "collapsed": false,
     "input": [
      "#set up d3 code for the movable chart",
      "maxx = max( d[0] for d in kdata.values() )",
      "maxy = max( d[1] for d in kdata.values() )",
      "",
      "js = \"\"\"",
      "maxx = %f;",
      "maxy = %f; \"\"\" % (maxx, maxy)",
      "",
      "vis_display.attach_js_code(js)",
      "",
      "",
      "js=\"\"\"",
      "vis = d3.select(\"#plot_area #svg_display\"),",
      "",
      "WIDTH = 500,",
      "HEIGHT = 400,",
      "MARGINS = {top: 20, right: 20, bottom: 20, left: 100},",
      "",
      "xRange = d3.scale",
      "           .log()",
      "           .range ([MARGINS.left, WIDTH - MARGINS.right])",
      "           .domain([10, maxx]),",
      "",
      "yRange = d3.scale",
      "           .log()",
      "           .range ([HEIGHT - MARGINS.top, MARGINS.bottom])",
      "           .domain([0.001, maxy*5]),",
      "",
      "xAxis = d3.svg.axis() // generate an axis",
      ".scale(xRange) // set the range of the axis",
      ".tickSize(5) // height of the ticks",
      ".tickSubdivide(false), // display ticks between text labels",
      "",
      "yAxis = d3.svg.axis() // generate an axis",
      ".scale(yRange) // set the range of the axis",
      ".tickSize(5) // width of the ticks",
      ".orient(\"left\") // have the text labels on the left hand side",
      ".tickSubdivide(false); // display ticks between text labels",
      "",
      "vis.append(\"svg:g\") // add a container for the axis",
      ".attr(\"class\", \"x axis\") // add some classes so we can style it",
      ".attr(\"transform\", \"translate(0,\" + (HEIGHT - MARGINS.bottom) + \")\") // move it into position",
      ".call(xAxis); // finally, add the axis to the visualisation",
      "",
      "vis.append(\"svg:g\")",
      ".attr(\"class\", \"y axis\")",
      ".attr(\"transform\", \"translate(\" + (MARGINS.left) + \",0)\")",
      ".call(yAxis);",
      "",
      "vis = d3.select(\"#plot_area #svg_display\");",
      "vis.append(\"g\").attr(\"id\", \"datapoints\");",
      "",
      "vis.append(\"text\")",
      "   .attr(\"id\",\"countryname\")",
      "   .attr(\"x\", \"200\")",
      "   .attr(\"y\", \"50\")",
      "   .text(function(d){return \"country\"});",
      "vis.append(\"text\")",
      "   .attr(\"id\",\"year\")",
      "   .attr(\"x\", \"200\")",
      "   .attr(\"y\", \"70\")",
      "   .text(function(d){return \"year\"});",
      "",
      "vis.append(\"text\")",
      "   .attr(\"x\", \"200\")",
      "   .attr(\"y\", \"420\")",
      "   .text(function(d){return \"GDP\"});",
      "",
      "",
      "vis.append(\"text\")",
      "   .attr(\"x\", \"10\")",
      "   .attr(\"y\", \"200\")",
      "   .text(function(d){return \"CO2\"});",
      "",
      "",
      "\"\"\"",
      "",
      "vis_display.attach_js_code(js)",
      "",
      "js = \"\"\"",
      "update_countryname = function(name) {",
      "    var vis = d3.select(\"#plot_area #svg_display\");",
      "    vis.selectAll(\"#countryname\")",
      "       .data([name])",
      "       .transition()",
      "       .text(function(d){return d});",
      "}",
      "\"\"\"",
      "",
      "vis_display.attach_js_code(js)"
     ],
     "language": "python",
     "outputs": [],
     "prompt_number": 30
    },
    {
     "cell_type": "code",
     "collapsed": true,
     "input": [
      "#set up d3 code for updating the movable chart",
      "import json",
      "",
      "def show_data_for_year(y):",
      "    data_to_show = []",
      "    for k in kdata:",
      "        if k[1] != y:",
      "            continue",
      "        d = kdata[k]",
      "        if d[0] == None: continue",
      "        if d[1] == None: continue",
      "        data_to_show.append([k[0], d[0], d[1]])",
      "        ",
      "    vis.set_js_var(\"gdp_co2_data\", data_to_show)",
      "    vis.set_js_var(\"year_data\", y)",
      "    ",
      "    js=\"\"\"",
      "    vis = d3.select(\"#plot_area #svg_display\");",
      "    circles = vis.selectAll(\"g#datapoints\")",
      "                 .selectAll(\"circle\")",
      "                 .data(gdp_co2_data, function(d) {return d[0];});",
      "    ",
      "    circles.enter()",
      "           .insert(\"circle\")",
      "           .attr(\"cx\", function(d){return xRange(d[1]);})",
      "           .attr(\"cy\", function(d){return yRange(d[2]);})",
      "           .attr(\"r\", function(d){return 6;})",
      "           .attr(\"fill-opacity\", function(d){return 0.5;})",
      "           .style(\"fill\", \"red\")",
      "           .on(\"mouseover\", function(d) { return update_countryname(d[0]) ;})",
      "           .on(\"mouseout\", function(d) { return update_countryname(\"\") ;}) ;",
      "",
      "    circles.transition()",
      "           .duration(1000)",
      "           .attr(\"cx\", function (d) { return xRange(d[1]); })",
      "           .attr(\"cy\", function (d) { return yRange(d[2]); })",
      "           .attr(\"r\", function (d) { return 6; })",
      "           .style(\"fill\", \"blue\");",
      "    ",
      "    circles.exit ()",
      "           .transition().duration(1000)",
      "           .attr(\"r\", 0)",
      "           .remove();",
      "",
      "    vis.selectAll(\"#year\")",
      "       .data([year_data])",
      "       .transition()",
      "       .text(function(d){return d});",
      "",
      "    \"\"\" ",
      "    ",
      "    vis.run_js(js)",
      "    "
     ],
     "language": "python",
     "outputs": [],
     "prompt_number": 31
    },
    {
     "cell_type": "code",
     "collapsed": false,
     "input": [
      "#remove the test widget",
      "vis_display.delete_widget(b1)",
      "vis_display.delete_widget(i1)"
     ],
     "language": "python",
     "outputs": [
      {
       "javascript": [
        "$('#button_1').remove()"
       ],
       "output_type": "display_data"
      },
      {
       "javascript": [
        "$('#input_1').remove()"
       ],
       "output_type": "display_data"
      }
     ],
     "prompt_number": 32
    },
    {
     "cell_type": "code",
     "collapsed": false,
     "input": [
      "#set up a button to trigger updating the movable chart",
      "#you will be able to start the animation by clicking the \"run\" button",
      "def show_anim(self):",
      "    years = set()",
      "    for k in kdata:",
      "        if k[1] not in years:",
      "            years.add(k[1])",
      "    years = list(years)",
      "    years.sort()",
      "    for y in years[-50:-5:2]:",
      "        show_data_for_year(y)",
      "        time.sleep(1)",
      "        ",
      "button_style = {\"width\":\"80px\"}",
      "b = vis.ButtonWidget(name=\"button_ani\", ",
      "                     parent=\"plot_area\", ",
      "                     style=button_style, ",
      "                     text=\"run\")",
      "vis_display.attach_widget(b)",
      "vis.set_action(b, \"onclick\", show_anim)",
      "vis_display.refresh()"
     ],
     "language": "python",
     "outputs": [
      {
       "javascript": [
        "$('#plot_area').remove()"
       ],
       "output_type": "display_data"
      },
      {
       "javascript": [
        "IPython.notebook.insert_vis_cell(\"plot_area\") ",
        " $(\"#plot_area\").css(\"top\", \"0px\");",
        " $(\"#plot_area\").css(\"height\", \"520px\");",
        " $(\"#plot_area\").css(\"width\", \"500px\");",
        " $(\"#plot_area\").css(\"position\", \"absolute\");",
        " $(\"#plot_area\").css(\"border\", \"9px groove\");",
        " $(\"#plot_area\").css(\"background-color\", \"rgba(200,200,200,0.5)\");",
        " $(\"#plot_area\").css(\"left\", \"850px\");",
        "",
        "$(\"#plot_area\").append(\"<svg id='svg_display'></svg>\"); ",
        " $(\"#svg_display\").css(\"width\", \"500px\");",
        " $(\"#svg_display\").css(\"border\", \"2px solid\");",
        " $(\"#svg_display\").css(\"height\", \"445px\");",
        "",
        "$(\"#plot_area\").append(\"<button id='button_ani'>run</button>\"); ",
        " $(\"#button_ani\").css(\"width\", \"80px\");button_ani_onclick = function () {",
        "var vis_code = \"try:\\n    _w = _vis.get_widget_by_name('button_ani')\\nexcept NameError:\\n    import IPython.frontend.html.notebook.visutils as _vis\\n    _w = _vis.get_widget_by_name('button_ani')\\n_w.onclick()\";",
        "$(\"#button_ani\")[0].onclick= function() {IPython.notebook.execute_from_viscell(\"plot_area\", vis_code)};",
        " }; button_ani_onclick();",
        "",
        "",
        "maxx = 77880.324180;",
        "maxy = 136.540000; ",
        "",
        "",
        "vis = d3.select(\"#plot_area #svg_display\"),",
        "",
        "WIDTH = 500,",
        "HEIGHT = 400,",
        "MARGINS = {top: 20, right: 20, bottom: 20, left: 100},",
        "",
        "xRange = d3.scale",
        "           .log()",
        "           .range ([MARGINS.left, WIDTH - MARGINS.right])",
        "           .domain([10, maxx]),",
        "",
        "yRange = d3.scale",
        "           .log()",
        "           .range ([HEIGHT - MARGINS.top, MARGINS.bottom])",
        "           .domain([0.001, maxy*5]),",
        "",
        "xAxis = d3.svg.axis() // generate an axis",
        ".scale(xRange) // set the range of the axis",
        ".tickSize(5) // height of the ticks",
        ".tickSubdivide(false), // display ticks between text labels",
        "",
        "yAxis = d3.svg.axis() // generate an axis",
        ".scale(yRange) // set the range of the axis",
        ".tickSize(5) // width of the ticks",
        ".orient(\"left\") // have the text labels on the left hand side",
        ".tickSubdivide(false); // display ticks between text labels",
        "",
        "vis.append(\"svg:g\") // add a container for the axis",
        ".attr(\"class\", \"x axis\") // add some classes so we can style it",
        ".attr(\"transform\", \"translate(0,\" + (HEIGHT - MARGINS.bottom) + \")\") // move it into position",
        ".call(xAxis); // finally, add the axis to the visualisation",
        "",
        "vis.append(\"svg:g\")",
        ".attr(\"class\", \"y axis\")",
        ".attr(\"transform\", \"translate(\" + (MARGINS.left) + \",0)\")",
        ".call(yAxis);",
        "",
        "vis = d3.select(\"#plot_area #svg_display\");",
        "vis.append(\"g\").attr(\"id\", \"datapoints\");",
        "",
        "vis.append(\"text\")",
        "   .attr(\"id\",\"countryname\")",
        "   .attr(\"x\", \"200\")",
        "   .attr(\"y\", \"50\")",
        "   .text(function(d){return \"country\"});",
        "vis.append(\"text\")",
        "   .attr(\"id\",\"year\")",
        "   .attr(\"x\", \"200\")",
        "   .attr(\"y\", \"70\")",
        "   .text(function(d){return \"year\"});",
        "",
        "vis.append(\"text\")",
        "   .attr(\"x\", \"200\")",
        "   .attr(\"y\", \"420\")",
        "   .text(function(d){return \"GDP\"});",
        "",
        "",
        "vis.append(\"text\")",
        "   .attr(\"x\", \"10\")",
        "   .attr(\"y\", \"200\")",
        "   .text(function(d){return \"CO2\"});",
        "",
        "",
        "",
        "",
        "",
        "update_countryname = function(name) {",
        "    var vis = d3.select(\"#plot_area #svg_display\");",
        "    vis.selectAll(\"#countryname\")",
        "       .data([name])",
        "       .transition()",
        "       .text(function(d){return d});",
        "}"
       ],
       "output_type": "display_data"
      }
     ],
     "prompt_number": 33
    },
    {
     "cell_type": "code",
     "collapsed": false,
     "input": [
      "#set up a number of buttons to to show the data for different years",
      "def onclick(self, *argv, **kwargv):",
      "    show_data_for_year(self.text)",
      "",
      "button_style = {\"width\":\"80px\"}",
      "buttons = []",
      "for y in range(1965,2006,4):",
      "    y = str(y)",
      "    b = vis.ButtonWidget(name=\"button_%s\" % y, ",
      "                         parent=\"plot_area\", ",
      "                         style=button_style, ",
      "                         text=\"%s\" % y)",
      "    vis_display.attach_widget(b)",
      "    vis.set_action(b, \"onclick\", onclick)",
      "    buttons.append(b)",
      "    ",
      "b = vis.ButtonWidget(name=\"button_hide\" , ",
      "                     parent=\"plot_area\", ",
      "                     style=button_style, ",
      "                     text=\"hide\")",
      "buttons.append(b)",
      "",
      "def hide(self, *argv, **kwargv):",
      "    vis_display.hide()",
      "vis_display.attach_widget(b)",
      "vis.set_action(b, \"onclick\", hide)",
      "",
      "vis_display.refresh()"
     ],
     "language": "python",
     "outputs": [
      {
       "javascript": [
        "$('#plot_area').remove()"
       ],
       "output_type": "display_data"
      },
      {
       "javascript": [
        "IPython.notebook.insert_vis_cell(\"plot_area\") ",
        " $(\"#plot_area\").css(\"top\", \"0px\");",
        " $(\"#plot_area\").css(\"height\", \"520px\");",
        " $(\"#plot_area\").css(\"width\", \"500px\");",
        " $(\"#plot_area\").css(\"position\", \"absolute\");",
        " $(\"#plot_area\").css(\"border\", \"9px groove\");",
        " $(\"#plot_area\").css(\"background-color\", \"rgba(200,200,200,0.5)\");",
        " $(\"#plot_area\").css(\"left\", \"850px\");",
        "",
        "$(\"#plot_area\").append(\"<svg id='svg_display'></svg>\"); ",
        " $(\"#svg_display\").css(\"width\", \"500px\");",
        " $(\"#svg_display\").css(\"border\", \"2px solid\");",
        " $(\"#svg_display\").css(\"height\", \"445px\");",
        "",
        "$(\"#plot_area\").append(\"<button id='button_ani'>run</button>\"); ",
        " $(\"#button_ani\").css(\"width\", \"80px\");button_ani_onclick = function () {",
        "var vis_code = \"try:\\n    _w = _vis.get_widget_by_name('button_ani')\\nexcept NameError:\\n    import IPython.frontend.html.notebook.visutils as _vis\\n    _w = _vis.get_widget_by_name('button_ani')\\n_w.onclick()\";",
        "$(\"#button_ani\")[0].onclick= function() {IPython.notebook.execute_from_viscell(\"plot_area\", vis_code)};",
        " }; button_ani_onclick();",
        "",
        "$(\"#plot_area\").append(\"<button id='button_1965'>1965</button>\"); ",
        " $(\"#button_1965\").css(\"width\", \"80px\");button_1965_onclick = function () {",
        "var vis_code = \"try:\\n    _w = _vis.get_widget_by_name('button_1965')\\nexcept NameError:\\n    import IPython.frontend.html.notebook.visutils as _vis\\n    _w = _vis.get_widget_by_name('button_1965')\\n_w.onclick()\";",
        "$(\"#button_1965\")[0].onclick= function() {IPython.notebook.execute_from_viscell(\"plot_area\", vis_code)};",
        " }; button_1965_onclick();",
        "",
        "$(\"#plot_area\").append(\"<button id='button_1969'>1969</button>\"); ",
        " $(\"#button_1969\").css(\"width\", \"80px\");button_1969_onclick = function () {",
        "var vis_code = \"try:\\n    _w = _vis.get_widget_by_name('button_1969')\\nexcept NameError:\\n    import IPython.frontend.html.notebook.visutils as _vis\\n    _w = _vis.get_widget_by_name('button_1969')\\n_w.onclick()\";",
        "$(\"#button_1969\")[0].onclick= function() {IPython.notebook.execute_from_viscell(\"plot_area\", vis_code)};",
        " }; button_1969_onclick();",
        "",
        "$(\"#plot_area\").append(\"<button id='button_1973'>1973</button>\"); ",
        " $(\"#button_1973\").css(\"width\", \"80px\");button_1973_onclick = function () {",
        "var vis_code = \"try:\\n    _w = _vis.get_widget_by_name('button_1973')\\nexcept NameError:\\n    import IPython.frontend.html.notebook.visutils as _vis\\n    _w = _vis.get_widget_by_name('button_1973')\\n_w.onclick()\";",
        "$(\"#button_1973\")[0].onclick= function() {IPython.notebook.execute_from_viscell(\"plot_area\", vis_code)};",
        " }; button_1973_onclick();",
        "",
        "$(\"#plot_area\").append(\"<button id='button_1977'>1977</button>\"); ",
        " $(\"#button_1977\").css(\"width\", \"80px\");button_1977_onclick = function () {",
        "var vis_code = \"try:\\n    _w = _vis.get_widget_by_name('button_1977')\\nexcept NameError:\\n    import IPython.frontend.html.notebook.visutils as _vis\\n    _w = _vis.get_widget_by_name('button_1977')\\n_w.onclick()\";",
        "$(\"#button_1977\")[0].onclick= function() {IPython.notebook.execute_from_viscell(\"plot_area\", vis_code)};",
        " }; button_1977_onclick();",
        "",
        "$(\"#plot_area\").append(\"<button id='button_1981'>1981</button>\"); ",
        " $(\"#button_1981\").css(\"width\", \"80px\");button_1981_onclick = function () {",
        "var vis_code = \"try:\\n    _w = _vis.get_widget_by_name('button_1981')\\nexcept NameError:\\n    import IPython.frontend.html.notebook.visutils as _vis\\n    _w = _vis.get_widget_by_name('button_1981')\\n_w.onclick()\";",
        "$(\"#button_1981\")[0].onclick= function() {IPython.notebook.execute_from_viscell(\"plot_area\", vis_code)};",
        " }; button_1981_onclick();",
        "",
        "$(\"#plot_area\").append(\"<button id='button_1985'>1985</button>\"); ",
        " $(\"#button_1985\").css(\"width\", \"80px\");button_1985_onclick = function () {",
        "var vis_code = \"try:\\n    _w = _vis.get_widget_by_name('button_1985')\\nexcept NameError:\\n    import IPython.frontend.html.notebook.visutils as _vis\\n    _w = _vis.get_widget_by_name('button_1985')\\n_w.onclick()\";",
        "$(\"#button_1985\")[0].onclick= function() {IPython.notebook.execute_from_viscell(\"plot_area\", vis_code)};",
        " }; button_1985_onclick();",
        "",
        "$(\"#plot_area\").append(\"<button id='button_1989'>1989</button>\"); ",
        " $(\"#button_1989\").css(\"width\", \"80px\");button_1989_onclick = function () {",
        "var vis_code = \"try:\\n    _w = _vis.get_widget_by_name('button_1989')\\nexcept NameError:\\n    import IPython.frontend.html.notebook.visutils as _vis\\n    _w = _vis.get_widget_by_name('button_1989')\\n_w.onclick()\";",
        "$(\"#button_1989\")[0].onclick= function() {IPython.notebook.execute_from_viscell(\"plot_area\", vis_code)};",
        " }; button_1989_onclick();",
        "",
        "$(\"#plot_area\").append(\"<button id='button_1993'>1993</button>\"); ",
        " $(\"#button_1993\").css(\"width\", \"80px\");button_1993_onclick = function () {",
        "var vis_code = \"try:\\n    _w = _vis.get_widget_by_name('button_1993')\\nexcept NameError:\\n    import IPython.frontend.html.notebook.visutils as _vis\\n    _w = _vis.get_widget_by_name('button_1993')\\n_w.onclick()\";",
        "$(\"#button_1993\")[0].onclick= function() {IPython.notebook.execute_from_viscell(\"plot_area\", vis_code)};",
        " }; button_1993_onclick();",
        "",
        "$(\"#plot_area\").append(\"<button id='button_1997'>1997</button>\"); ",
        " $(\"#button_1997\").css(\"width\", \"80px\");button_1997_onclick = function () {",
        "var vis_code = \"try:\\n    _w = _vis.get_widget_by_name('button_1997')\\nexcept NameError:\\n    import IPython.frontend.html.notebook.visutils as _vis\\n    _w = _vis.get_widget_by_name('button_1997')\\n_w.onclick()\";",
        "$(\"#button_1997\")[0].onclick= function() {IPython.notebook.execute_from_viscell(\"plot_area\", vis_code)};",
        " }; button_1997_onclick();",
        "",
        "$(\"#plot_area\").append(\"<button id='button_2001'>2001</button>\"); ",
        " $(\"#button_2001\").css(\"width\", \"80px\");button_2001_onclick = function () {",
        "var vis_code = \"try:\\n    _w = _vis.get_widget_by_name('button_2001')\\nexcept NameError:\\n    import IPython.frontend.html.notebook.visutils as _vis\\n    _w = _vis.get_widget_by_name('button_2001')\\n_w.onclick()\";",
        "$(\"#button_2001\")[0].onclick= function() {IPython.notebook.execute_from_viscell(\"plot_area\", vis_code)};",
        " }; button_2001_onclick();",
        "",
        "$(\"#plot_area\").append(\"<button id='button_2005'>2005</button>\"); ",
        " $(\"#button_2005\").css(\"width\", \"80px\");button_2005_onclick = function () {",
        "var vis_code = \"try:\\n    _w = _vis.get_widget_by_name('button_2005')\\nexcept NameError:\\n    import IPython.frontend.html.notebook.visutils as _vis\\n    _w = _vis.get_widget_by_name('button_2005')\\n_w.onclick()\";",
        "$(\"#button_2005\")[0].onclick= function() {IPython.notebook.execute_from_viscell(\"plot_area\", vis_code)};",
        " }; button_2005_onclick();",
        "",
        "$(\"#plot_area\").append(\"<button id='button_hide'>hide</button>\"); ",
        " $(\"#button_hide\").css(\"width\", \"80px\");button_hide_onclick = function () {",
        "var vis_code = \"try:\\n    _w = _vis.get_widget_by_name('button_hide')\\nexcept NameError:\\n    import IPython.frontend.html.notebook.visutils as _vis\\n    _w = _vis.get_widget_by_name('button_hide')\\n_w.onclick()\";",
        "$(\"#button_hide\")[0].onclick= function() {IPython.notebook.execute_from_viscell(\"plot_area\", vis_code)};",
        " }; button_hide_onclick();",
        "",
        "",
        "maxx = 77880.324180;",
        "maxy = 136.540000; ",
        "",
        "",
        "vis = d3.select(\"#plot_area #svg_display\"),",
        "",
        "WIDTH = 500,",
        "HEIGHT = 400,",
        "MARGINS = {top: 20, right: 20, bottom: 20, left: 100},",
        "",
        "xRange = d3.scale",
        "           .log()",
        "           .range ([MARGINS.left, WIDTH - MARGINS.right])",
        "           .domain([10, maxx]),",
        "",
        "yRange = d3.scale",
        "           .log()",
        "           .range ([HEIGHT - MARGINS.top, MARGINS.bottom])",
        "           .domain([0.001, maxy*5]),",
        "",
        "xAxis = d3.svg.axis() // generate an axis",
        ".scale(xRange) // set the range of the axis",
        ".tickSize(5) // height of the ticks",
        ".tickSubdivide(false), // display ticks between text labels",
        "",
        "yAxis = d3.svg.axis() // generate an axis",
        ".scale(yRange) // set the range of the axis",
        ".tickSize(5) // width of the ticks",
        ".orient(\"left\") // have the text labels on the left hand side",
        ".tickSubdivide(false); // display ticks between text labels",
        "",
        "vis.append(\"svg:g\") // add a container for the axis",
        ".attr(\"class\", \"x axis\") // add some classes so we can style it",
        ".attr(\"transform\", \"translate(0,\" + (HEIGHT - MARGINS.bottom) + \")\") // move it into position",
        ".call(xAxis); // finally, add the axis to the visualisation",
        "",
        "vis.append(\"svg:g\")",
        ".attr(\"class\", \"y axis\")",
        ".attr(\"transform\", \"translate(\" + (MARGINS.left) + \",0)\")",
        ".call(yAxis);",
        "",
        "vis = d3.select(\"#plot_area #svg_display\");",
        "vis.append(\"g\").attr(\"id\", \"datapoints\");",
        "",
        "vis.append(\"text\")",
        "   .attr(\"id\",\"countryname\")",
        "   .attr(\"x\", \"200\")",
        "   .attr(\"y\", \"50\")",
        "   .text(function(d){return \"country\"});",
        "vis.append(\"text\")",
        "   .attr(\"id\",\"year\")",
        "   .attr(\"x\", \"200\")",
        "   .attr(\"y\", \"70\")",
        "   .text(function(d){return \"year\"});",
        "",
        "vis.append(\"text\")",
        "   .attr(\"x\", \"200\")",
        "   .attr(\"y\", \"420\")",
        "   .text(function(d){return \"GDP\"});",
        "",
        "",
        "vis.append(\"text\")",
        "   .attr(\"x\", \"10\")",
        "   .attr(\"y\", \"200\")",
        "   .text(function(d){return \"CO2\"});",
        "",
        "",
        "",
        "",
        "",
        "update_countryname = function(name) {",
        "    var vis = d3.select(\"#plot_area #svg_display\");",
        "    vis.selectAll(\"#countryname\")",
        "       .data([name])",
        "       .transition()",
        "       .text(function(d){return d});",
        "}"
       ],
       "output_type": "display_data"
      }
     ],
     "prompt_number": 34
    },
    {
     "cell_type": "code",
     "collapsed": false,
     "input": [
      "vis_display.hide()"
     ],
     "language": "python",
     "outputs": [
      {
       "javascript": [
        "$(\"#plot_area\").css(\"visibility\",\"hidden\")"
       ],
       "output_type": "display_data"
      }
     ],
     "prompt_number": 37
    },
    {
     "cell_type": "code",
     "collapsed": false,
     "input": [
      "vis_display.show()"
     ],
     "language": "python",
     "outputs": [
      {
       "javascript": [
        "$(\"#plot_area\").css(\"visibility\",\"visible\")"
       ],
       "output_type": "display_data"
      }
     ],
     "prompt_number": 36
    },
    {
     "cell_type": "code",
     "collapsed": false,
     "input": [
      "vis_display.remove()"
     ],
     "language": "python",
     "outputs": [
      {
       "javascript": [
        "$('#plot_area').remove()"
       ],
       "output_type": "display_data"
      }
     ],
     "prompt_number": 18
    }
   ]
  }
 ]
}