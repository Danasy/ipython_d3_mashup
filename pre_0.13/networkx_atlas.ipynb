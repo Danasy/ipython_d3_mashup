{
 "metadata": {
  "name": "networkx_atlas"
 }, 
 "nbformat": 2, 
 "worksheets": [
  {
   "cells": [
    {
     "cell_type": "code", 
     "collapsed": true, 
     "input": [
      "import networkx as nx", 
      "#from networkx import *", 
      "#from networkx.generators.atlas import *", 
      "from networkx.algorithms.isomorphism.isomorph import graph_could_be_isomorphic as isomorphic", 
      "import random", 
      "", 
      "def atlas6():", 
      "    \"\"\" Return the atlas of all connected graphs of 6 nodes or less.", 
      "        Attempt to check for isomorphisms and remove.", 
      "    \"\"\"", 
      "", 
      "    Atlas=nx.graph_atlas_g()[0:208] # 208", 
      "    # remove isolated nodes, only connected graphs are left", 
      "    U=nx.Graph() # graph for union of all graphs in atlas", 
      "    for G in Atlas:", 
      "        zerodegree=[n for n in G if G.degree(n)==0]", 
      "        for n in zerodegree:", 
      "            G.remove_node(n)", 
      "        U=nx.disjoint_union(U,G)", 
      "", 
      "    # list of graphs of all connected components", 
      "    C=nx.connected_component_subgraphs(U)", 
      "", 
      "    UU=nx.Graph()", 
      "    # do quick isomorphic-like check, not a true isomorphism checker", 
      "    nlist=[] # list of nonisomorphic graphs", 
      "    for G in C:", 
      "        # check against all nonisomorphic graphs so far", 
      "        if not iso(G,nlist):", 
      "            nlist.append(G)", 
      "            UU=nx.disjoint_union(UU,G) # union the nonisomorphic graphs", 
      "    return UU", 
      "", 
      "def iso(G1, glist):", 
      "    \"\"\"Quick and dirty nonisomorphism checker used to check isomorphisms.\"\"\"", 
      "    for G2 in glist:", 
      "        if isomorphic(G1,G2):", 
      "            return True", 
      "    return False"
     ], 
     "language": "python", 
     "outputs": [], 
     "prompt_number": 1
    }, 
    {
     "cell_type": "code", 
     "collapsed": false, 
     "input": [
      "import networkx as nx", 
      "", 
      "G=atlas6()", 
      "", 
      "print(\"graph has %d nodes with %d edges\"\\", 
      "      %(nx.number_of_nodes(G),nx.number_of_edges(G)))", 
      "print(nx.number_connected_components(G),\"connected components\")"
     ], 
     "language": "python", 
     "outputs": [], 
     "prompt_number": 2
    }, 
    {
     "cell_type": "code", 
     "collapsed": true, 
     "input": [
      "pos=nx.graphviz_layout(G,prog=\"neato\")"
     ], 
     "language": "python", 
     "outputs": [], 
     "prompt_number": 3
    }, 
    {
     "cell_type": "code", 
     "collapsed": true, 
     "input": [
      "C=nx.connected_component_subgraphs(G)"
     ], 
     "language": "python", 
     "outputs": [], 
     "prompt_number": 16
    }, 
    {
     "cell_type": "code", 
     "collapsed": true, 
     "input": [
      "from IPython.core.display import IFRAME, NEWWINDOW, Image", 
      "import zmq", 
      "import time", 
      "import random", 
      "import math", 
      "", 
      "ctx = zmq.Context()", 
      "s = ctx.socket(zmq.REQ)", 
      "s.connect('tcp://127.0.0.1:55550')", 
      "", 
      "def send_js(js):", 
      "    s.send(js)", 
      "    recv = s.recv()", 
      "    #print recv()", 
      "    time.sleep(0.01)", 
      "    ", 
      "def add_js(URL):", 
      "    js = \"\"\"", 
      "        var fileref=document.createElement('script');", 
      "        fileref.setAttribute(\"type\",\"text/javascript\");", 
      "        fileref.setAttribute(\"src\", \"%s\");", 
      "        document.getElementsByTagName(\"head\")[0].appendChild(fileref) \"\"\" % URL", 
      "    send_js(js)", 
      "    ", 
      "def add_CSS(URL):", 
      "    js = \"\"\"", 
      "        var fileref=document.createElement(\"link\")", 
      "        fileref.setAttribute(\"rel\", \"stylesheet\")", 
      "        fileref.setAttribute(\"type\", \"text/css\")", 
      "        fileref.setAttribute(\"href\", \"%s\") ", 
      "        document.getElementsByTagName(\"head\")[0].appendChild(fileref) \"\"\" % URL", 
      "    send_js(js)"
     ], 
     "language": "python", 
     "outputs": [], 
     "prompt_number": 7
    }, 
    {
     "cell_type": "code", 
     "collapsed": false, 
     "input": [
      "NEWWINDOW(\"http://localhost:8888/files/client.html\")"
     ], 
     "language": "python", 
     "outputs": [], 
     "prompt_number": 8
    }, 
    {
     "cell_type": "code", 
     "collapsed": false, 
     "input": [
      "add_js(\"./d3.js\")", 
      "time.sleep(5) #need extra time for d3 to be loaded", 
      "add_js(\"./colorbrewer.js\")", 
      "add_CSS(\"./colorbrewer.css\")", 
      "", 
      "js=\"\"\"", 
      "document.getElementsByTagName('body').item(0).innerHTML=\"<div id='chart'></div>\"", 
      "", 
      "var svg = d3.select(\"#chart\")", 
      "    .append(\"svg\")", 
      "    .attr(\"width\", 750)", 
      "    .attr(\"height\", 500)", 
      "    .attr(\"class\", \"PiYG\");", 
      "\"\"\"", 
      "", 
      "send_js(js)"
     ], 
     "language": "python", 
     "outputs": [], 
     "prompt_number": 9
    }, 
    {
     "cell_type": "code", 
     "collapsed": true, 
     "input": [
      "import random", 
      "", 
      "def drawGraph(g, pos):", 
      "    c = random.randint(0,10)", 
      "    js = \"\"", 
      "    for n in g.nodes():", 
      "        x,y = pos[n]", 
      "        js += \"\"\"", 
      "        var svg = d3.select(\"#chart\").select(\"svg\");", 
      "        svg.append(\"circle\")", 
      "            .attr(\"cx\", %d)", 
      "            .attr(\"cy\", %d)", 
      "            .attr(\"r\", 2)", 
      "            .attr(\"fill\", colorbrewer[\"RdYlBu\"][11][%d]);", 
      "        \"\"\" % (x/5,y/5,c)", 
      "    for n,nbrs in g.adjacency_iter():", 
      "        for nbr,eattr in nbrs.items():", 
      "            #print n, nbr, pos[n], pos[nbr]", 
      "            x1,y1 = pos[n]", 
      "            x2,y2 = pos[nbr]", 
      "            ", 
      "            js += \"\"\"", 
      "            svg.append(\"path\")", 
      "            .attr(\"d\", \"M %d %d L %d %d\")", 
      "            .attr(\"stroke\", colorbrewer[\"RdYlBu\"][11][%d])", 
      "            .attr(\"stroke-width\",\"1\");\"\"\" % (x1/5, y1/5, x2/5, y2/5, c) ", 
      "    send_js(js)"
     ], 
     "language": "python", 
     "outputs": [], 
     "prompt_number": 10
    }, 
    {
     "cell_type": "code", 
     "collapsed": false, 
     "input": [
      "for g in C:", 
      "    drawGraph(g, pos)"
     ], 
     "language": "python", 
     "outputs": [], 
     "prompt_number": 17
    }, 
    {
     "cell_type": "code", 
     "collapsed": true, 
     "input": [
      "import random", 
      "", 
      "nodeData = []", 
      "edgeData = []", 
      "", 
      "def initGraph(g, pos):", 
      "    c = random.randint(0,10)", 
      "    js = \"\"", 
      "    for n in g.nodes():", 
      "        x,y = pos[n]", 
      "        js += \"\"\"", 
      "        var svg = d3.select(\"#chart\").select(\"svg\");", 
      "        svg.append(\"circle\")", 
      "            .attr(\"cx\", 250)", 
      "            .attr(\"cy\", 250)", 
      "            .attr(\"r\", 3)", 
      "            .attr(\"fill\", colorbrewer[\"RdYlBu\"][11][%d]);", 
      "        \"\"\" % c", 
      "        nodeData.append( [int(x/5), int(y/5)] )", 
      "        ", 
      "    for n,nbrs in g.adjacency_iter():", 
      "        for nbr,eattr in nbrs.items():", 
      "            #print n, nbr, pos[n], pos[nbr]", 
      "            x1,y1 = pos[n]", 
      "            x2,y2 = pos[nbr]", 
      "            ", 
      "            js += \"\"\"", 
      "            svg.append(\"path\")", 
      "            .attr(\"d\", \"M 250 250 L 250 250\")", 
      "            .attr(\"stroke\", colorbrewer[\"RdYlBu\"][11][%d])", 
      "            .attr(\"stroke-width\",\"1\");\"\"\" % (c) ", 
      "            edgeData.append( [ int(x1/5), int(y1/5), int(x2/5), int(y2/5) ])", 
      "", 
      "    send_js(js)", 
      "    "
     ], 
     "language": "python", 
     "outputs": [], 
     "prompt_number": 18
    }, 
    {
     "cell_type": "code", 
     "collapsed": true, 
     "input": [
      "for g in C:", 
      "    initGraph(g, pos)"
     ], 
     "language": "python", 
     "outputs": [], 
     "prompt_number": 19
    }, 
    {
     "cell_type": "code", 
     "collapsed": true, 
     "input": [
      "import json", 
      "js = \"\"\"", 
      "    var svg = d3.select(\"#chart\").select(\"svg\");", 
      "    d3.selectAll(\"circle\")", 
      "      .data(%s)", 
      "      .transition()", 
      "      .duration(10000)", 
      "      .attr(\"cx\", function(d) {return d[0];} )", 
      "      .attr(\"cy\", function(d) {return d[1];} );\"\"\" % json.dumps(nodeData)", 
      "js += \"\"\"", 
      "    d3.selectAll(\"path\")", 
      "      .data(%s)", 
      "      .transition()", 
      "      .duration(10000)", 
      "      .attr(\"d\", function(d) {return \"M \"+d[0]+\" \"+d[1]+\" L \"+d[2]+\" \"+d[3];} )", 
      "      .attr(\"stroke-width\",\"1\");;\"\"\" % json.dumps(edgeData)", 
      "send_js(js)", 
      "         "
     ], 
     "language": "python", 
     "outputs": [], 
     "prompt_number": 20
    }, 
    {
     "cell_type": "code", 
     "collapsed": true, 
     "input": [], 
     "language": "python", 
     "outputs": []
    }
   ]
  }
 ]
}