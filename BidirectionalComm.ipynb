{
 "metadata": {
  "name": "BidirectionalComm"
 },
 "nbformat": 3,
 "worksheets": [
  {
   "cells": [
    {
     "cell_type": "markdown",
     "source": [
      "### This notebook shows how to make bi-directional communication between a ipython notebook front-end and the back end ipython kernel",
      "",
      "I have a forked ipython in github that fixes a number of thing to make this work. See my commit https://github.com/cschin/ipython/commit/3a34d3b0c4d42bb1ef7b42660b12d429936cb287"
     ]
    },
    {
     "cell_type": "code",
     "collapsed": true,
     "input": [
      "from IPython.core.display import HTML, Javascript, display_javascript, display_html",
      "import time"
     ],
     "language": "python",
     "outputs": [],
     "prompt_number": 1
    },
    {
     "cell_type": "code",
     "collapsed": false,
     "input": [
      "def create_elment(elm, name, innerHTML):",
      "    display_html(\"\"\"<%s id=\"%s\">%s</%s>\"\"\" % (elm, name, innerHTML, elm), raw=True)",
      "",
      "def create_button(name, text):",
      "    create_elment(\"button\", name, text)",
      "    ",
      "def create_div(name, text):",
      "    create_elment(\"div\", name, text)",
      "    ",
      "def set_onclick_python(name, call):",
      "    display_javascript(\"\"\"$('%s')[0].onclick = function () {IPython.notebook.kernel.execute('%s') }\"\"\" % (name, call),raw=True)",
      "    ",
      "def set_onclick_javascript(name, javascript):",
      "    display_javascript(\"\"\"$('%s')[0].onclick = function () {%s}\"\"\" % (name, javascript),raw=True)",
      "",
      "def update_button(text):",
      "    i = 0",
      "    while 1:",
      "        time.sleep(0.1)",
      "        i += 1",
      "        display_javascript( \"\"\"$(\"div#b\")[0].innerHTML=\"%s %d\";\"\"\" % (text, i), raw=True)"
     ],
     "language": "python",
     "outputs": [],
     "prompt_number": 2
    },
    {
     "cell_type": "markdown",
     "source": [
      "The code below will create two buttons and a text div-element. When the \"Start counting\" button is click, the frontend javascript code call the function `updata_button` to update the frontend text div-element through `display_javascript`. You can interupt the loop by clicking the `stop` button."
     ]
    },
    {
     "cell_type": "code",
     "collapsed": false,
     "input": [
      "create_button(\"a\",\"Start Counting\")",
      "create_div(\"b\",\"Let's Count\")",
      "create_button(\"stp\",\"stop\")",
      "set_onclick_python(\"button#a\", \"\"\"update_button(\"Counting now: \")\"\"\")",
      "set_onclick_javascript(\"button#stp\", \"\"\"IPython.notebook.kernel.interrupt()\"\"\")"
     ],
     "language": "python",
     "outputs": [
      {
       "html": [
        "<button id=\"a\">Start Counting</button>"
       ],
       "output_type": "display_data"
      },
      {
       "html": [
        "<div id=\"b\">Let's Count</div>"
       ],
       "output_type": "display_data"
      },
      {
       "html": [
        "<button id=\"stp\">stop</button>"
       ],
       "output_type": "display_data"
      },
      {
       "javascript": [
        "$('button#a')[0].onclick = function () {IPython.notebook.kernel.execute('update_button(\"Counting now: \")') }"
       ],
       "output_type": "display_data"
      },
      {
       "javascript": [
        "$('button#stp')[0].onclick = function () {IPython.notebook.kernel.interrupt()}"
       ],
       "output_type": "display_data"
      }
     ],
     "prompt_number": 3
    },
    {
     "cell_type": "markdown",
     "source": [
      "The following two cells use the code modified from the wikipedia page about Burrows-Wheeler transformation so we can set up some interactive example."
     ]
    },
    {
     "cell_type": "code",
     "collapsed": true,
     "input": [
      "def bwt(s):",
      "    \"\"\"Apply Burrows-Wheeler transform to input string.\"\"\"",
      "    assert \"\\0\" not in s, \"Input string cannot contain null character ('\\0')\"",
      "    assert \"$\" not in s, \"Input string cannot contain null character ('\\0')\"",
      "    s += \"\\0\"  # Add end of file marker",
      "    table = sorted(s[i:] + s[:i] for i in range(len(s)))  # Table of rotations of string",
      "    last_column = [row[-1:] for row in table]  # Last characters of each row",
      "    s = \"\".join(last_column).replace(\"\\0\",\"$\")",
      "    return table, s # Convert list of characters into string",
      "",
      "def update_bwt(s):",
      "    table, ts = bwt(s)",
      "    s = \"<br/>\".join(r.replace(\"\\0\",\"$\") for r in table)",
      "    s += \"<br/>=====<br/>\"+ ts",
      "    display_javascript(\"\"\" $(\"div#bwt_output\")[0].innerHTML=\"<pre>%s</pre>\";$(\"div#bwt_output\")[0].data=\"%s\" \"\"\" % (s,ts),raw=True)"
     ],
     "language": "python",
     "outputs": [],
     "prompt_number": 5
    },
    {
     "cell_type": "code",
     "collapsed": false,
     "input": [
      "def ibwt(r):",
      "    \"\"\"Apply inverse Burrows-Wheeler transform.\"\"\"",
      "    r = r.replace(\"$\",\"\\0\")",
      "    table = [\"\"] * len(r)  # Make empty table",
      "    tables = []",
      "    for i in range(len(r)):",
      "        unsort_table = list(r[i] + table[i] for i in range(len(r)) ) ",
      "        table = sorted(unsort_table )  # Add a column of r",
      "        tables.append( (unsort_table, table) )",
      "    s = [row for row in table if row.endswith(\"\\0\")][0]  # Find the correct row (ending in \"\\0\")",
      "    return tables, s.rstrip(\"\\0\")  # Get rid of trailing null character",
      "",
      "def update_ibwt(s):",
      "    tables, ts = ibwt(s)",
      "    s = \"\"",
      "    for ut, t in tables:",
      "        for r in zip( list(r.replace(\"\\0\",\"$\") for r in ut), list(r.replace(\"\\0\",\"$\") for r in t) ):",
      "            s += r[0] + \" | \" + r[1] + \"<br/>\"",
      "        s += \"<br/>---<br/>\"",
      "    s += \"<br/>=====<br/>\" + ts",
      "    display_javascript(\"\"\" $(\"div#ibwt_output\")[0].innerHTML=\"<pre>%s</pre>\" ; \"\"\" % s, raw=True)"
     ],
     "language": "python",
     "outputs": [],
     "prompt_number": 6
    },
    {
     "cell_type": "markdown",
     "source": [
      "The following code shows a simple example on how to pass the text from a input-elment back to the functions in the ipython kernel. One can change the text in the text fiel and excute the python function by click the frontend button."
     ]
    },
    {
     "cell_type": "code",
     "collapsed": false,
     "input": [
      "display_html(\"\"\"Input a string: <input type=\"text\" name=\"aString\" size=\"60\" />\"\"\", raw=True)",
      "display_html(\"\"\"<button id=\"BWT\">BWT</button>\"\"\", raw=True)",
      "display_html(\"\"\"BWT result: <div id=\"bwt_output\"></div>\"\"\", raw=True)",
      "display_javascript(\"\"\"$(\"button#BWT\")[0].onclick = ",
      "function () {s = $(\"input[name=aString]\")[0].value; IPython.notebook.kernel.execute(\"s = '\"+s+\"'; update_bwt(s)\") }\"\"\", raw=True)",
      "display_html(\"\"\"<button id=\"IBWT\">IBWT</button>\"\"\", raw=True)",
      "display_html(\"\"\"IBWT result: <div id=\"ibwt_output\"></div>\"\"\", raw=True)",
      "display_javascript(\"\"\"$(\"button#IBWT\")[0].onclick = ",
      "function () {s = $(\"div#bwt_output\")[0].data;IPython.notebook.kernel.execute(\"s = '\"+s+\"'; update_ibwt(s)\") }\"\"\", raw=True)"
     ],
     "language": "python",
     "outputs": [
      {
       "html": [
        "Input a string: <input type=\"text\" name=\"aString\" size=\"60\" />"
       ],
       "output_type": "display_data"
      },
      {
       "html": [
        "<button id=\"BWT\">BWT</button>"
       ],
       "output_type": "display_data"
      },
      {
       "html": [
        "BWT result: <div id=\"bwt_output\"></div>"
       ],
       "output_type": "display_data"
      },
      {
       "javascript": [
        "$(\"button#BWT\")[0].onclick = ",
        "function () {s = $(\"input[name=aString]\")[0].value; IPython.notebook.kernel.execute(\"s = '\"+s+\"'; update_bwt(s)\") }"
       ],
       "output_type": "display_data"
      },
      {
       "html": [
        "<button id=\"IBWT\">IBWT</button>"
       ],
       "output_type": "display_data"
      },
      {
       "html": [
        "IBWT result: <div id=\"ibwt_output\"></div>"
       ],
       "output_type": "display_data"
      },
      {
       "javascript": [
        "$(\"button#IBWT\")[0].onclick = ",
        "function () {s = $(\"div#bwt_output\")[0].data;IPython.notebook.kernel.execute(\"s = '\"+s+\"'; update_ibwt(s)\") }"
       ],
       "output_type": "display_data"
      }
     ],
     "prompt_number": 10
    },
    {
     "cell_type": "code",
     "collapsed": true,
     "input": [],
     "language": "python",
     "outputs": []
    }
   ]
  }
 ]
}