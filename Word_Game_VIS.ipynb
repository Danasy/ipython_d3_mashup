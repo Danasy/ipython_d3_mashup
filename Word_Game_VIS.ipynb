{
 "metadata": {
  "name": "Word_Game_VIS"
 },
 "nbformat": 3,
 "worksheets": [
  {
   "cells": [
    {
     "cell_type": "code",
     "collapsed": false,
     "input": [
      "all_words = [ w.strip().upper() for w in open(\"/usr/share/dict/words\") ]",
      "",
      "n_dict = {}",
      "",
      "for w in all_words:",
      "    lw = len(w)",
      "    n_dict.setdefault(lw,set())",
      "    n_dict[lw].add(w)",
      "    ",
      "alphabets = [chr(x) for x in range(ord('A'),ord('Z')+1)]",
      "",
      "def find_neighbors(w):",
      "    ",
      "    lw = len(w)",
      "    ",
      "    if w not in n_dict[lw]:",
      "        raise StopIteration",
      "        ",
      "    for p in range(lw):",
      "        for a in alphabets:",
      "            nw = list(w)",
      "            if a == nw[p]: ",
      "                continue",
      "            nw[p] = a",
      "            nw = \"\".join(nw)",
      "            if nw in n_dict[lw]:",
      "                yield nw"
     ],
     "language": "python",
     "outputs": [],
     "prompt_number": 1
    },
    {
     "cell_type": "code",
     "collapsed": false,
     "input": [
      "def find_path(word1, word2):",
      "",
      "    assert len(word1) == len(word2)",
      "",
      "    visited_words = set()",
      "    queue = []",
      "    track_back = {}",
      "    track_back[word1] = None",
      "    w1 = word1",
      "    found = False",
      "    while 1:",
      "        for w in find_neighbors(w1):",
      "            if w in track_back:",
      "                continue",
      "            track_back[w] = w1",
      "            if w == word2:",
      "                found = True",
      "                break",
      "            else:",
      "                queue.append(w)",
      "        if found:",
      "            break",
      "        elif len(queue) == 0:",
      "            found = False",
      "            break",
      "        else:",
      "            w1 = queue.pop(0)",
      "    if found:",
      "        trace = []",
      "        w2 = word2",
      "        while 1:",
      "            trace.append(w2)",
      "            w = track_back[w2]",
      "            if w == None:",
      "                break",
      "            w2 = w",
      "        #print word1, word2, len( trace ) - 1 , list(reversed(trace))",
      "        print word1, word2, len( trace ) - 1",
      "    else:",
      "        #raise BaseException, \"not possible\"",
      "        print \"not possible\"    "
     ],
     "language": "python",
     "outputs": [],
     "prompt_number": 2
    },
    {
     "cell_type": "code",
     "collapsed": false,
     "input": [
      "find_path(\"COLD\",\"CORD\")"
     ],
     "language": "python",
     "outputs": [
      {
       "output_type": "stream",
       "stream": "stdout",
       "text": [
        "COLD CORD 1"
       ]
      }
     ],
     "prompt_number": 3
    },
    {
     "cell_type": "code",
     "collapsed": false,
     "input": [
      "find_path(\"COLD\",\"WARM\")"
     ],
     "language": "python",
     "outputs": [
      {
       "output_type": "stream",
       "stream": "stdout",
       "text": [
        "COLD WARM 4"
       ]
      }
     ],
     "prompt_number": 4
    },
    {
     "cell_type": "code",
     "collapsed": false,
     "input": [
      "word_pairs = [(\"PIG\", \"STY\"),",
      "(\"OAT\", \"RYE\"),",
      "(\"CHIN\", \"NOSE\"),",
      "(\"PITY\", \"GOOD\"),",
      "(\"PITCH\", \"TENTS\"),",
      "(\"FLOUR\", \"BREAD\"),",
      "(\"BRAVE\", \"BRIEF\")]"
     ],
     "language": "python",
     "outputs": [],
     "prompt_number": 5
    },
    {
     "cell_type": "code",
     "collapsed": false,
     "input": [
      "for wp in word_pairs:",
      "    find_path(*wp)"
     ],
     "language": "python",
     "outputs": [
      {
       "output_type": "stream",
       "stream": "stdout",
       "text": [
        "PIG STY 4",
        "OAT"
       ]
      },
      {
       "output_type": "stream",
       "stream": "stdout",
       "text": [
        " RYE 4",
        "CHIN"
       ]
      },
      {
       "output_type": "stream",
       "stream": "stdout",
       "text": [
        " NOSE 5",
        "PITY"
       ]
      },
      {
       "output_type": "stream",
       "stream": "stdout",
       "text": [
        " GOOD 5",
        "not possible"
       ]
      },
      {
       "output_type": "stream",
       "stream": "stdout",
       "text": [
        "",
        "FLOUR"
       ]
      },
      {
       "output_type": "stream",
       "stream": "stdout",
       "text": [
        " BREAD 6",
        "BRAVE"
       ]
      },
      {
       "output_type": "stream",
       "stream": "stdout",
       "text": [
        " BRIEF 8"
       ]
      }
     ],
     "prompt_number": 6
    },
    {
     "cell_type": "code",
     "collapsed": false,
     "input": [
      "import networkx as nx",
      "from IPython.core.display import display_javascript",
      "from IPython.frontend.html.notebook import visutils as vis",
      "import json",
      "import time",
      "reload(vis)"
     ],
     "language": "python",
     "outputs": [
      {
       "output_type": "pyout",
       "prompt_number": 7,
       "text": [
        "<module 'IPython.frontend.html.notebook.visutils' from '/Users/cschin/Sandbox/ipy_dev/ipython/IPython/frontend/html/notebook/visutils.pyc'>"
       ]
      }
     ],
     "prompt_number": 7
    },
    {
     "cell_type": "code",
     "collapsed": false,
     "input": [
      "vis.run_js(\"$.getScript('/static/d3/d3.js')\")",
      "vis.run_js(\"$.getScript('/static/d3/d3.layout.js')\")",
      "vis.run_js(\"$.getScript('/static/d3/d3.geom.js')\")",
      "time.sleep(2)"
     ],
     "language": "python",
     "outputs": [
      {
       "javascript": [
        "$.getScript('/static/d3/d3.js')"
       ],
       "output_type": "display_data"
      },
      {
       "javascript": [
        "$.getScript('/static/d3/d3.layout.js')"
       ],
       "output_type": "display_data"
      },
      {
       "javascript": [
        "$.getScript('/static/d3/d3.geom.js')"
       ],
       "output_type": "display_data"
      }
     ],
     "prompt_number": 8
    },
    {
     "cell_type": "code",
     "collapsed": false,
     "input": [
      "def get_group(w, w1):",
      "    c = 0",
      "    for c1, c2 in zip(w,w1):",
      "        if c1 == c2:",
      "            c += 1",
      "            continue",
      "        break",
      "    return c",
      "",
      "def set_g_json(word):",
      "    G=nx.Graph()",
      "    w = word",
      "    for w2 in find_neighbors(w):",
      "        G.add_edge(w, w2, attr_dict={\"l\":1})",
      "        for w3 in find_neighbors(w2):",
      "            if w3 != w:",
      "                G.add_edge(w2, w3, attr_dict={\"l\":2})",
      "    ",
      "    def generateD3JSONForG(G):",
      "        s = {\"nodes\":[], \"links\":[]}",
      "        name2Idx = {}",
      "        c = 0",
      "        for n in G.nodes():",
      "            s[\"nodes\"].append({\"name\":n, \"group\":get_group(w,n)})",
      "            name2Idx[n] = c",
      "            c += 1",
      "        for e in G.edges():",
      "            l = G.adj[e[0]][e[1]][\"l\"]",
      "            if l == 1:",
      "                col = \"rgb(0,0,255)\"",
      "                width = 3",
      "            else:",
      "                col = \"rgb(255,0,0)\"",
      "                width = 1",
      "            s[\"links\"].append({\"source\":name2Idx[e[1]], \"target\":name2Idx[e[0]], \"color\":col, \"width\":width})",
      "        return json.dumps(s)     ",
      "    n_json = generateD3JSONForG(G)",
      "    vis.set_js_var(\"n_json\", n_json)",
      "    vis.run_js(\"n_json=$.parseJSON(n_json)\")"
     ],
     "language": "python",
     "outputs": [],
     "prompt_number": 21
    },
    {
     "cell_type": "code",
     "collapsed": false,
     "input": [
      "try:",
      "    vis_display.remove()",
      "except:",
      "    pass",
      "plot_area_style = {\"position\":\"absolute\",",
      "                   \"top\":\"0px\",",
      "                   \"width\":\"500px\",",
      "                   \"left\":\"850px\",",
      "                   \"height\":\"520px\",",
      "                   \"border\":\"9px groove\",",
      "                   \"background-color\":\"rgba(200,200,200,0.5)\"}",
      "",
      "vis_cell = vis.VISCellWidget(name=\"plot_area\", style = plot_area_style)",
      "",
      "## attache the container to a \"visual display\"",
      "vis_display = vis.NotebookVisualDisplay(container = vis_cell)",
      "",
      "",
      "## create the SVG element for D3",
      "svg_style = {\"width\":\"500px\", ",
      "             \"height\":\"445px\",",
      "             \"border\":\"2px solid\"}",
      "",
      "svg = vis.SVGWidget(name = \"svg_display\", ",
      "                   parent = \"plot_area\", ",
      "                   style = svg_style,",
      "                   vis = vis_display)"
     ],
     "language": "python",
     "outputs": [
      {
       "javascript": [
        "$('#plot_area').remove()"
       ],
       "output_type": "display_data"
      }
     ],
     "prompt_number": 22
    },
    {
     "cell_type": "code",
     "collapsed": false,
     "input": [
      "set_g_json(\"LOST\")",
      "vis_display.js_code=[]",
      "js = \"\"\"",
      "var x=function(json) {",
      "  var w = 500,",
      "      h = 400,",
      "      fill = d3.scale.category10();",
      "  var vis = d3.select(\"#plot_area #svg_display\")",
      "  var force = d3.layout.force()",
      "      .charge(-150)",
      "      .linkDistance(10)",
      "      .nodes(json.nodes)",
      "      .links(json.links)",
      "      .size([w, h])",
      "      .start();",
      "",
      "  var link = vis.selectAll(\"line.link\")",
      "      .data(json.links)",
      "      .enter().append(\"svg:line\")",
      "      .attr(\"class\", \"link\")",
      "      .style(\"stroke-width\", function(d) { return d.width; })",
      "      .style(\"stroke\", function(d) { return d.color; })",
      "      .attr(\"x1\", function(d) { return d.source.x; })",
      "      .attr(\"y1\", function(d) { return d.source.y; })",
      "      .attr(\"x2\", function(d) { return d.target.x; })",
      "      .attr(\"y2\", function(d) { return d.target.y; });",
      "",
      "  var node = vis.selectAll(\"circle.node\")",
      "      .data(json.nodes)",
      "      .enter().append(\"svg:circle\")",
      "      .attr(\"class\", \"node\")",
      "      .attr(\"cx\", function(d) { return d.x; })",
      "      .attr(\"cy\", function(d) { return d.y; })",
      "      .attr(\"r\", 8)",
      "      .style(\"fill\", function(d) { return fill(d.group); })",
      "      .call(force.drag);",
      "",
      "  node.append(\"svg:title\")",
      "      .text(function(d) { return d.name; });",
      "",
      "  vis.style(\"opacity\", 1e-6)",
      "    .transition()",
      "      .duration(1000)",
      "      .style(\"opacity\", 1);",
      "",
      "  force.on(\"tick\", function() {",
      "    link.attr(\"x1\", function(d) { return d.source.x; })",
      "        .attr(\"y1\", function(d) { return d.source.y; })",
      "        .attr(\"x2\", function(d) { return d.target.x; })",
      "        .attr(\"y2\", function(d) { return d.target.y; });",
      "",
      "    node.attr(\"cx\", function(d) { return d.x; })",
      "        .attr(\"cy\", function(d) { return d.y; });",
      "  });};",
      "x(n_json)",
      "\"\"\"",
      "vis_display.attach_js_code(js)",
      "vis_display.refresh()"
     ],
     "language": "python",
     "outputs": [
      {
       "javascript": [
        "n_json=\"{\\\"nodes\\\": [{\\\"group\\\": 1, \\\"name\\\": \\\"LEST\\\"}, {\\\"group\\\": 0, \\\"name\\\": \\\"GOUT\\\"}, {\\\"group\\\": 0, \\\"name\\\": \\\"DOUT\\\"}, {\\\"group\\\": 2, \\\"name\\\": \\\"LOFT\\\"}, {\\\"group\\\": 1, \\\"name\\\": \\\"LESS\\\"}, {\\\"group\\\": 0, \\\"name\\\": \\\"TOGT\\\"}, {\\\"group\\\": 1, \\\"name\\\": \\\"LINT\\\"}, {\\\"group\\\": 0, \\\"name\\\": \\\"TOOT\\\"}, {\\\"group\\\": 1, \\\"name\\\": \\\"LIFT\\\"}, {\\\"group\\\": 0, \\\"name\\\": \\\"JEST\\\"}, {\\\"group\\\": 0, \\\"name\\\": \\\"SOOT\\\"}, {\\\"group\\\": 0, \\\"name\\\": \\\"TOLT\\\"}, {\\\"group\\\": 0, \\\"name\\\": \\\"BEST\\\"}, {\\\"group\\\": 0, \\\"name\\\": \\\"MUST\\\"}, {\\\"group\\\": 0, \\\"name\\\": \\\"OUST\\\"}, {\\\"group\\\": 1, \\\"name\\\": \\\"LASS\\\"}, {\\\"group\\\": 1, \\\"name\\\": \\\"LAST\\\"}, {\\\"group\\\": 0, \\\"name\\\": \\\"GUST\\\"}, {\\\"group\\\": 2, \\\"name\\\": \\\"LONE\\\"}, {\\\"group\\\": 0, \\\"name\\\": \\\"BUST\\\"}, {\\\"group\\\": 1, \\\"name\\\": \\\"LASA\\\"}, {\\\"group\\\": 0, \\\"name\\\": \\\"MONT\\\"}, {\\\"group\\\": 0, \\\"name\\\": \\\"HOIT\\\"}, {\\\"group\\\": 0, \\\"name\\\": \\\"JOSS\\\"}, {\\\"group\\\": 1, \\\"name\\\": \\\"LASH\\\"}, {\\\"group\\\": 1, \\\"name\\\": \\\"LASI\\\"}, {\\\"group\\\": 1, \\\"name\\\": \\\"LASK\\\"}, {\\\"group\\\": 0, \\\"name\\\": \\\"NOSE\\\"}, {\\\"group\\\": 0, \\\"name\\\": \\\"BAST\\\"}, {\\\"group\\\": 0, \\\"name\\\": \\\"BOSS\\\"}, {\\\"group\\\": 0, \\\"name\\\": \\\"PAST\\\"}, {\\\"group\\\": 0, \\\"name\\\": \\\"KIST\\\"}, {\\\"group\\\": 2, \\\"name\\\": \\\"LOGE\\\"}, {\\\"group\\\": 0, \\\"name\\\": \\\"BOSH\\\"}, {\\\"group\\\": 0, \\\"name\\\": \\\"OAST\\\"}, {\\\"group\\\": 0, \\\"name\\\": \\\"MOUT\\\"}, {\\\"group\\\": 0, \\\"name\\\": \\\"DUST\\\"}, {\\\"group\\\": 0, \\\"name\\\": \\\"BOSE\\\"}, {\\\"group\\\": 0, \\\"name\\\": \\\"RIST\\\"}, {\\\"group\\\": 0, \\\"name\\\": \\\"KOFT\\\"}, {\\\"group\\\": 2, \\\"name\\\": \\\"LOON\\\"}, {\\\"group\\\": 2, \\\"name\\\": \\\"LOUR\\\"}, {\\\"group\\\": 2, \\\"name\\\": \\\"LOOM\\\"}, {\\\"group\\\": 2, \\\"name\\\": \\\"LOOK\\\"}, {\\\"group\\\": 2, \\\"name\\\": \\\"LOOF\\\"}, {\\\"group\\\": 0, \\\"name\\\": \\\"ROSE\\\"}, {\\\"group\\\": 2, \\\"name\\\": \\\"LOOD\\\"}, {\\\"group\\\": 0, \\\"name\\\": \\\"COFT\\\"}, {\\\"group\\\": 0, \\\"name\\\": \\\"PEST\\\"}, {\\\"group\\\": 1, \\\"name\\\": \\\"LETT\\\"}, {\\\"group\\\": 2, \\\"name\\\": \\\"LOOT\\\"}, {\\\"group\\\": 2, \\\"name\\\": \\\"LOOP\\\"}, {\\\"group\\\": 0, \\\"name\\\": \\\"ROSS\\\"}, {\\\"group\\\": 1, \\\"name\\\": \\\"LISS\\\"}, {\\\"group\\\": 0, \\\"name\\\": \\\"ZEST\\\"}, {\\\"group\\\": 0, \\\"name\\\": \\\"BOOT\\\"}, {\\\"group\\\": 0, \\\"name\\\": \\\"COLT\\\"}, {\\\"group\\\": 0, \\\"name\\\": \\\"JOSE\\\"}, {\\\"group\\\": 0, \\\"name\\\": \\\"TOAT\\\"}, {\\\"group\\\": 0, \\\"name\\\": \\\"SIST\\\"}, {\\\"group\\\": 0, \\\"name\\\": \\\"GOSH\\\"}, {\\\"group\\\": 0, \\\"name\\\": \\\"HEST\\\"}, {\\\"group\\\": 0, \\\"name\\\": \\\"GAST\\\"}, {\\\"group\\\": 0, \\\"name\\\": \\\"JUST\\\"}, {\\\"group\\\": 0, \\\"name\\\": \\\"POUT\\\"}, {\\\"group\\\": 1, \\\"name\\\": \\\"LUNT\\\"}, {\\\"group\\\": 0, \\\"name\\\": \\\"HIST\\\"}, {\\\"group\\\": 1, \\\"name\\\": \\\"LILT\\\"}, {\\\"group\\\": 2, \\\"name\\\": \\\"LOPE\\\"}, {\\\"group\\\": 0, \\\"name\\\": \\\"ROOT\\\"}, {\\\"group\\\": 0, \\\"name\\\": \\\"RUST\\\"}, {\\\"group\\\": 0, \\\"name\\\": \\\"WIST\\\"}, {\\\"group\\\": 2, \\\"name\\\": \\\"LOVE\\\"}, {\\\"group\\\": 0, \\\"name\\\": \\\"GIST\\\"}, {\\\"group\\\": 0, \\\"name\\\": \\\"POSH\\\"}, {\\\"group\\\": 0, \\\"name\\\": \\\"COOT\\\"}, {\\\"group\\\": 0, \\\"name\\\": \\\"POSE\\\"}, {\\\"group\\\": 0, \\\"name\\\": \\\"TOFT\\\"}, {\\\"group\\\": 2, \\\"name\\\": \\\"LOIS\\\"}, {\\\"group\\\": 0, \\\"name\\\": \\\"POSY\\\"}, {\\\"group\\\": 0, \\\"name\\\": \\\"WOFT\\\"}, {\\\"group\\\": 0, \\\"name\\\": \\\"POST\\\"}, {\\\"group\\\": 0, \\\"name\\\": \\\"MIST\\\"}, {\\\"group\\\": 0, \\\"name\\\": \\\"POSS\\\"}, {\\\"group\\\": 0, \\\"name\\\": \\\"TOIT\\\"}, {\\\"group\\\": 0, \\\"name\\\": \\\"NAST\\\"}, {\\\"group\\\": 0, \\\"name\\\": \\\"MYST\\\"}, {\\\"group\\\": 0, \\\"name\\\": \\\"MOOT\\\"}, {\\\"group\\\": 1, \\\"name\\\": \\\"LEAT\\\"}, {\\\"group\\\": 0, \\\"name\\\": \\\"PIST\\\"}, {\\\"group\\\": 0, \\\"name\\\": \\\"GEST\\\"}, {\\\"group\\\": 0, \\\"name\\\": \\\"TOSY\\\"}, {\\\"group\\\": 0, \\\"name\\\": \\\"FOSH\\\"}, {\\\"group\\\": 0, \\\"name\\\": \\\"VEST\\\"}, {\\\"group\\\": 0, \\\"name\\\": \\\"POLT\\\"}, {\\\"group\\\": 0, \\\"name\\\": \\\"SOSS\\\"}, {\\\"group\\\": 0, \\\"name\\\": \\\"COPT\\\"}, {\\\"group\\\": 2, \\\"name\\\": \\\"LOBE\\\"}, {\\\"group\\\": 0, \\\"name\\\": \\\"JOSH\\\"}, {\\\"group\\\": 0, \\\"name\\\": \\\"COSH\\\"}, {\\\"group\\\": 0, \\\"name\\\": \\\"FOOT\\\"}, {\\\"group\\\": 0, \\\"name\\\": \\\"COST\\\"}, {\\\"group\\\": 0, \\\"name\\\": \\\"COSS\\\"}, {\\\"group\\\": 2, \\\"name\\\": \\\"LORS\\\"}, {\\\"group\\\": 0, \\\"name\\\": \\\"FIST\\\"}, {\\\"group\\\": 0, \\\"name\\\": \\\"COSY\\\"}, {\\\"group\\\": 0, \\\"name\\\": \\\"SOSH\\\"}, {\\\"group\\\": 0, \\\"name\\\": \\\"CAST\\\"}, {\\\"group\\\": 0, \\\"name\\\": \\\"CIST\\\"}, {\\\"group\\\": 1, \\\"name\\\": \\\"LYSE\\\"}, {\\\"group\\\": 0, \\\"name\\\": \\\"FAST\\\"}, {\\\"group\\\": 0, \\\"name\\\": \\\"MOWT\\\"}, {\\\"group\\\": 0, \\\"name\\\": \\\"TORT\\\"}, {\\\"group\\\": 1, \\\"name\\\": \\\"LANT\\\"}, {\\\"group\\\": 2, \\\"name\\\": \\\"LORE\\\"}, {\\\"group\\\": 0, \\\"name\\\": \\\"EAST\\\"}, {\\\"group\\\": 0, \\\"name\\\": \\\"NEST\\\"}, {\\\"group\\\": 1, \\\"name\\\": \\\"LEFT\\\"}, {\\\"group\\\": 0, \\\"name\\\": \\\"FUST\\\"}, {\\\"group\\\": 0, \\\"name\\\": \\\"HOSE\\\"}, {\\\"group\\\": 0, \\\"name\\\": \\\"TOSS\\\"}, {\\\"group\\\": 2, \\\"name\\\": \\\"LOCH\\\"}, {\\\"group\\\": 1, \\\"name\\\": \\\"LUSH\\\"}, {\\\"group\\\": 0, \\\"name\\\": \\\"TOST\\\"}, {\\\"group\\\": 1, \\\"name\\\": \\\"LUSK\\\"}, {\\\"group\\\": 1, \\\"name\\\": \\\"LUST\\\"}, {\\\"group\\\": 0, \\\"name\\\": \\\"TOSK\\\"}, {\\\"group\\\": 0, \\\"name\\\": \\\"HOST\\\"}, {\\\"group\\\": 2, \\\"name\\\": \\\"LODE\\\"}, {\\\"group\\\": 2, \\\"name\\\": \\\"LOKE\\\"}, {\\\"group\\\": 3, \\\"name\\\": \\\"LOSS\\\"}, {\\\"group\\\": 4, \\\"name\\\": \\\"LOST\\\"}, {\\\"group\\\": 1, \\\"name\\\": \\\"LISP\\\"}, {\\\"group\\\": 0, \\\"name\\\": \\\"POTT\\\"}, {\\\"group\\\": 1, \\\"name\\\": \\\"LIST\\\"}, {\\\"group\\\": 0, \\\"name\\\": \\\"MORT\\\"}, {\\\"group\\\": 1, \\\"name\\\": \\\"LISH\\\"}, {\\\"group\\\": 1, \\\"name\\\": \\\"LISK\\\"}, {\\\"group\\\": 3, \\\"name\\\": \\\"LOSE\\\"}, {\\\"group\\\": 0, \\\"name\\\": \\\"POET\\\"}, {\\\"group\\\": 1, \\\"name\\\": \\\"LISA\\\"}, {\\\"group\\\": 3, \\\"name\\\": \\\"LOSH\\\"}, {\\\"group\\\": 0, \\\"name\\\": \\\"MOAT\\\"}, {\\\"group\\\": 1, \\\"name\\\": \\\"LISE\\\"}, {\\\"group\\\": 0, \\\"name\\\": \\\"PONT\\\"}, {\\\"group\\\": 0, \\\"name\\\": \\\"MOLT\\\"}, {\\\"group\\\": 0, \\\"name\\\": \\\"WAST\\\"}, {\\\"group\\\": 0, \\\"name\\\": \\\"HOOT\\\"}, {\\\"group\\\": 0, \\\"name\\\": \\\"DOSE\\\"}, {\\\"group\\\": 0, \\\"name\\\": \\\"MOIT\\\"}, {\\\"group\\\": 0, \\\"name\\\": \\\"MOTT\\\"}, {\\\"group\\\": 0, \\\"name\\\": \\\"DOSS\\\"}, {\\\"group\\\": 2, \\\"name\\\": \\\"LOTS\\\"}, {\\\"group\\\": 0, \\\"name\\\": \\\"COAT\\\"}, {\\\"group\\\": 0, \\\"name\\\": \\\"PORT\\\"}, {\\\"group\\\": 0, \\\"name\\\": \\\"CEST\\\"}, {\\\"group\\\": 0, \\\"name\\\": \\\"WUST\\\"}, {\\\"group\\\": 0, \\\"name\\\": \\\"SOFT\\\"}, {\\\"group\\\": 2, \\\"name\\\": \\\"LOTE\\\"}, {\\\"group\\\": 0, \\\"name\\\": \\\"MOSE\\\"}, {\\\"group\\\": 0, \\\"name\\\": \\\"POOT\\\"}, {\\\"group\\\": 0, \\\"name\\\": \\\"HOLT\\\"}, {\\\"group\\\": 0, \\\"name\\\": \\\"REST\\\"}, {\\\"group\\\": 0, \\\"name\\\": \\\"MOST\\\"}, {\\\"group\\\": 0, \\\"name\\\": \\\"FEST\\\"}, {\\\"group\\\": 0, \\\"name\\\": \\\"MOSS\\\"}, {\\\"group\\\": 1, \\\"name\\\": \\\"LENT\\\"}, {\\\"group\\\": 0, \\\"name\\\": \\\"MAST\\\"}, {\\\"group\\\": 0, \\\"name\\\": \\\"VAST\\\"}, {\\\"group\\\": 1, \\\"name\\\": \\\"LEET\\\"}, {\\\"group\\\": 2, \\\"name\\\": \\\"LOUP\\\"}, {\\\"group\\\": 0, \\\"name\\\": \\\"WEST\\\"}, {\\\"group\\\": 0, \\\"name\\\": \\\"ROUT\\\"}, {\\\"group\\\": 2, \\\"name\\\": \\\"LOUT\\\"}, {\\\"group\\\": 0, \\\"name\\\": \\\"TOSH\\\"}, {\\\"group\\\": 1, \\\"name\\\": \\\"LAET\\\"}, {\\\"group\\\": 2, \\\"name\\\": \\\"LOUK\\\"}, {\\\"group\\\": 0, \\\"name\\\": \\\"TOUT\\\"}, {\\\"group\\\": 0, \\\"name\\\": \\\"TEST\\\"}, {\\\"group\\\": 0, \\\"name\\\": \\\"CYST\\\"}, {\\\"group\\\": 0, \\\"name\\\": \\\"BOUT\\\"}, {\\\"group\\\": 0, \\\"name\\\": \\\"YEST\\\"}, {\\\"group\\\": 2, \\\"name\\\": \\\"LOUD\\\"}], \\\"links\\\": [{\\\"color\\\": \\\"rgb(255,0,0)\\\", \\\"source\\\": 93, \\\"target\\\": 0, \\\"width\\\": 1}, {\\\"color\\\": \\\"rgb(255,0,0)\\\", \\\"source\\\": 54, \\\"target\\\": 0, \\\"width\\\": 1}, {\\\"color\\\": \\\"rgb(255,0,0)\\\", \\\"source\\\": 4, \\\"target\\\": 0, \\\"width\\\": 1}, {\\\"color\\\": \\\"rgb(255,0,0)\\\", \\\"source\\\": 116, \\\"target\\\": 0, \\\"width\\\": 1}, {\\\"color\\\": \\\"rgb(255,0,0)\\\", \\\"source\\\": 9, \\\"target\\\": 0, \\\"width\\\": 1}, {\\\"color\\\": \\\"rgb(255,0,0)\\\", \\\"source\\\": 61, \\\"target\\\": 0, \\\"width\\\": 1}, {\\\"color\\\": \\\"rgb(255,0,0)\\\", \\\"source\\\": 12, \\\"target\\\": 0, \\\"width\\\": 1}, {\\\"color\\\": \\\"rgb(255,0,0)\\\", \\\"source\\\": 16, \\\"target\\\": 0, \\\"width\\\": 1}, {\\\"color\\\": \\\"rgb(255,0,0)\\\", \\\"source\\\": 155, \\\"target\\\": 0, \\\"width\\\": 1}, {\\\"color\\\": \\\"rgb(255,0,0)\\\", \\\"source\\\": 117, \\\"target\\\": 0, \\\"width\\\": 1}, {\\\"color\\\": \\\"rgb(255,0,0)\\\", \\\"source\\\": 162, \\\"target\\\": 0, \\\"width\\\": 1}, {\\\"color\\\": \\\"rgb(255,0,0)\\\", \\\"source\\\": 125, \\\"target\\\": 0, \\\"width\\\": 1}, {\\\"color\\\": \\\"rgb(255,0,0)\\\", \\\"source\\\": 164, \\\"target\\\": 0, \\\"width\\\": 1}, {\\\"color\\\": \\\"rgb(255,0,0)\\\", \\\"source\\\": 166, \\\"target\\\": 0, \\\"width\\\": 1}, {\\\"color\\\": \\\"rgb(255,0,0)\\\", \\\"source\\\": 169, \\\"target\\\": 0, \\\"width\\\": 1}, {\\\"color\\\": \\\"rgb(0,0,255)\\\", \\\"source\\\": 131, \\\"target\\\": 0, \\\"width\\\": 3}, {\\\"color\\\": \\\"rgb(255,0,0)\\\", \\\"source\\\": 171, \\\"target\\\": 0, \\\"width\\\": 1}, {\\\"color\\\": \\\"rgb(255,0,0)\\\", \\\"source\\\": 134, \\\"target\\\": 0, \\\"width\\\": 1}, {\\\"color\\\": \\\"rgb(255,0,0)\\\", \\\"source\\\": 48, \\\"target\\\": 0, \\\"width\\\": 1}, {\\\"color\\\": \\\"rgb(255,0,0)\\\", \\\"source\\\": 49, \\\"target\\\": 0, \\\"width\\\": 1}, {\\\"color\\\": \\\"rgb(255,0,0)\\\", \\\"source\\\": 88, \\\"target\\\": 0, \\\"width\\\": 1}, {\\\"color\\\": \\\"rgb(255,0,0)\\\", \\\"source\\\": 178, \\\"target\\\": 0, \\\"width\\\": 1}, {\\\"color\\\": \\\"rgb(255,0,0)\\\", \\\"source\\\": 90, \\\"target\\\": 0, \\\"width\\\": 1}, {\\\"color\\\": \\\"rgb(255,0,0)\\\", \\\"source\\\": 181, \\\"target\\\": 0, \\\"width\\\": 1}, {\\\"color\\\": \\\"rgb(255,0,0)\\\", \\\"source\\\": 173, \\\"target\\\": 1, \\\"width\\\": 1}, {\\\"color\\\": \\\"rgb(255,0,0)\\\", \\\"source\\\": 173, \\\"target\\\": 2, \\\"width\\\": 1}, {\\\"color\\\": \\\"rgb(0,0,255)\\\", \\\"source\\\": 131, \\\"target\\\": 3, \\\"width\\\": 3}, {\\\"color\\\": \\\"rgb(255,0,0)\\\", \\\"source\\\": 173, \\\"target\\\": 3, \\\"width\\\": 1}, {\\\"color\\\": \\\"rgb(255,0,0)\\\", \\\"source\\\": 47, \\\"target\\\": 3, \\\"width\\\": 1}, {\\\"color\\\": \\\"rgb(255,0,0)\\\", \\\"source\\\": 77, \\\"target\\\": 3, \\\"width\\\": 1}, {\\\"color\\\": \\\"rgb(255,0,0)\\\", \\\"source\\\": 8, \\\"target\\\": 3, \\\"width\\\": 1}, {\\\"color\\\": \\\"rgb(255,0,0)\\\", \\\"source\\\": 39, \\\"target\\\": 3, \\\"width\\\": 1}, {\\\"color\\\": \\\"rgb(255,0,0)\\\", \\\"source\\\": 80, \\\"target\\\": 3, \\\"width\\\": 1}, {\\\"color\\\": \\\"rgb(255,0,0)\\\", \\\"source\\\": 50, \\\"target\\\": 3, \\\"width\\\": 1}, {\\\"color\\\": \\\"rgb(255,0,0)\\\", \\\"source\\\": 157, \\\"target\\\": 3, \\\"width\\\": 1}, {\\\"color\\\": \\\"rgb(255,0,0)\\\", \\\"source\\\": 117, \\\"target\\\": 3, \\\"width\\\": 1}, {\\\"color\\\": \\\"rgb(255,0,0)\\\", \\\"source\\\": 130, \\\"target\\\": 4, \\\"width\\\": 1}, {\\\"color\\\": \\\"rgb(255,0,0)\\\", \\\"source\\\": 123, \\\"target\\\": 5, \\\"width\\\": 1}, {\\\"color\\\": \\\"rgb(255,0,0)\\\", \\\"source\\\": 134, \\\"target\\\": 6, \\\"width\\\": 1}, {\\\"color\\\": \\\"rgb(255,0,0)\\\", \\\"source\\\": 50, \\\"target\\\": 7, \\\"width\\\": 1}, {\\\"color\\\": \\\"rgb(255,0,0)\\\", \\\"source\\\": 123, \\\"target\\\": 7, \\\"width\\\": 1}, {\\\"color\\\": \\\"rgb(255,0,0)\\\", \\\"source\\\": 134, \\\"target\\\": 8, \\\"width\\\": 1}, {\\\"color\\\": \\\"rgb(255,0,0)\\\", \\\"source\\\": 50, \\\"target\\\": 10, \\\"width\\\": 1}, {\\\"color\\\": \\\"rgb(255,0,0)\\\", \\\"source\\\": 123, \\\"target\\\": 11, \\\"width\\\": 1}, {\\\"color\\\": \\\"rgb(255,0,0)\\\", \\\"source\\\": 125, \\\"target\\\": 13, \\\"width\\\": 1}, {\\\"color\\\": \\\"rgb(255,0,0)\\\", \\\"source\\\": 163, \\\"target\\\": 13, \\\"width\\\": 1}, {\\\"color\\\": \\\"rgb(255,0,0)\\\", \\\"source\\\": 125, \\\"target\\\": 14, \\\"width\\\": 1}, {\\\"color\\\": \\\"rgb(255,0,0)\\\", \\\"source\\\": 130, \\\"target\\\": 15, \\\"width\\\": 1}, {\\\"color\\\": \\\"rgb(255,0,0)\\\", \\\"source\\\": 16, \\\"target\\\": 15, \\\"width\\\": 1}, {\\\"color\\\": \\\"rgb(255,0,0)\\\", \\\"source\\\": 146, \\\"target\\\": 16, \\\"width\\\": 1}, {\\\"color\\\": \\\"rgb(255,0,0)\\\", \\\"source\\\": 113, \\\"target\\\": 16, \\\"width\\\": 1}, {\\\"color\\\": \\\"rgb(255,0,0)\\\", \\\"source\\\": 62, \\\"target\\\": 16, \\\"width\\\": 1}, {\\\"color\\\": \\\"rgb(255,0,0)\\\", \\\"source\\\": 107, \\\"target\\\": 16, \\\"width\\\": 1}, {\\\"color\\\": \\\"rgb(255,0,0)\\\", \\\"source\\\": 110, \\\"target\\\": 16, \\\"width\\\": 1}, {\\\"color\\\": \\\"rgb(255,0,0)\\\", \\\"source\\\": 20, \\\"target\\\": 16, \\\"width\\\": 1}, {\\\"color\\\": \\\"rgb(255,0,0)\\\", \\\"source\\\": 167, \\\"target\\\": 16, \\\"width\\\": 1}, {\\\"color\\\": \\\"rgb(255,0,0)\\\", \\\"source\\\": 24, \\\"target\\\": 16, \\\"width\\\": 1}, {\\\"color\\\": \\\"rgb(255,0,0)\\\", \\\"source\\\": 25, \\\"target\\\": 16, \\\"width\\\": 1}, {\\\"color\\\": \\\"rgb(255,0,0)\\\", \\\"source\\\": 26, \\\"target\\\": 16, \\\"width\\\": 1}, {\\\"color\\\": \\\"rgb(255,0,0)\\\", \\\"source\\\": 28, \\\"target\\\": 16, \\\"width\\\": 1}, {\\\"color\\\": \\\"rgb(255,0,0)\\\", \\\"source\\\": 125, \\\"target\\\": 16, \\\"width\\\": 1}, {\\\"color\\\": \\\"rgb(255,0,0)\\\", \\\"source\\\": 34, \\\"target\\\": 16, \\\"width\\\": 1}, {\\\"color\\\": \\\"rgb(255,0,0)\\\", \\\"source\\\": 168, \\\"target\\\": 16, \\\"width\\\": 1}, {\\\"color\\\": \\\"rgb(255,0,0)\\\", \\\"source\\\": 30, \\\"target\\\": 16, \\\"width\\\": 1}, {\\\"color\\\": \\\"rgb(255,0,0)\\\", \\\"source\\\": 115, \\\"target\\\": 16, \\\"width\\\": 1}, {\\\"color\\\": \\\"rgb(0,0,255)\\\", \\\"source\\\": 131, \\\"target\\\": 16, \\\"width\\\": 3}, {\\\"color\\\": \\\"rgb(255,0,0)\\\", \\\"source\\\": 85, \\\"target\\\": 16, \\\"width\\\": 1}, {\\\"color\\\": \\\"rgb(255,0,0)\\\", \\\"source\\\": 134, \\\"target\\\": 16, \\\"width\\\": 1}, {\\\"color\\\": \\\"rgb(255,0,0)\\\", \\\"source\\\": 175, \\\"target\\\": 16, \\\"width\\\": 1}, {\\\"color\\\": \\\"rgb(255,0,0)\\\", \\\"source\\\": 125, \\\"target\\\": 17, \\\"width\\\": 1}, {\\\"color\\\": \\\"rgb(255,0,0)\\\", \\\"source\\\": 138, \\\"target\\\": 18, \\\"width\\\": 1}, {\\\"color\\\": \\\"rgb(255,0,0)\\\", \\\"source\\\": 125, \\\"target\\\": 19, \\\"width\\\": 1}, {\\\"color\\\": \\\"rgb(255,0,0)\\\", \\\"source\\\": 163, \\\"target\\\": 21, \\\"width\\\": 1}, {\\\"color\\\": \\\"rgb(255,0,0)\\\", \\\"source\\\": 127, \\\"target\\\": 22, \\\"width\\\": 1}, {\\\"color\\\": \\\"rgb(255,0,0)\\\", \\\"source\\\": 130, \\\"target\\\": 23, \\\"width\\\": 1}, {\\\"color\\\": \\\"rgb(255,0,0)\\\", \\\"source\\\": 141, \\\"target\\\": 24, \\\"width\\\": 1}, {\\\"color\\\": \\\"rgb(255,0,0)\\\", \\\"source\\\": 138, \\\"target\\\": 27, \\\"width\\\": 1}, {\\\"color\\\": \\\"rgb(255,0,0)\\\", \\\"source\\\": 130, \\\"target\\\": 29, \\\"width\\\": 1}, {\\\"color\\\": \\\"rgb(255,0,0)\\\", \\\"source\\\": 81, \\\"target\\\": 30, \\\"width\\\": 1}, {\\\"color\\\": \\\"rgb(255,0,0)\\\", \\\"source\\\": 134, \\\"target\\\": 31, \\\"width\\\": 1}, {\\\"color\\\": \\\"rgb(255,0,0)\\\", \\\"source\\\": 138, \\\"target\\\": 32, \\\"width\\\": 1}, {\\\"color\\\": \\\"rgb(255,0,0)\\\", \\\"source\\\": 141, \\\"target\\\": 33, \\\"width\\\": 1}, {\\\"color\\\": \\\"rgb(255,0,0)\\\", \\\"source\\\": 163, \\\"target\\\": 35, \\\"width\\\": 1}, {\\\"color\\\": \\\"rgb(255,0,0)\\\", \\\"source\\\": 173, \\\"target\\\": 35, \\\"width\\\": 1}, {\\\"color\\\": \\\"rgb(255,0,0)\\\", \\\"source\\\": 125, \\\"target\\\": 36, \\\"width\\\": 1}, {\\\"color\\\": \\\"rgb(255,0,0)\\\", \\\"source\\\": 138, \\\"target\\\": 37, \\\"width\\\": 1}, {\\\"color\\\": \\\"rgb(255,0,0)\\\", \\\"source\\\": 134, \\\"target\\\": 38, \\\"width\\\": 1}, {\\\"color\\\": \\\"rgb(255,0,0)\\\", \\\"source\\\": 50, \\\"target\\\": 40, \\\"width\\\": 1}, {\\\"color\\\": \\\"rgb(255,0,0)\\\", \\\"source\\\": 173, \\\"target\\\": 41, \\\"width\\\": 1}, {\\\"color\\\": \\\"rgb(255,0,0)\\\", \\\"source\\\": 50, \\\"target\\\": 42, \\\"width\\\": 1}, {\\\"color\\\": \\\"rgb(255,0,0)\\\", \\\"source\\\": 50, \\\"target\\\": 43, \\\"width\\\": 1}, {\\\"color\\\": \\\"rgb(255,0,0)\\\", \\\"source\\\": 50, \\\"target\\\": 44, \\\"width\\\": 1}, {\\\"color\\\": \\\"rgb(255,0,0)\\\", \\\"source\\\": 138, \\\"target\\\": 45, \\\"width\\\": 1}, {\\\"color\\\": \\\"rgb(255,0,0)\\\", \\\"source\\\": 50, \\\"target\\\": 46, \\\"width\\\": 1}, {\\\"color\\\": \\\"rgb(255,0,0)\\\", \\\"source\\\": 101, \\\"target\\\": 47, \\\"width\\\": 1}, {\\\"color\\\": \\\"rgb(255,0,0)\\\", \\\"source\\\": 81, \\\"target\\\": 48, \\\"width\\\": 1}, {\\\"color\\\": \\\"rgb(0,0,255)\\\", \\\"source\\\": 131, \\\"target\\\": 50, \\\"width\\\": 3}, {\\\"color\\\": \\\"rgb(255,0,0)\\\", \\\"source\\\": 75, \\\"target\\\": 50, \\\"width\\\": 1}, {\\\"color\\\": \\\"rgb(255,0,0)\\\", \\\"source\\\": 173, \\\"target\\\": 50, \\\"width\\\": 1}, {\\\"color\\\": \\\"rgb(255,0,0)\\\", \\\"source\\\": 55, \\\"target\\\": 50, \\\"width\\\": 1}, {\\\"color\\\": \\\"rgb(255,0,0)\\\", \\\"source\\\": 147, \\\"target\\\": 50, \\\"width\\\": 1}, {\\\"color\\\": \\\"rgb(255,0,0)\\\", \\\"source\\\": 87, \\\"target\\\": 50, \\\"width\\\": 1}, {\\\"color\\\": \\\"rgb(255,0,0)\\\", \\\"source\\\": 100, \\\"target\\\": 50, \\\"width\\\": 1}, {\\\"color\\\": \\\"rgb(255,0,0)\\\", \\\"source\\\": 69, \\\"target\\\": 50, \\\"width\\\": 1}, {\\\"color\\\": \\\"rgb(255,0,0)\\\", \\\"source\\\": 51, \\\"target\\\": 50, \\\"width\\\": 1}, {\\\"color\\\": \\\"rgb(255,0,0)\\\", \\\"source\\\": 160, \\\"target\\\": 50, \\\"width\\\": 1}, {\\\"color\\\": \\\"rgb(255,0,0)\\\", \\\"source\\\": 130, \\\"target\\\": 52, \\\"width\\\": 1}, {\\\"color\\\": \\\"rgb(255,0,0)\\\", \\\"source\\\": 130, \\\"target\\\": 53, \\\"width\\\": 1}, {\\\"color\\\": \\\"rgb(255,0,0)\\\", \\\"source\\\": 134, \\\"target\\\": 53, \\\"width\\\": 1}, {\\\"color\\\": \\\"rgb(255,0,0)\\\", \\\"source\\\": 101, \\\"target\\\": 56, \\\"width\\\": 1}, {\\\"color\\\": \\\"rgb(255,0,0)\\\", \\\"source\\\": 138, \\\"target\\\": 57, \\\"width\\\": 1}, {\\\"color\\\": \\\"rgb(255,0,0)\\\", \\\"source\\\": 123, \\\"target\\\": 58, \\\"width\\\": 1}, {\\\"color\\\": \\\"rgb(255,0,0)\\\", \\\"source\\\": 134, \\\"target\\\": 59, \\\"width\\\": 1}, {\\\"color\\\": \\\"rgb(255,0,0)\\\", \\\"source\\\": 141, \\\"target\\\": 60, \\\"width\\\": 1}, {\\\"color\\\": \\\"rgb(255,0,0)\\\", \\\"source\\\": 127, \\\"target\\\": 61, \\\"width\\\": 1}, {\\\"color\\\": \\\"rgb(255,0,0)\\\", \\\"source\\\": 125, \\\"target\\\": 63, \\\"width\\\": 1}, {\\\"color\\\": \\\"rgb(255,0,0)\\\", \\\"source\\\": 81, \\\"target\\\": 64, \\\"width\\\": 1}, {\\\"color\\\": \\\"rgb(255,0,0)\\\", \\\"source\\\": 173, \\\"target\\\": 64, \\\"width\\\": 1}, {\\\"color\\\": \\\"rgb(255,0,0)\\\", \\\"source\\\": 125, \\\"target\\\": 65, \\\"width\\\": 1}, {\\\"color\\\": \\\"rgb(255,0,0)\\\", \\\"source\\\": 127, \\\"target\\\": 66, \\\"width\\\": 1}, {\\\"color\\\": \\\"rgb(255,0,0)\\\", \\\"source\\\": 134, \\\"target\\\": 66, \\\"width\\\": 1}, {\\\"color\\\": \\\"rgb(255,0,0)\\\", \\\"source\\\": 134, \\\"target\\\": 67, \\\"width\\\": 1}, {\\\"color\\\": \\\"rgb(255,0,0)\\\", \\\"source\\\": 138, \\\"target\\\": 68, \\\"width\\\": 1}, {\\\"color\\\": \\\"rgb(255,0,0)\\\", \\\"source\\\": 125, \\\"target\\\": 70, \\\"width\\\": 1}, {\\\"color\\\": \\\"rgb(255,0,0)\\\", \\\"source\\\": 134, \\\"target\\\": 71, \\\"width\\\": 1}, {\\\"color\\\": \\\"rgb(255,0,0)\\\", \\\"source\\\": 138, \\\"target\\\": 72, \\\"width\\\": 1}, {\\\"color\\\": \\\"rgb(255,0,0)\\\", \\\"source\\\": 134, \\\"target\\\": 73, \\\"width\\\": 1}, {\\\"color\\\": \\\"rgb(255,0,0)\\\", \\\"source\\\": 81, \\\"target\\\": 74, \\\"width\\\": 1}, {\\\"color\\\": \\\"rgb(255,0,0)\\\", \\\"source\\\": 141, \\\"target\\\": 74, \\\"width\\\": 1}, {\\\"color\\\": \\\"rgb(255,0,0)\\\", \\\"source\\\": 101, \\\"target\\\": 75, \\\"width\\\": 1}, {\\\"color\\\": \\\"rgb(255,0,0)\\\", \\\"source\\\": 81, \\\"target\\\": 76, \\\"width\\\": 1}, {\\\"color\\\": \\\"rgb(255,0,0)\\\", \\\"source\\\": 138, \\\"target\\\": 76, \\\"width\\\": 1}, {\\\"color\\\": \\\"rgb(255,0,0)\\\", \\\"source\\\": 123, \\\"target\\\": 77, \\\"width\\\": 1}, {\\\"color\\\": \\\"rgb(255,0,0)\\\", \\\"source\\\": 130, \\\"target\\\": 78, \\\"width\\\": 1}, {\\\"color\\\": \\\"rgb(255,0,0)\\\", \\\"source\\\": 81, \\\"target\\\": 79, \\\"width\\\": 1}, {\\\"color\\\": \\\"rgb(255,0,0)\\\", \\\"source\\\": 139, \\\"target\\\": 81, \\\"width\\\": 1}, {\\\"color\\\": \\\"rgb(255,0,0)\\\", \\\"source\\\": 94, \\\"target\\\": 81, \\\"width\\\": 1}, {\\\"color\\\": \\\"rgb(255,0,0)\\\", \\\"source\\\": 160, \\\"target\\\": 81, \\\"width\\\": 1}, {\\\"color\\\": \\\"rgb(0,0,255)\\\", \\\"source\\\": 131, \\\"target\\\": 81, \\\"width\\\": 3}, {\\\"color\\\": \\\"rgb(255,0,0)\\\", \\\"source\\\": 144, \\\"target\\\": 81, \\\"width\\\": 1}, {\\\"color\\\": \\\"rgb(255,0,0)\\\", \\\"source\\\": 133, \\\"target\\\": 81, \\\"width\\\": 1}, {\\\"color\\\": \\\"rgb(255,0,0)\\\", \\\"source\\\": 123, \\\"target\\\": 81, \\\"width\\\": 1}, {\\\"color\\\": \\\"rgb(255,0,0)\\\", \\\"source\\\": 83, \\\"target\\\": 81, \\\"width\\\": 1}, {\\\"color\\\": \\\"rgb(255,0,0)\\\", \\\"source\\\": 163, \\\"target\\\": 81, \\\"width\\\": 1}, {\\\"color\\\": \\\"rgb(255,0,0)\\\", \\\"source\\\": 127, \\\"target\\\": 81, \\\"width\\\": 1}, {\\\"color\\\": \\\"rgb(255,0,0)\\\", \\\"source\\\": 101, \\\"target\\\": 81, \\\"width\\\": 1}, {\\\"color\\\": \\\"rgb(255,0,0)\\\", \\\"source\\\": 89, \\\"target\\\": 81, \\\"width\\\": 1}, {\\\"color\\\": \\\"rgb(255,0,0)\\\", \\\"source\\\": 154, \\\"target\\\": 81, \\\"width\\\": 1}, {\\\"color\\\": \\\"rgb(255,0,0)\\\", \\\"source\\\": 163, \\\"target\\\": 82, \\\"width\\\": 1}, {\\\"color\\\": \\\"rgb(255,0,0)\\\", \\\"source\\\": 134, \\\"target\\\": 82, \\\"width\\\": 1}, {\\\"color\\\": \\\"rgb(255,0,0)\\\", \\\"source\\\": 130, \\\"target\\\": 83, \\\"width\\\": 1}, {\\\"color\\\": \\\"rgb(255,0,0)\\\", \\\"source\\\": 123, \\\"target\\\": 84, \\\"width\\\": 1}, {\\\"color\\\": \\\"rgb(255,0,0)\\\", \\\"source\\\": 163, \\\"target\\\": 86, \\\"width\\\": 1}, {\\\"color\\\": \\\"rgb(255,0,0)\\\", \\\"source\\\": 163, \\\"target\\\": 87, \\\"width\\\": 1}, {\\\"color\\\": \\\"rgb(255,0,0)\\\", \\\"source\\\": 134, \\\"target\\\": 89, \\\"width\\\": 1}, {\\\"color\\\": \\\"rgb(255,0,0)\\\", \\\"source\\\": 123, \\\"target\\\": 91, \\\"width\\\": 1}, {\\\"color\\\": \\\"rgb(255,0,0)\\\", \\\"source\\\": 141, \\\"target\\\": 92, \\\"width\\\": 1}, {\\\"color\\\": \\\"rgb(255,0,0)\\\", \\\"source\\\": 130, \\\"target\\\": 95, \\\"width\\\": 1}, {\\\"color\\\": \\\"rgb(255,0,0)\\\", \\\"source\\\": 101, \\\"target\\\": 96, \\\"width\\\": 1}, {\\\"color\\\": \\\"rgb(255,0,0)\\\", \\\"source\\\": 138, \\\"target\\\": 97, \\\"width\\\": 1}, {\\\"color\\\": \\\"rgb(255,0,0)\\\", \\\"source\\\": 141, \\\"target\\\": 98, \\\"width\\\": 1}, {\\\"color\\\": \\\"rgb(255,0,0)\\\", \\\"source\\\": 141, \\\"target\\\": 99, \\\"width\\\": 1}, {\\\"color\\\": \\\"rgb(255,0,0)\\\", \\\"source\\\": 101, \\\"target\\\": 99, \\\"width\\\": 1}, {\\\"color\\\": \\\"rgb(0,0,255)\\\", \\\"source\\\": 131, \\\"target\\\": 101, \\\"width\\\": 3}, {\\\"color\\\": \\\"rgb(255,0,0)\\\", \\\"source\\\": 107, \\\"target\\\": 101, \\\"width\\\": 1}, {\\\"color\\\": \\\"rgb(255,0,0)\\\", \\\"source\\\": 108, \\\"target\\\": 101, \\\"width\\\": 1}, {\\\"color\\\": \\\"rgb(255,0,0)\\\", \\\"source\\\": 123, \\\"target\\\": 101, \\\"width\\\": 1}, {\\\"color\\\": \\\"rgb(255,0,0)\\\", \\\"source\\\": 163, \\\"target\\\": 101, \\\"width\\\": 1}, {\\\"color\\\": \\\"rgb(255,0,0)\\\", \\\"source\\\": 127, \\\"target\\\": 101, \\\"width\\\": 1}, {\\\"color\\\": \\\"rgb(255,0,0)\\\", \\\"source\\\": 102, \\\"target\\\": 101, \\\"width\\\": 1}, {\\\"color\\\": \\\"rgb(255,0,0)\\\", \\\"source\\\": 155, \\\"target\\\": 101, \\\"width\\\": 1}, {\\\"color\\\": \\\"rgb(255,0,0)\\\", \\\"source\\\": 153, \\\"target\\\": 101, \\\"width\\\": 1}, {\\\"color\\\": \\\"rgb(255,0,0)\\\", \\\"source\\\": 179, \\\"target\\\": 101, \\\"width\\\": 1}, {\\\"color\\\": \\\"rgb(255,0,0)\\\", \\\"source\\\": 105, \\\"target\\\": 101, \\\"width\\\": 1}, {\\\"color\\\": \\\"rgb(255,0,0)\\\", \\\"source\\\": 130, \\\"target\\\": 102, \\\"width\\\": 1}, {\\\"color\\\": \\\"rgb(255,0,0)\\\", \\\"source\\\": 130, \\\"target\\\": 103, \\\"width\\\": 1}, {\\\"color\\\": \\\"rgb(255,0,0)\\\", \\\"source\\\": 134, \\\"target\\\": 104, \\\"width\\\": 1}, {\\\"color\\\": \\\"rgb(255,0,0)\\\", \\\"source\\\": 141, \\\"target\\\": 106, \\\"width\\\": 1}, {\\\"color\\\": \\\"rgb(255,0,0)\\\", \\\"source\\\": 134, \\\"target\\\": 108, \\\"width\\\": 1}, {\\\"color\\\": \\\"rgb(255,0,0)\\\", \\\"source\\\": 138, \\\"target\\\": 109, \\\"width\\\": 1}, {\\\"color\\\": \\\"rgb(255,0,0)\\\", \\\"source\\\": 163, \\\"target\\\": 111, \\\"width\\\": 1}, {\\\"color\\\": \\\"rgb(255,0,0)\\\", \\\"source\\\": 123, \\\"target\\\": 112, \\\"width\\\": 1}, {\\\"color\\\": \\\"rgb(255,0,0)\\\", \\\"source\\\": 138, \\\"target\\\": 114, \\\"width\\\": 1}, {\\\"color\\\": \\\"rgb(255,0,0)\\\", \\\"source\\\": 125, \\\"target\\\": 118, \\\"width\\\": 1}, {\\\"color\\\": \\\"rgb(255,0,0)\\\", \\\"source\\\": 127, \\\"target\\\": 119, \\\"width\\\": 1}, {\\\"color\\\": \\\"rgb(255,0,0)\\\", \\\"source\\\": 138, \\\"target\\\": 119, \\\"width\\\": 1}, {\\\"color\\\": \\\"rgb(255,0,0)\\\", \\\"source\\\": 130, \\\"target\\\": 120, \\\"width\\\": 1}, {\\\"color\\\": \\\"rgb(255,0,0)\\\", \\\"source\\\": 123, \\\"target\\\": 120, \\\"width\\\": 1}, {\\\"color\\\": \\\"rgb(255,0,0)\\\", \\\"source\\\": 141, \\\"target\\\": 121, \\\"width\\\": 1}, {\\\"color\\\": \\\"rgb(255,0,0)\\\", \\\"source\\\": 125, \\\"target\\\": 122, \\\"width\\\": 1}, {\\\"color\\\": \\\"rgb(255,0,0)\\\", \\\"source\\\": 141, \\\"target\\\": 122, \\\"width\\\": 1}, {\\\"color\\\": \\\"rgb(0,0,255)\\\", \\\"source\\\": 131, \\\"target\\\": 123, \\\"width\\\": 3}, {\\\"color\\\": \\\"rgb(255,0,0)\\\", \\\"source\\\": 163, \\\"target\\\": 123, \\\"width\\\": 1}, {\\\"color\\\": \\\"rgb(255,0,0)\\\", \\\"source\\\": 127, \\\"target\\\": 123, \\\"width\\\": 1}, {\\\"color\\\": \\\"rgb(255,0,0)\\\", \\\"source\\\": 177, \\\"target\\\": 123, \\\"width\\\": 1}, {\\\"color\\\": \\\"rgb(255,0,0)\\\", \\\"source\\\": 178, \\\"target\\\": 123, \\\"width\\\": 1}, {\\\"color\\\": \\\"rgb(255,0,0)\\\", \\\"source\\\": 174, \\\"target\\\": 123, \\\"width\\\": 1}, {\\\"color\\\": \\\"rgb(255,0,0)\\\", \\\"source\\\": 126, \\\"target\\\": 123, \\\"width\\\": 1}, {\\\"color\\\": \\\"rgb(255,0,0)\\\", \\\"source\\\": 125, \\\"target\\\": 124, \\\"width\\\": 1}, {\\\"color\\\": \\\"rgb(0,0,255)\\\", \\\"source\\\": 131, \\\"target\\\": 125, \\\"width\\\": 3}, {\\\"color\\\": \\\"rgb(255,0,0)\\\", \\\"source\\\": 134, \\\"target\\\": 125, \\\"width\\\": 1}, {\\\"color\\\": \\\"rgb(255,0,0)\\\", \\\"source\\\": 156, \\\"target\\\": 125, \\\"width\\\": 1}, {\\\"color\\\": \\\"rgb(0,0,255)\\\", \\\"source\\\": 131, \\\"target\\\": 127, \\\"width\\\": 3}, {\\\"color\\\": \\\"rgb(255,0,0)\\\", \\\"source\\\": 161, \\\"target\\\": 127, \\\"width\\\": 1}, {\\\"color\\\": \\\"rgb(255,0,0)\\\", \\\"source\\\": 163, \\\"target\\\": 127, \\\"width\\\": 1}, {\\\"color\\\": \\\"rgb(255,0,0)\\\", \\\"source\\\": 147, \\\"target\\\": 127, \\\"width\\\": 1}, {\\\"color\\\": \\\"rgb(255,0,0)\\\", \\\"source\\\": 138, \\\"target\\\": 128, \\\"width\\\": 1}, {\\\"color\\\": \\\"rgb(255,0,0)\\\", \\\"source\\\": 138, \\\"target\\\": 129, \\\"width\\\": 1}, {\\\"color\\\": \\\"rgb(0,0,255)\\\", \\\"source\\\": 131, \\\"target\\\": 130, \\\"width\\\": 3}, {\\\"color\\\": \\\"rgb(255,0,0)\\\", \\\"source\\\": 152, \\\"target\\\": 130, \\\"width\\\": 1}, {\\\"color\\\": \\\"rgb(255,0,0)\\\", \\\"source\\\": 165, \\\"target\\\": 130, \\\"width\\\": 1}, {\\\"color\\\": \\\"rgb(255,0,0)\\\", \\\"source\\\": 138, \\\"target\\\": 130, \\\"width\\\": 1}, {\\\"color\\\": \\\"rgb(255,0,0)\\\", \\\"source\\\": 151, \\\"target\\\": 130, \\\"width\\\": 1}, {\\\"color\\\": \\\"rgb(255,0,0)\\\", \\\"source\\\": 141, \\\"target\\\": 130, \\\"width\\\": 1}, {\\\"color\\\": \\\"rgb(0,0,255)\\\", \\\"source\\\": 173, \\\"target\\\": 131, \\\"width\\\": 3}, {\\\"color\\\": \\\"rgb(0,0,255)\\\", \\\"source\\\": 134, \\\"target\\\": 131, \\\"width\\\": 3}, {\\\"color\\\": \\\"rgb(0,0,255)\\\", \\\"source\\\": 163, \\\"target\\\": 131, \\\"width\\\": 3}, {\\\"color\\\": \\\"rgb(0,0,255)\\\", \\\"source\\\": 138, \\\"target\\\": 131, \\\"width\\\": 3}, {\\\"color\\\": \\\"rgb(0,0,255)\\\", \\\"source\\\": 141, \\\"target\\\": 131, \\\"width\\\": 3}, {\\\"color\\\": \\\"rgb(255,0,0)\\\", \\\"source\\\": 134, \\\"target\\\": 132, \\\"width\\\": 1}, {\\\"color\\\": \\\"rgb(255,0,0)\\\", \\\"source\\\": 136, \\\"target\\\": 134, \\\"width\\\": 1}, {\\\"color\\\": \\\"rgb(255,0,0)\\\", \\\"source\\\": 137, \\\"target\\\": 134, \\\"width\\\": 1}, {\\\"color\\\": \\\"rgb(255,0,0)\\\", \\\"source\\\": 140, \\\"target\\\": 134, \\\"width\\\": 1}, {\\\"color\\\": \\\"rgb(255,0,0)\\\", \\\"source\\\": 143, \\\"target\\\": 134, \\\"width\\\": 1}, {\\\"color\\\": \\\"rgb(255,0,0)\\\", \\\"source\\\": 163, \\\"target\\\": 135, \\\"width\\\": 1}, {\\\"color\\\": \\\"rgb(255,0,0)\\\", \\\"source\\\": 141, \\\"target\\\": 136, \\\"width\\\": 1}, {\\\"color\\\": \\\"rgb(255,0,0)\\\", \\\"source\\\": 148, \\\"target\\\": 138, \\\"width\\\": 1}, {\\\"color\\\": \\\"rgb(255,0,0)\\\", \\\"source\\\": 158, \\\"target\\\": 138, \\\"width\\\": 1}, {\\\"color\\\": \\\"rgb(255,0,0)\\\", \\\"source\\\": 159, \\\"target\\\": 138, \\\"width\\\": 1}, {\\\"color\\\": \\\"rgb(255,0,0)\\\", \\\"source\\\": 141, \\\"target\\\": 138, \\\"width\\\": 1}, {\\\"color\\\": \\\"rgb(255,0,0)\\\", \\\"source\\\": 143, \\\"target\\\": 138, \\\"width\\\": 1}, {\\\"color\\\": \\\"rgb(255,0,0)\\\", \\\"source\\\": 174, \\\"target\\\": 141, \\\"width\\\": 1}, {\\\"color\\\": \\\"rgb(255,0,0)\\\", \\\"source\\\": 163, \\\"target\\\": 142, \\\"width\\\": 1}, {\\\"color\\\": \\\"rgb(255,0,0)\\\", \\\"source\\\": 163, \\\"target\\\": 145, \\\"width\\\": 1}, {\\\"color\\\": \\\"rgb(255,0,0)\\\", \\\"source\\\": 163, \\\"target\\\": 149, \\\"width\\\": 1}, {\\\"color\\\": \\\"rgb(255,0,0)\\\", \\\"source\\\": 163, \\\"target\\\": 150, \\\"width\\\": 1}, {\\\"color\\\": \\\"rgb(255,0,0)\\\", \\\"source\\\": 163, \\\"target\\\": 159, \\\"width\\\": 1}, {\\\"color\\\": \\\"rgb(255,0,0)\\\", \\\"source\\\": 167, \\\"target\\\": 163, \\\"width\\\": 1}, {\\\"color\\\": \\\"rgb(255,0,0)\\\", \\\"source\\\": 165, \\\"target\\\": 163, \\\"width\\\": 1}, {\\\"color\\\": \\\"rgb(255,0,0)\\\", \\\"source\\\": 173, \\\"target\\\": 170, \\\"width\\\": 1}, {\\\"color\\\": \\\"rgb(255,0,0)\\\", \\\"source\\\": 173, \\\"target\\\": 172, \\\"width\\\": 1}, {\\\"color\\\": \\\"rgb(255,0,0)\\\", \\\"source\\\": 176, \\\"target\\\": 173, \\\"width\\\": 1}, {\\\"color\\\": \\\"rgb(255,0,0)\\\", \\\"source\\\": 177, \\\"target\\\": 173, \\\"width\\\": 1}, {\\\"color\\\": \\\"rgb(255,0,0)\\\", \\\"source\\\": 180, \\\"target\\\": 173, \\\"width\\\": 1}, {\\\"color\\\": \\\"rgb(255,0,0)\\\", \\\"source\\\": 182, \\\"target\\\": 173, \\\"width\\\": 1}]}\";"
       ],
       "output_type": "display_data"
      },
      {
       "javascript": [
        "n_json=$.parseJSON(n_json)"
       ],
       "output_type": "display_data"
      },
      {
       "javascript": [
        "$('#plot_area').remove()"
       ],
       "output_type": "display_data"
      },
      {
       "javascript": [
        "IPython.notebook.insert_vis_cell(\"plot_area\") ",
        " $(\"#plot_area\").css(\"top\", \"0px\");",
        " $(\"#plot_area\").css(\"height\", \"520px\");",
        " $(\"#plot_area\").css(\"width\", \"500px\");",
        " $(\"#plot_area\").css(\"position\", \"absolute\");",
        " $(\"#plot_area\").css(\"border\", \"9px groove\");",
        " $(\"#plot_area\").css(\"background-color\", \"rgba(200,200,200,0.5)\");",
        " $(\"#plot_area\").css(\"left\", \"850px\");",
        "",
        "$(\"#plot_area\").append(\"<svg id='svg_display'></svg>\"); ",
        " $(\"#svg_display\").css(\"width\", \"500px\");",
        " $(\"#svg_display\").css(\"border\", \"2px solid\");",
        " $(\"#svg_display\").css(\"height\", \"445px\");",
        "",
        "",
        "var x=function(json) {",
        "  var w = 500,",
        "      h = 400,",
        "      fill = d3.scale.category10();",
        "  var vis = d3.select(\"#plot_area #svg_display\")",
        "  var force = d3.layout.force()",
        "      .charge(-150)",
        "      .linkDistance(10)",
        "      .nodes(json.nodes)",
        "      .links(json.links)",
        "      .size([w, h])",
        "      .start();",
        "",
        "  var link = vis.selectAll(\"line.link\")",
        "      .data(json.links)",
        "      .enter().append(\"svg:line\")",
        "      .attr(\"class\", \"link\")",
        "      .style(\"stroke-width\", function(d) { return d.width; })",
        "      .style(\"stroke\", function(d) { return d.color; })",
        "      .attr(\"x1\", function(d) { return d.source.x; })",
        "      .attr(\"y1\", function(d) { return d.source.y; })",
        "      .attr(\"x2\", function(d) { return d.target.x; })",
        "      .attr(\"y2\", function(d) { return d.target.y; });",
        "",
        "  var node = vis.selectAll(\"circle.node\")",
        "      .data(json.nodes)",
        "      .enter().append(\"svg:circle\")",
        "      .attr(\"class\", \"node\")",
        "      .attr(\"cx\", function(d) { return d.x; })",
        "      .attr(\"cy\", function(d) { return d.y; })",
        "      .attr(\"r\", 8)",
        "      .style(\"fill\", function(d) { return fill(d.group); })",
        "      .call(force.drag);",
        "",
        "  node.append(\"svg:title\")",
        "      .text(function(d) { return d.name; });",
        "",
        "  vis.style(\"opacity\", 1e-6)",
        "    .transition()",
        "      .duration(1000)",
        "      .style(\"opacity\", 1);",
        "",
        "  force.on(\"tick\", function() {",
        "    link.attr(\"x1\", function(d) { return d.source.x; })",
        "        .attr(\"y1\", function(d) { return d.source.y; })",
        "        .attr(\"x2\", function(d) { return d.target.x; })",
        "        .attr(\"y2\", function(d) { return d.target.y; });",
        "",
        "    node.attr(\"cx\", function(d) { return d.x; })",
        "        .attr(\"cy\", function(d) { return d.y; });",
        "  });};",
        "x(n_json)"
       ],
       "output_type": "display_data"
      }
     ],
     "prompt_number": 23
    },
    {
     "cell_type": "code",
     "collapsed": false,
     "input": [
      "set_g_json(\"HOTEL\")",
      "svg.remove()",
      "svg_style = {\"width\":\"500px\", ",
      "             \"height\":\"445px\",",
      "             \"border\":\"2px solid\"}",
      "",
      "svg = vis.SVGWidget(name = \"svg_display\", ",
      "                   parent = \"plot_area\", ",
      "                   style = svg_style,",
      "                   vis = vis_display)",
      "vis.run_js(svg.js)",
      "vis.run_js(js)"
     ],
     "language": "python",
     "outputs": [
      {
       "javascript": [
        "n_json=\"{\\\"nodes\\\": [{\\\"group\\\": 0, \\\"name\\\": \\\"MOTED\\\"}, {\\\"group\\\": 0, \\\"name\\\": \\\"NOVEL\\\"}, {\\\"group\\\": 1, \\\"name\\\": \\\"HEWEL\\\"}, {\\\"group\\\": 0, \\\"name\\\": \\\"SOWEL\\\"}, {\\\"group\\\": 0, \\\"name\\\": \\\"MOTEL\\\"}, {\\\"group\\\": 0, \\\"name\\\": \\\"NOWEL\\\"}, {\\\"group\\\": 2, \\\"name\\\": \\\"HOWEL\\\"}, {\\\"group\\\": 0, \\\"name\\\": \\\"MOTET\\\"}, {\\\"group\\\": 0, \\\"name\\\": \\\"MOTER\\\"}, {\\\"group\\\": 0, \\\"name\\\": \\\"MODEL\\\"}, {\\\"group\\\": 2, \\\"name\\\": \\\"HOWEA\\\"}, {\\\"group\\\": 0, \\\"name\\\": \\\"MOTEY\\\"}, {\\\"group\\\": 2, \\\"name\\\": \\\"HOVER\\\"}, {\\\"group\\\": 0, \\\"name\\\": \\\"BOWEL\\\"}, {\\\"group\\\": 5, \\\"name\\\": \\\"HOTEL\\\"}, {\\\"group\\\": 0, \\\"name\\\": \\\"METEL\\\"}, {\\\"group\\\": 0, \\\"name\\\": \\\"MOHEL\\\"}, {\\\"group\\\": 2, \\\"name\\\": \\\"HOVEL\\\"}, {\\\"group\\\": 2, \\\"name\\\": \\\"HOVEN\\\"}, {\\\"group\\\": 0, \\\"name\\\": \\\"TOWEL\\\"}, {\\\"group\\\": 0, \\\"name\\\": \\\"VOWEL\\\"}, {\\\"group\\\": 0, \\\"name\\\": \\\"ROSEL\\\"}, {\\\"group\\\": 0, \\\"name\\\": \\\"LOSEL\\\"}, {\\\"group\\\": 2, \\\"name\\\": \\\"HOSED\\\"}, {\\\"group\\\": 0, \\\"name\\\": \\\"ROWEL\\\"}, {\\\"group\\\": 2, \\\"name\\\": \\\"HOSEL\\\"}, {\\\"group\\\": 0, \\\"name\\\": \\\"JOWEL\\\"}, {\\\"group\\\": 0, \\\"name\\\": \\\"MOREL\\\"}, {\\\"group\\\": 0, \\\"name\\\": \\\"DOWEL\\\"}, {\\\"group\\\": 0, \\\"name\\\": \\\"MONEL\\\"}, {\\\"group\\\": 1, \\\"name\\\": \\\"HAVEL\\\"}], \\\"links\\\": [{\\\"color\\\": \\\"rgb(255,0,0,0.5)\\\", \\\"source\\\": 4, \\\"target\\\": 0, \\\"width\\\": 1}, {\\\"color\\\": \\\"rgb(255,0,0,0.5)\\\", \\\"source\\\": 17, \\\"target\\\": 1, \\\"width\\\": 1}, {\\\"color\\\": \\\"rgb(255,0,0,0.5)\\\", \\\"source\\\": 6, \\\"target\\\": 2, \\\"width\\\": 1}, {\\\"color\\\": \\\"rgb(255,0,0,0.5)\\\", \\\"source\\\": 6, \\\"target\\\": 3, \\\"width\\\": 1}, {\\\"color\\\": \\\"rgb(0,0,255,0.5)\\\", \\\"source\\\": 14, \\\"target\\\": 4, \\\"width\\\": 3}, {\\\"color\\\": \\\"rgb(255,0,0,0.5)\\\", \\\"source\\\": 15, \\\"target\\\": 4, \\\"width\\\": 1}, {\\\"color\\\": \\\"rgb(255,0,0,0.5)\\\", \\\"source\\\": 7, \\\"target\\\": 4, \\\"width\\\": 1}, {\\\"color\\\": \\\"rgb(255,0,0,0.5)\\\", \\\"source\\\": 8, \\\"target\\\": 4, \\\"width\\\": 1}, {\\\"color\\\": \\\"rgb(255,0,0,0.5)\\\", \\\"source\\\": 16, \\\"target\\\": 4, \\\"width\\\": 1}, {\\\"color\\\": \\\"rgb(255,0,0,0.5)\\\", \\\"source\\\": 27, \\\"target\\\": 4, \\\"width\\\": 1}, {\\\"color\\\": \\\"rgb(255,0,0,0.5)\\\", \\\"source\\\": 9, \\\"target\\\": 4, \\\"width\\\": 1}, {\\\"color\\\": \\\"rgb(255,0,0,0.5)\\\", \\\"source\\\": 29, \\\"target\\\": 4, \\\"width\\\": 1}, {\\\"color\\\": \\\"rgb(255,0,0,0.5)\\\", \\\"source\\\": 11, \\\"target\\\": 4, \\\"width\\\": 1}, {\\\"color\\\": \\\"rgb(255,0,0,0.5)\\\", \\\"source\\\": 6, \\\"target\\\": 5, \\\"width\\\": 1}, {\\\"color\\\": \\\"rgb(255,0,0,0.5)\\\", \\\"source\\\": 19, \\\"target\\\": 6, \\\"width\\\": 1}, {\\\"color\\\": \\\"rgb(255,0,0,0.5)\\\", \\\"source\\\": 13, \\\"target\\\": 6, \\\"width\\\": 1}, {\\\"color\\\": \\\"rgb(0,0,255,0.5)\\\", \\\"source\\\": 14, \\\"target\\\": 6, \\\"width\\\": 3}, {\\\"color\\\": \\\"rgb(255,0,0,0.5)\\\", \\\"source\\\": 10, \\\"target\\\": 6, \\\"width\\\": 1}, {\\\"color\\\": \\\"rgb(255,0,0,0.5)\\\", \\\"source\\\": 26, \\\"target\\\": 6, \\\"width\\\": 1}, {\\\"color\\\": \\\"rgb(255,0,0,0.5)\\\", \\\"source\\\": 28, \\\"target\\\": 6, \\\"width\\\": 1}, {\\\"color\\\": \\\"rgb(255,0,0,0.5)\\\", \\\"source\\\": 20, \\\"target\\\": 6, \\\"width\\\": 1}, {\\\"color\\\": \\\"rgb(255,0,0,0.5)\\\", \\\"source\\\": 24, \\\"target\\\": 6, \\\"width\\\": 1}, {\\\"color\\\": \\\"rgb(255,0,0,0.5)\\\", \\\"source\\\": 25, \\\"target\\\": 6, \\\"width\\\": 1}, {\\\"color\\\": \\\"rgb(255,0,0,0.5)\\\", \\\"source\\\": 17, \\\"target\\\": 6, \\\"width\\\": 1}, {\\\"color\\\": \\\"rgb(255,0,0,0.5)\\\", \\\"source\\\": 17, \\\"target\\\": 12, \\\"width\\\": 1}, {\\\"color\\\": \\\"rgb(0,0,255,0.5)\\\", \\\"source\\\": 25, \\\"target\\\": 14, \\\"width\\\": 3}, {\\\"color\\\": \\\"rgb(0,0,255,0.5)\\\", \\\"source\\\": 17, \\\"target\\\": 14, \\\"width\\\": 3}, {\\\"color\\\": \\\"rgb(255,0,0,0.5)\\\", \\\"source\\\": 30, \\\"target\\\": 17, \\\"width\\\": 1}, {\\\"color\\\": \\\"rgb(255,0,0,0.5)\\\", \\\"source\\\": 25, \\\"target\\\": 17, \\\"width\\\": 1}, {\\\"color\\\": \\\"rgb(255,0,0,0.5)\\\", \\\"source\\\": 18, \\\"target\\\": 17, \\\"width\\\": 1}, {\\\"color\\\": \\\"rgb(255,0,0,0.5)\\\", \\\"source\\\": 25, \\\"target\\\": 21, \\\"width\\\": 1}, {\\\"color\\\": \\\"rgb(255,0,0,0.5)\\\", \\\"source\\\": 25, \\\"target\\\": 22, \\\"width\\\": 1}, {\\\"color\\\": \\\"rgb(255,0,0,0.5)\\\", \\\"source\\\": 25, \\\"target\\\": 23, \\\"width\\\": 1}]}\";"
       ],
       "output_type": "display_data"
      },
      {
       "javascript": [
        "n_json=$.parseJSON(n_json)"
       ],
       "output_type": "display_data"
      },
      {
       "javascript": [
        "$('#svg_display').remove()"
       ],
       "output_type": "display_data"
      },
      {
       "javascript": [
        "$(\"#plot_area\").append(\"<svg id='svg_display'></svg>\"); ",
        " $(\"#svg_display\").css(\"width\", \"500px\");",
        " $(\"#svg_display\").css(\"border\", \"2px solid\");",
        " $(\"#svg_display\").css(\"height\", \"445px\");"
       ],
       "output_type": "display_data"
      },
      {
       "javascript": [
        "",
        "var x=function(json) {",
        "  var w = 500,",
        "      h = 400,",
        "      fill = d3.scale.category10();",
        "  var vis = d3.select(\"#plot_area #svg_display\")",
        "  var force = d3.layout.force()",
        "      .charge(-150)",
        "      .linkDistance(10)",
        "      .nodes(json.nodes)",
        "      .links(json.links)",
        "      .size([w, h])",
        "      .start();",
        "",
        "  var link = vis.selectAll(\"line.link\")",
        "      .data(json.links)",
        "      .enter().append(\"svg:line\")",
        "      .attr(\"class\", \"link\")",
        "      .style(\"stroke-width\", function(d) { return d.width; })",
        "      .style(\"stroke\", function(d) { return d.color; })",
        "      .attr(\"x1\", function(d) { return d.source.x; })",
        "      .attr(\"y1\", function(d) { return d.source.y; })",
        "      .attr(\"x2\", function(d) { return d.target.x; })",
        "      .attr(\"y2\", function(d) { return d.target.y; });",
        "",
        "  var node = vis.selectAll(\"circle.node\")",
        "      .data(json.nodes)",
        "      .enter().append(\"svg:circle\")",
        "      .attr(\"class\", \"node\")",
        "      .attr(\"cx\", function(d) { return d.x; })",
        "      .attr(\"cy\", function(d) { return d.y; })",
        "      .attr(\"r\", 8)",
        "      .style(\"fill\", function(d) { return fill(d.group); })",
        "      .call(force.drag);",
        "",
        "  node.append(\"svg:title\")",
        "      .text(function(d) { return d.name; });",
        "",
        "  vis.style(\"opacity\", 1e-6)",
        "    .transition()",
        "      .duration(1000)",
        "      .style(\"opacity\", 1);",
        "",
        "  force.on(\"tick\", function() {",
        "    link.attr(\"x1\", function(d) { return d.source.x; })",
        "        .attr(\"y1\", function(d) { return d.source.y; })",
        "        .attr(\"x2\", function(d) { return d.target.x; })",
        "        .attr(\"y2\", function(d) { return d.target.y; });",
        "",
        "    node.attr(\"cx\", function(d) { return d.x; })",
        "        .attr(\"cy\", function(d) { return d.y; });",
        "  });};",
        "x(n_json)"
       ],
       "output_type": "display_data"
      }
     ],
     "prompt_number": 20
    },
    {
     "cell_type": "code",
     "collapsed": false,
     "input": [
      "vis_display.hide()"
     ],
     "language": "python",
     "outputs": [
      {
       "javascript": [
        "$(\"#plot_area\").css(\"visibility\",\"hidden\")"
       ],
       "output_type": "display_data"
      }
     ],
     "prompt_number": 25
    },
    {
     "cell_type": "code",
     "collapsed": false,
     "input": [
      "vis_display.show()"
     ],
     "language": "python",
     "outputs": [
      {
       "javascript": [
        "$(\"#plot_area\").css(\"visibility\",\"visible\")"
       ],
       "output_type": "display_data"
      }
     ],
     "prompt_number": 24
    },
    {
     "cell_type": "code",
     "collapsed": false,
     "input": [
      "vis_display.remove()"
     ],
     "language": "python",
     "outputs": [
      {
       "javascript": [
        "$('#plot_area').remove()"
       ],
       "output_type": "display_data"
      }
     ],
     "prompt_number": 27
    },
    {
     "cell_type": "code",
     "collapsed": true,
     "input": [],
     "language": "python",
     "outputs": []
    }
   ]
  }
 ]
}