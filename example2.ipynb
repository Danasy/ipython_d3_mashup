{
 "metadata": {
  "name": "example2"
 },
 "nbformat": 3,
 "worksheets": [
  {
   "cells": [
    {
     "cell_type": "markdown",
     "source": [
      "",
      "Resize of the IPython Notebook"
     ]
    },
    {
     "cell_type": "code",
     "collapsed": false,
     "input": [
      "from IPython.core.display import IFRAME, HTML",
      "from IPython.core.display import Javascript",
      "Javascript(\"\"\"$(\"#notebook\").width(750);\"\"\")"
     ],
     "language": "python",
     "outputs": [
      {
       "javascript": [
        "$(\"#notebook\").width(750);"
       ],
       "output_type": "pyout",
       "prompt_number": 1,
       "text": [
        "<IPython.core.display.Javascript at 0x10993d0d0>"
       ]
      }
     ],
     "prompt_number": 1
    },
    {
     "cell_type": "markdown",
     "source": [
      "Put an IFRAME on the right. The IFRAME uses websocket to talk to a server running within the ipython notebook's web server (handler.py).",
      "",
      "    <html>",
      "    <head>",
      "    <script>",
      "        if (typeof(WebSocket) !== 'undefined') {",
      "            theWebSocket = WebSocket;",
      "        } else if (typeof(MozWebSocket) !== 'undefined') {",
      "            theWebSocket = MozWebSocket;",
      "        } else {",
      "            alert('Your browser does not have WebSocket support, please try Chrome, Safari or Firefox \u2265 6. Firefox 4 and 5 are also supported by you have to enable WebSockets in about:config.');",
      "        };",
      "        var ws = new theWebSocket(\"ws://localhost:8888/auxIO\");",
      "        ws.onopen = function() {",
      "            ws.send(\"connected\");",
      "        };",
      "        ws.onmessage = function(event) {",
      "            //alert(\"The server sent a message: \" + event.data);",
      "            eval(event.data)",
      "        };",
      "    </script>",
      "    </head>",
      "    <body>",
      "    </body>",
      "    </html>"
     ]
    },
    {
     "cell_type": "code",
     "collapsed": false,
     "input": [
      "HTML(\"\"\"<div style=\"position:absolute;top:0px;width:500px;left:750px;height:500px;border:2px solid;\">",
      "        <iframe name=\"iframe1\" src=\"http://localhost:8888/aux\" style=\"width:500px;height:500px;\">",
      "        </iframe></div>\"\"\")"
     ],
     "language": "python",
     "outputs": [
      {
       "html": [
        "<div style=\"position:absolute;top:0px;width:500px;left:750px;height:500px;border:2px solid;\">",
        "        <iframe name=\"iframe1\" src=\"http://localhost:8888/aux\" style=\"width:500px;height:500px;\">",
        "        </iframe></div>"
       ],
       "output_type": "pyout",
       "prompt_number": 2,
       "text": [
        "<IPython.core.display.HTML at 0x109917f10>"
       ]
      }
     ],
     "prompt_number": 2
    },
    {
     "cell_type": "markdown",
     "source": [
      "### Setup the zmq context and some helper functions"
     ]
    },
    {
     "cell_type": "code",
     "collapsed": false,
     "input": [
      "import zmq",
      "import time",
      "import random",
      "import math",
      "",
      "ctx = zmq.Context()",
      "s = ctx.socket(zmq.REQ)",
      "s.connect('tcp://127.0.0.1:55550')",
      "",
      "def send_js(js):",
      "    s.send(js)",
      "    recv = s.recv()",
      "    #print recv()",
      "    time.sleep(0.01)",
      "    ",
      "def add_js(URL):",
      "    js = \"\"\"",
      "        var fileref=document.createElement('script');",
      "        fileref.setAttribute(\"type\",\"text/javascript\");",
      "        fileref.setAttribute(\"src\", \"%s\");",
      "        document.getElementsByTagName(\"head\")[0].appendChild(fileref) \"\"\" % URL",
      "    send_js(js)",
      "    ",
      "def add_CSS(URL):",
      "    js = \"\"\"",
      "        var fileref=document.createElement(\"link\")",
      "        fileref.setAttribute(\"rel\", \"stylesheet\")",
      "        fileref.setAttribute(\"type\", \"text/css\")",
      "        fileref.setAttribute(\"href\", \"%s\") ",
      "        document.getElementsByTagName(\"head\")[0].appendChild(fileref) \"\"\" % URL",
      "    send_js(js)",
      "    "
     ],
     "language": "python",
     "outputs": [],
     "prompt_number": 3
    },
    {
     "cell_type": "markdown",
     "source": [
      "### Load the `d3.js` and setup the `SVG` element so we can add plotting elements in."
     ]
    },
    {
     "cell_type": "code",
     "collapsed": false,
     "input": [
      "add_js(\"/static/d3/d3.js\")",
      "time.sleep(5) #need extra time for d3 to be loaded",
      "add_CSS(\"/static/d3/lib/colorbrewer/colorbrewer.css\")",
      "",
      "js=\"\"\"",
      "document.getElementsByTagName('body').item(0).innerHTML=\"<div id='chart'></div>\"",
      "",
      "var svg = d3.select(\"#chart\")",
      "    .append(\"svg\")",
      "    .attr(\"width\", 750)",
      "    .attr(\"height\", 500)",
      "    .attr(\"class\", \"PiYG\");",
      "\"\"\"",
      "",
      "send_js(js)"
     ],
     "language": "python",
     "outputs": [],
     "prompt_number": 4
    },
    {
     "cell_type": "markdown",
     "source": [
      "### Create 21 by 21 Matrix of Dots",
      "",
      "The is not the most efficient way to create the dots. Howevere, it shows that you can send the elements one by one to the client HTML page.",
      "",
      "You should see something like below in your browser window.",
      "",
      "<img src=\"http://localhost:8888/files/images/screenshot_1.jpg\"/> "
     ]
    },
    {
     "cell_type": "code",
     "collapsed": false,
     "input": [
      "",
      "for i in range(21):",
      "    for j in range(21):",
      "        js =\\",
      "        \"\"\"",
      "        var svg = d3.select(\"#chart\").select(\"svg\")",
      "        svg.append(\"circle\")",
      "            .attr(\"cy\", %d)",
      "            .attr(\"cx\", %d)",
      "            .attr(\"r\", %d);",
      "        ",
      "        \"\"\" % ((i+1)*20, (j+1)*20, ",
      "               math.sqrt(abs(math.cos((i-10)/5.0)*math.cos((j-10)/5.0))*75+5))",
      "        send_js(js)"
     ],
     "language": "python",
     "outputs": [],
     "prompt_number": 5
    },
    {
     "cell_type": "markdown",
     "source": [
      "Set up transition with `d3.js`. The makes all dots shrinking into a big one in the center.",
      "",
      "<img src=\"http://localhost:8888/files/images/screenshot_2.jpg\"/>"
     ]
    },
    {
     "cell_type": "code",
     "collapsed": true,
     "input": [
      "js1 =\\",
      "\"\"\"",
      "var svg = d3.select(\"#chart\").select(\"svg\")",
      "",
      "d3.selectAll(\"circle\")",
      "    .transition()",
      "    .duration(2000)",
      "    .attr(\"cy\", 220)",
      "    .attr(\"cx\", 220)",
      "    .attr(\"r\", 25);",
      "\"\"\" ",
      "send_js(js1)"
     ],
     "language": "python",
     "outputs": [],
     "prompt_number": 6
    },
    {
     "cell_type": "markdown",
     "source": [
      "This shows one can generate some data using Python and construct the javascript with `d3.js` then send to the client to display.",
      "",
      "The output looks like",
      "",
      "<img src=\"http://localhost:8888/files/images/screenshot_3.jpg\"/>"
     ]
    },
    {
     "cell_type": "code",
     "collapsed": true,
     "input": [
      "import json",
      "data = []",
      "for i in range(21):",
      "    for j in range(21):",
      "        data.append( [(i+1)*20,",
      "                      (j+1)*20, ",
      "                      (400/(abs(i-10) + abs(j-10) + 1))**0.5,",
      "                      (abs(i-10) + abs(j-10) + 5)/22.0])",
      "",
      "js2 =\\",
      "\"\"\"",
      "var svg = d3.select(\"#chart\").select(\"svg\")",
      "d3.selectAll(\"circle\")",
      "    .data(%s)",
      "    .transition()",
      "    .duration(5000)",
      "    .attr(\"cy\", function(d,i) {return d[0];})",
      "    .attr(\"cx\", function(d,i) {return d[1];})",
      "    .attr(\"r\", function(d,i) {return d[2];})",
      "    .attr(\"fill-opacity\",function(d,i) {return d[3];});",
      "        ",
      "\"\"\" % (json.dumps(data))",
      "send_js(js2)"
     ],
     "language": "python",
     "outputs": [],
     "prompt_number": 7
    },
    {
     "cell_type": "markdown",
     "source": [
      "Using the python notebook to combing two javascript executions."
     ]
    },
    {
     "cell_type": "code",
     "collapsed": true,
     "input": [
      "send_js(js1)",
      "time.sleep(5)",
      "send_js(js2)",
      "time.sleep(5)"
     ],
     "language": "python",
     "outputs": [],
     "prompt_number": 8
    },
    {
     "cell_type": "markdown",
     "source": [
      "Slightly more fancy examples.",
      "",
      "<img src=\"http://localhost:8888/files/images/screenshot_4.jpg\"/>"
     ]
    },
    {
     "cell_type": "code",
     "collapsed": true,
     "input": [
      "import math",
      "data1 = []",
      "data2 = []",
      "for i in range(21):",
      "    for j in range(21):",
      "        data1.append( [(i+j)* math.sin(i+j)*3+220,",
      "                      (i+j)* math.cos(i+j)*3+220, ",
      "                      (40.0/(i+j+1)**0.5),",
      "                      (abs(i+j))/250.0])",
      "        data2.append( [(i+j)* math.cos(i+j)*3+220,",
      "                      (i+j)* math.sin(i+j)*3+220, ",
      "                      (40.0/(i+j+1)**0.5),",
      "                      (abs(i+j))/250.0])",
      "",
      "js3_t =\\",
      "\"\"\"",
      "var svg = d3.select(\"#chart\").select(\"svg\")",
      "d3.selectAll(\"circle\")",
      "    .data(%s)",
      "    .transition()",
      "    .duration(5000)",
      "    .attr(\"cy\", function(d,i) {return d[0];})",
      "    .attr(\"cx\", function(d,i) {return d[1];})",
      "    .attr(\"r\", function(d,i) {return d[2];})",
      "    .attr(\"fill-opacity\",function(d,i) {return d[3];});",
      "        ",
      "\"\"\"",
      "js3_1 = js3_t % json.dumps(data1)",
      "js3_2 = js3_t % json.dumps(data2)",
      "",
      "send_js(js3_1)",
      "time.sleep(5)",
      "send_js(js3_2)"
     ],
     "language": "python",
     "outputs": [],
     "prompt_number": 9
    },
    {
     "cell_type": "code",
     "collapsed": true,
     "input": [
      "send_js(js1)",
      "time.sleep(5)",
      "send_js(js2)",
      "time.sleep(7)",
      "send_js(js3_1)"
     ],
     "language": "python",
     "outputs": [],
     "prompt_number": 10
    },
    {
     "cell_type": "markdown",
     "source": [
      "Using Python loop to show animations indefinitely until interrupted.  "
     ]
    },
    {
     "cell_type": "code",
     "collapsed": false,
     "input": [
      "while 1:",
      "    send_js(js2)",
      "    time.sleep(5)",
      "    send_js(js3_1)",
      "    time.sleep(6)",
      "    send_js(js3_2)",
      "    time.sleep(6)",
      "    send_js(js2)",
      "    time.sleep(5)",
      "    send_js(js3_2)",
      "    time.sleep(6)",
      "    send_js(js3_1)",
      "    time.sleep(6)",
      "    "
     ],
     "language": "python",
     "outputs": [],
     "prompt_number": 56
    },
    {
     "cell_type": "code",
     "collapsed": true,
     "input": [],
     "language": "python",
     "outputs": []
    }
   ]
  }
 ]
}